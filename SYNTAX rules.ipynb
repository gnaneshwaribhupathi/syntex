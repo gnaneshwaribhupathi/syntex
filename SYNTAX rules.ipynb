{
 "cells": [
  {
   "cell_type": "code",
   "execution_count": 1,
   "id": "5d885451",
   "metadata": {},
   "outputs": [],
   "source": [
    "#STATEMENT:instructions which a python interpreter can execute"
   ]
  },
  {
   "cell_type": "code",
   "execution_count": 2,
   "id": "a61e206b",
   "metadata": {},
   "outputs": [],
   "source": [
    "#RULE1:SINGLE LINE STATEMENTS :write single statement in a single line"
   ]
  },
  {
   "cell_type": "code",
   "execution_count": 1,
   "id": "8abfe0a5",
   "metadata": {},
   "outputs": [
    {
     "data": {
      "text/plain": [
       "2"
      ]
     },
     "execution_count": 1,
     "metadata": {},
     "output_type": "execute_result"
    }
   ],
   "source": [
    "1+1"
   ]
  },
  {
   "cell_type": "code",
   "execution_count": 2,
   "id": "e1436c6e",
   "metadata": {
    "scrolled": true
   },
   "outputs": [
    {
     "data": {
      "text/plain": [
       "4"
      ]
     },
     "execution_count": 2,
     "metadata": {},
     "output_type": "execute_result"
    }
   ],
   "source": [
    "2+2"
   ]
  },
  {
   "cell_type": "code",
   "execution_count": 3,
   "id": "93758078",
   "metadata": {},
   "outputs": [],
   "source": [
    "#RULE2:MULTIPLE STATEMENTS IN A SINGLE LINE USE(;)"
   ]
  },
  {
   "cell_type": "code",
   "execution_count": 4,
   "id": "0e15bc68",
   "metadata": {},
   "outputs": [
    {
     "name": "stdout",
     "output_type": "stream",
     "text": [
      "2\n",
      "4\n"
     ]
    }
   ],
   "source": [
    "print(1+1);print(2+2)"
   ]
  },
  {
   "cell_type": "code",
   "execution_count": 5,
   "id": "e6c8b20b",
   "metadata": {},
   "outputs": [],
   "source": [
    "#RULE3:SINGLE STATEMENTS IN A MULTIPLE LINES  USE (\\)"
   ]
  },
  {
   "cell_type": "code",
   "execution_count": 6,
   "id": "b52b98ca",
   "metadata": {},
   "outputs": [
    {
     "data": {
      "text/plain": [
       "4"
      ]
     },
     "execution_count": 6,
     "metadata": {},
     "output_type": "execute_result"
    }
   ],
   "source": [
    "2\\\n",
    "+\\\n",
    "2"
   ]
  },
  {
   "cell_type": "code",
   "execution_count": 7,
   "id": "c075e38e",
   "metadata": {},
   "outputs": [],
   "source": [
    "#RULE4:COMMENTS:dont want to execute a statement : COMMENTS ARE TWO TYPES \n",
    "                                                 #SINGLE LINE COMMENTS  USE (#)BEGINNING OF THE STATEMENT\n",
    "                                                 #MULTIPLE LINE COMMENTS USE ('''  ''')OR USE (\"\"\"  \"\"\")at the beginning and at the end \n",
    "                     "
   ]
  },
  {
   "cell_type": "code",
   "execution_count": 8,
   "id": "d52c495f",
   "metadata": {},
   "outputs": [],
   "source": [
    "#apple"
   ]
  },
  {
   "cell_type": "code",
   "execution_count": 9,
   "id": "b3bbd9e2",
   "metadata": {},
   "outputs": [
    {
     "data": {
      "text/plain": [
       "'apple'"
      ]
     },
     "execution_count": 9,
     "metadata": {},
     "output_type": "execute_result"
    }
   ],
   "source": [
    "'''apple'''"
   ]
  },
  {
   "cell_type": "code",
   "execution_count": 10,
   "id": "d886aca7",
   "metadata": {},
   "outputs": [
    {
     "data": {
      "text/plain": [
       "'apple'"
      ]
     },
     "execution_count": 10,
     "metadata": {},
     "output_type": "execute_result"
    }
   ],
   "source": [
    "\"\"\"apple\"\"\""
   ]
  },
  {
   "cell_type": "code",
   "execution_count": 12,
   "id": "aa5d82fa",
   "metadata": {},
   "outputs": [],
   "source": [
    "#RULE5:RESERVED WORDS:particular meaning in the python engine\n",
    "#36 key words \n",
    "#3 words where first character will be capital (TRUE, FALSE,NONE)\n",
    "#REST KEY WORDS ARE IN LOWER CASE"
   ]
  },
  {
   "cell_type": "raw",
   "id": "1ecc1ace",
   "metadata": {},
   "source": [
    "#RULE6:IDENTIFIERS:it is a name given to an object(entity)i.e;single occurence of something \n",
    "VARIABLE:IT IS A CONTAINER WHERE WE CAN STORE DATA "
   ]
  },
  {
   "cell_type": "code",
   "execution_count": 14,
   "id": "6e603bb5",
   "metadata": {},
   "outputs": [],
   "source": [
    "#NAMING CONVENTITION \n",
    "#1RULE:variable name should start with_or an alphabets(abc)(ABC)\n",
    "    \n",
    "#2RULE:variable name should not start with a number or special symbols\n",
    "    \n",
    "#3RULE:it can be a combination of alphabets and numbers\n",
    "    \n",
    "#4RULE:variable name should not have any special symbols\n",
    "    \n",
    "#5RULE:sensitive language (python is a case sensitive programming  language)    "
   ]
  },
  {
   "cell_type": "code",
   "execution_count": 15,
   "id": "0ebd4733",
   "metadata": {},
   "outputs": [],
   "source": [
    "#positive slicing:in the string value starts from 0 if we go from left to right\n",
    "#negative slicing:in the string value starts from -1 if we go from right to left(ending index will not be included)\n",
    "#NOTE:python engine will always go from left to right "
   ]
  },
  {
   "cell_type": "code",
   "execution_count": 16,
   "id": "2c4bbf98",
   "metadata": {},
   "outputs": [
    {
     "data": {
      "text/plain": [
       "'cdef'"
      ]
     },
     "execution_count": 16,
     "metadata": {},
     "output_type": "execute_result"
    }
   ],
   "source": [
    "x=\"abcdef@\"\n",
    "x[2:6]"
   ]
  },
  {
   "cell_type": "code",
   "execution_count": 17,
   "id": "47d098cc",
   "metadata": {},
   "outputs": [
    {
     "data": {
      "text/plain": [
       "'bcdefgh'"
      ]
     },
     "execution_count": 17,
     "metadata": {},
     "output_type": "execute_result"
    }
   ],
   "source": [
    "x=\"abcdefgh@\"\n",
    "x[-8:-1]"
   ]
  },
  {
   "cell_type": "code",
   "execution_count": 18,
   "id": "fd88b0fb",
   "metadata": {},
   "outputs": [
    {
     "data": {
      "text/plain": [
       "'bhupathi'"
      ]
     },
     "execution_count": 18,
     "metadata": {},
     "output_type": "execute_result"
    }
   ],
   "source": [
    "x=\"bhupathi\"\n",
    "x[-8: ]"
   ]
  },
  {
   "cell_type": "code",
   "execution_count": 19,
   "id": "17f86e33",
   "metadata": {},
   "outputs": [],
   "source": [
    "#STRING METHODS:we use (.)in the string methods"
   ]
  },
  {
   "cell_type": "code",
   "execution_count": 20,
   "id": "673e8507",
   "metadata": {},
   "outputs": [],
   "source": [
    "#1:UPPER():this method will convert all lowercase alphabets into uppercase alphabets inside the string."
   ]
  },
  {
   "cell_type": "code",
   "execution_count": 21,
   "id": "058310cc",
   "metadata": {},
   "outputs": [
    {
     "data": {
      "text/plain": [
       "'ABCDEFGH'"
      ]
     },
     "execution_count": 21,
     "metadata": {},
     "output_type": "execute_result"
    }
   ],
   "source": [
    "var1=\"abcdefgh\"\n",
    "var1.upper()"
   ]
  },
  {
   "cell_type": "code",
   "execution_count": 22,
   "id": "e682d55e",
   "metadata": {},
   "outputs": [
    {
     "data": {
      "text/plain": [
       "'ABCDDEFG'"
      ]
     },
     "execution_count": 22,
     "metadata": {},
     "output_type": "execute_result"
    }
   ],
   "source": [
    "var2=\"abcdDEFG\"\n",
    "var2.upper()"
   ]
  },
  {
   "cell_type": "code",
   "execution_count": 23,
   "id": "dbf337a0",
   "metadata": {},
   "outputs": [],
   "source": [
    "#2LOWER():will convert uppercase alphabets into lowercase alphabets in the string"
   ]
  },
  {
   "cell_type": "code",
   "execution_count": 24,
   "id": "dedc5f15",
   "metadata": {},
   "outputs": [
    {
     "data": {
      "text/plain": [
       "'abcdefgh'"
      ]
     },
     "execution_count": 24,
     "metadata": {},
     "output_type": "execute_result"
    }
   ],
   "source": [
    "var3=\"ABCDEFGH\"\n",
    "var3.lower()"
   ]
  },
  {
   "cell_type": "code",
   "execution_count": 25,
   "id": "ebafb0be",
   "metadata": {},
   "outputs": [
    {
     "data": {
      "text/plain": [
       "'bhupathi'"
      ]
     },
     "execution_count": 25,
     "metadata": {},
     "output_type": "execute_result"
    }
   ],
   "source": [
    "var4=\"BHUPathi\"\n",
    "var4.lower()"
   ]
  },
  {
   "cell_type": "code",
   "execution_count": 26,
   "id": "c170e4f4",
   "metadata": {},
   "outputs": [
    {
     "data": {
      "text/plain": [
       "'bhupat@12'"
      ]
     },
     "execution_count": 26,
     "metadata": {},
     "output_type": "execute_result"
    }
   ],
   "source": [
    "var5=\"bhupat@12\"\n",
    "var5.lower()"
   ]
  },
  {
   "cell_type": "code",
   "execution_count": 29,
   "id": "44d0f5ff",
   "metadata": {},
   "outputs": [],
   "source": [
    "#3CAPITALIZE():will convert the first character in a string into uppercase and rest of the characters\n",
    "#will be in lower case."
   ]
  },
  {
   "cell_type": "code",
   "execution_count": 30,
   "id": "ca8b01e4",
   "metadata": {},
   "outputs": [
    {
     "data": {
      "text/plain": [
       "'Askmethedoubt123'"
      ]
     },
     "execution_count": 30,
     "metadata": {},
     "output_type": "execute_result"
    }
   ],
   "source": [
    "var4=\"askmethedoubt123\"\n",
    "var4.capitalize()"
   ]
  },
  {
   "cell_type": "code",
   "execution_count": 31,
   "id": "47cc0070",
   "metadata": {},
   "outputs": [
    {
     "data": {
      "text/plain": [
       "'Bhupathi'"
      ]
     },
     "execution_count": 31,
     "metadata": {},
     "output_type": "execute_result"
    }
   ],
   "source": [
    "var5=\"bhupathi\"\n",
    "var5.capitalize()"
   ]
  },
  {
   "cell_type": "code",
   "execution_count": 32,
   "id": "31b7a1f9",
   "metadata": {},
   "outputs": [
    {
     "data": {
      "text/plain": [
       "'1Gnan'"
      ]
     },
     "execution_count": 32,
     "metadata": {},
     "output_type": "execute_result"
    }
   ],
   "source": [
    "var6=\"1gnan\"\n",
    "var6.title()"
   ]
  },
  {
   "cell_type": "code",
   "execution_count": 33,
   "id": "6f54b7c0",
   "metadata": {},
   "outputs": [],
   "source": [
    "#4TITLE():This method will convert the first character of a word inside the string into upper case alphabet."
   ]
  },
  {
   "cell_type": "code",
   "execution_count": 34,
   "id": "7a2f4870",
   "metadata": {},
   "outputs": [
    {
     "data": {
      "text/plain": [
       "'Python Java Visual'"
      ]
     },
     "execution_count": 34,
     "metadata": {},
     "output_type": "execute_result"
    }
   ],
   "source": [
    "var4=\"python java visual\"\n",
    "var4.title()"
   ]
  },
  {
   "cell_type": "code",
   "execution_count": 35,
   "id": "853d2632",
   "metadata": {},
   "outputs": [
    {
     "data": {
      "text/plain": [
       "'1Python Java Visual'"
      ]
     },
     "execution_count": 35,
     "metadata": {},
     "output_type": "execute_result"
    }
   ],
   "source": [
    "var5=\"1python java visual\"\n",
    "var5.title()"
   ]
  },
  {
   "cell_type": "code",
   "execution_count": 36,
   "id": "afa7f023",
   "metadata": {},
   "outputs": [
    {
     "data": {
      "text/plain": [
       "'1Python 2Java 3Visual'"
      ]
     },
     "execution_count": 36,
     "metadata": {},
     "output_type": "execute_result"
    }
   ],
   "source": [
    "var6=\"1python 2java 3visual\"\n",
    "var6.title()"
   ]
  },
  {
   "cell_type": "code",
   "execution_count": 37,
   "id": "df2634f4",
   "metadata": {},
   "outputs": [],
   "source": [
    "#5SWAPCASE:will convert uppercase characters in a string into lowercase characters and viceversa."
   ]
  },
  {
   "cell_type": "code",
   "execution_count": 38,
   "id": "8a31e9ad",
   "metadata": {},
   "outputs": [
    {
     "data": {
      "text/plain": [
       "'BHUPathi'"
      ]
     },
     "execution_count": 38,
     "metadata": {},
     "output_type": "execute_result"
    }
   ],
   "source": [
    "var6=\"bhupATHI\"\n",
    "var6.swapcase()"
   ]
  },
  {
   "cell_type": "code",
   "execution_count": 39,
   "id": "ef27db68",
   "metadata": {},
   "outputs": [
    {
     "data": {
      "text/plain": [
       "'ASD@#$SSWbhem'"
      ]
     },
     "execution_count": 39,
     "metadata": {},
     "output_type": "execute_result"
    }
   ],
   "source": [
    "var7=\"asd@#$sswBHEM\"\n",
    "var7.swapcase()"
   ]
  },
  {
   "cell_type": "code",
   "execution_count": 40,
   "id": "2fb9d683",
   "metadata": {},
   "outputs": [],
   "source": [
    "#CONCATENATION:this (+)symbol is used in combining multiple strings into a single string."
   ]
  },
  {
   "cell_type": "code",
   "execution_count": 41,
   "id": "618061cd",
   "metadata": {},
   "outputs": [
    {
     "data": {
      "text/plain": [
       "'bhupathignaneshwari'"
      ]
     },
     "execution_count": 41,
     "metadata": {},
     "output_type": "execute_result"
    }
   ],
   "source": [
    "var8=\"bhupathi\"\n",
    "var9=\"gnaneshwari\"\n",
    "var8+var9"
   ]
  },
  {
   "cell_type": "code",
   "execution_count": 42,
   "id": "23547214",
   "metadata": {},
   "outputs": [
    {
     "data": {
      "text/plain": [
       "'innomatitics'"
      ]
     },
     "execution_count": 42,
     "metadata": {},
     "output_type": "execute_result"
    }
   ],
   "source": [
    "var1=\"inno\"\n",
    "var2=\"mati\"\n",
    "var3=\"tics\"\n",
    "var1+var2+var3"
   ]
  },
  {
   "cell_type": "code",
   "execution_count": 43,
   "id": "df5e4eeb",
   "metadata": {},
   "outputs": [],
   "source": [
    "#6COUNT():will count how many times a character is present inside a string"
   ]
  },
  {
   "cell_type": "code",
   "execution_count": 44,
   "id": "8d0113b0",
   "metadata": {},
   "outputs": [
    {
     "data": {
      "text/plain": [
       "5"
      ]
     },
     "execution_count": 44,
     "metadata": {},
     "output_type": "execute_result"
    }
   ],
   "source": [
    "x=\"aaaabdcfeha\"\n",
    "x.count(\"a\")"
   ]
  },
  {
   "cell_type": "code",
   "execution_count": 45,
   "id": "f6f4a386",
   "metadata": {},
   "outputs": [
    {
     "data": {
      "text/plain": [
       "4"
      ]
     },
     "execution_count": 45,
     "metadata": {},
     "output_type": "execute_result"
    }
   ],
   "source": [
    "x=\"abababcdcdefghiab\"\n",
    "x.count(\"ab\")"
   ]
  },
  {
   "cell_type": "code",
   "execution_count": 46,
   "id": "473aff05",
   "metadata": {},
   "outputs": [],
   "source": [
    "#starting index and ending index "
   ]
  },
  {
   "cell_type": "code",
   "execution_count": 47,
   "id": "5b0c58d9",
   "metadata": {},
   "outputs": [
    {
     "data": {
      "text/plain": [
       "3"
      ]
     },
     "execution_count": 47,
     "metadata": {},
     "output_type": "execute_result"
    }
   ],
   "source": [
    "x=\"abcdaaa\"\n",
    "x.count(\"a\",3,7)"
   ]
  },
  {
   "cell_type": "code",
   "execution_count": 48,
   "id": "f4529bdc",
   "metadata": {},
   "outputs": [
    {
     "data": {
      "text/plain": [
       "5"
      ]
     },
     "execution_count": 48,
     "metadata": {},
     "output_type": "execute_result"
    }
   ],
   "source": [
    "x=\"bbbcefghibb\"\n",
    "x.count(\"b\",0,11)"
   ]
  },
  {
   "cell_type": "code",
   "execution_count": 49,
   "id": "af81d98a",
   "metadata": {},
   "outputs": [],
   "source": [
    "#7REPLACE():TO replace a single or sequence of characters in a string"
   ]
  },
  {
   "cell_type": "code",
   "execution_count": 50,
   "id": "85250891",
   "metadata": {},
   "outputs": [
    {
     "data": {
      "text/plain": [
       "'@b@@def'"
      ]
     },
     "execution_count": 50,
     "metadata": {},
     "output_type": "execute_result"
    }
   ],
   "source": [
    "x=\"abaadef\"\n",
    "x.replace(\"a\",\"@\")"
   ]
  },
  {
   "cell_type": "code",
   "execution_count": 51,
   "id": "aa651185",
   "metadata": {},
   "outputs": [
    {
     "data": {
      "text/plain": [
       "'after#oo#ato#epm'"
      ]
     },
     "execution_count": 51,
     "metadata": {},
     "output_type": "execute_result"
    }
   ],
   "source": [
    "x=\"afternoonatonepm\"\n",
    "x.replace(\"n\",\"#\")"
   ]
  },
  {
   "cell_type": "code",
   "execution_count": 52,
   "id": "8223734f",
   "metadata": {},
   "outputs": [
    {
     "data": {
      "text/plain": [
       "'banana'"
      ]
     },
     "execution_count": 52,
     "metadata": {},
     "output_type": "execute_result"
    }
   ],
   "source": [
    "x=\"b@n@n@\"\n",
    "x.replace(\"@\",\"a\")"
   ]
  },
  {
   "cell_type": "code",
   "execution_count": 53,
   "id": "aee78d95",
   "metadata": {},
   "outputs": [
    {
     "data": {
      "text/plain": [
       "'@dddssvsd@@@a'"
      ]
     },
     "execution_count": 53,
     "metadata": {},
     "output_type": "execute_result"
    }
   ],
   "source": [
    "x=\"adddssvsdaaaa\"\n",
    "x.replace(\"a\",\"@\",4)"
   ]
  },
  {
   "cell_type": "code",
   "execution_count": 54,
   "id": "13a4049b",
   "metadata": {},
   "outputs": [
    {
     "data": {
      "text/plain": [
       "'abdd@svsdaaaa'"
      ]
     },
     "execution_count": 54,
     "metadata": {},
     "output_type": "execute_result"
    }
   ],
   "source": [
    "x=\"abddssvsdaaaa\"\n",
    "x.replace(\"s\",\"@\",1)"
   ]
  },
  {
   "cell_type": "code",
   "execution_count": 55,
   "id": "6e2b6981",
   "metadata": {},
   "outputs": [],
   "source": [
    "#8INDEX():will return the index value of a character occuring at first instance."
   ]
  },
  {
   "cell_type": "code",
   "execution_count": 56,
   "id": "18e86000",
   "metadata": {},
   "outputs": [
    {
     "data": {
      "text/plain": [
       "0"
      ]
     },
     "execution_count": 56,
     "metadata": {},
     "output_type": "execute_result"
    }
   ],
   "source": [
    "x=\"abssdfghavaa\"\n",
    "x.index(\"a\")"
   ]
  },
  {
   "cell_type": "code",
   "execution_count": 57,
   "id": "d9fb3984",
   "metadata": {},
   "outputs": [
    {
     "data": {
      "text/plain": [
       "8"
      ]
     },
     "execution_count": 57,
     "metadata": {},
     "output_type": "execute_result"
    }
   ],
   "source": [
    "x=\"abdssfghaaav\"\n",
    "x.index(\"a\",1)"
   ]
  },
  {
   "cell_type": "code",
   "execution_count": 58,
   "id": "e6d99227",
   "metadata": {},
   "outputs": [],
   "source": [
    "#9FIND():Index value of a character occuring at first instance "
   ]
  },
  {
   "cell_type": "code",
   "execution_count": 59,
   "id": "1e666b00",
   "metadata": {},
   "outputs": [
    {
     "data": {
      "text/plain": [
       "6"
      ]
     },
     "execution_count": 59,
     "metadata": {},
     "output_type": "execute_result"
    }
   ],
   "source": [
    "var1=\"abddssvsdaaaa\"\n",
    "var1.find(\"v\")"
   ]
  },
  {
   "cell_type": "code",
   "execution_count": 60,
   "id": "84e76bb9",
   "metadata": {},
   "outputs": [
    {
     "data": {
      "text/plain": [
       "-1"
      ]
     },
     "execution_count": 60,
     "metadata": {},
     "output_type": "execute_result"
    }
   ],
   "source": [
    "var1=\"abssvdfghj\"\n",
    "var1.find(\"@\")"
   ]
  },
  {
   "cell_type": "code",
   "execution_count": 61,
   "id": "ed09d302",
   "metadata": {},
   "outputs": [],
   "source": [
    "#10SPLIT:This method splits the string into substrings"
   ]
  },
  {
   "cell_type": "code",
   "execution_count": 62,
   "id": "a9c89629",
   "metadata": {},
   "outputs": [
    {
     "data": {
      "text/plain": [
       "['python', 'java', 'c', 'c++', 'visual']"
      ]
     },
     "execution_count": 62,
     "metadata": {},
     "output_type": "execute_result"
    }
   ],
   "source": [
    "var3=\"python  java c  c++ visual\"\n",
    "var3.split()"
   ]
  },
  {
   "cell_type": "code",
   "execution_count": 63,
   "id": "4a3905c9",
   "metadata": {},
   "outputs": [
    {
     "data": {
      "text/plain": [
       "['python', 'java', 'c', 'c++', 'visual']"
      ]
     },
     "execution_count": 63,
     "metadata": {},
     "output_type": "execute_result"
    }
   ],
   "source": [
    "var4=\"python@java@c@c++@visual\"\n",
    "var4.split(\"@\")"
   ]
  },
  {
   "cell_type": "code",
   "execution_count": 64,
   "id": "adcc8d09",
   "metadata": {},
   "outputs": [],
   "source": [
    "x=var4"
   ]
  },
  {
   "cell_type": "code",
   "execution_count": 65,
   "id": "579d1a3d",
   "metadata": {},
   "outputs": [
    {
     "data": {
      "text/plain": [
       "1"
      ]
     },
     "execution_count": 65,
     "metadata": {},
     "output_type": "execute_result"
    }
   ],
   "source": [
    "var4.count(x)"
   ]
  },
  {
   "cell_type": "code",
   "execution_count": 66,
   "id": "7426e702",
   "metadata": {},
   "outputs": [],
   "source": [
    "#11PARTITION():Splits into three parts (#before, #value ,#after)"
   ]
  },
  {
   "cell_type": "code",
   "execution_count": 67,
   "id": "556e5274",
   "metadata": {},
   "outputs": [
    {
     "data": {
      "text/plain": [
       "('a b ', 'c', ' d e f')"
      ]
     },
     "execution_count": 67,
     "metadata": {},
     "output_type": "execute_result"
    }
   ],
   "source": [
    "x=\"a b c d e f\"\n",
    "x.partition(\"c\")"
   ]
  },
  {
   "cell_type": "code",
   "execution_count": 68,
   "id": "bb16f673",
   "metadata": {},
   "outputs": [
    {
     "data": {
      "text/plain": [
       "('java', ' ', ' python   c++')"
      ]
     },
     "execution_count": 68,
     "metadata": {},
     "output_type": "execute_result"
    }
   ],
   "source": [
    "x=\"java  python   c++\"\n",
    "x.partition(\" \")"
   ]
  },
  {
   "cell_type": "code",
   "execution_count": 69,
   "id": "644f4af8",
   "metadata": {},
   "outputs": [],
   "source": [
    "#12STRIP():It is used to remove any character from starting and ending of a string.\n",
    "#EACH CHARACTER IS CONSIDERED AS INDIVIDUAL"
   ]
  },
  {
   "cell_type": "code",
   "execution_count": 70,
   "id": "6c448e7f",
   "metadata": {},
   "outputs": [
    {
     "data": {
      "text/plain": [
       "'apple'"
      ]
     },
     "execution_count": 70,
     "metadata": {},
     "output_type": "execute_result"
    }
   ],
   "source": [
    "var3=\"  apple  \"\n",
    "var3.strip()"
   ]
  },
  {
   "cell_type": "code",
   "execution_count": 71,
   "id": "501ca0f6",
   "metadata": {},
   "outputs": [
    {
     "data": {
      "text/plain": [
       "'apple'"
      ]
     },
     "execution_count": 71,
     "metadata": {},
     "output_type": "execute_result"
    }
   ],
   "source": [
    "var4=\"@apple@\"\n",
    "var4.strip(\"@\")"
   ]
  },
  {
   "cell_type": "code",
   "execution_count": 72,
   "id": "8f885b8d",
   "metadata": {},
   "outputs": [
    {
     "data": {
      "text/plain": [
       "'cdef'"
      ]
     },
     "execution_count": 72,
     "metadata": {},
     "output_type": "execute_result"
    }
   ],
   "source": [
    "var5=\"abcdefab\"\n",
    "var5.strip(\"ab\")"
   ]
  },
  {
   "cell_type": "code",
   "execution_count": 73,
   "id": "fc913a5d",
   "metadata": {},
   "outputs": [
    {
     "data": {
      "text/plain": [
       "'abcdef'"
      ]
     },
     "execution_count": 73,
     "metadata": {},
     "output_type": "execute_result"
    }
   ],
   "source": [
    "x1=\"abcdef\"\n",
    "x1"
   ]
  },
  {
   "cell_type": "code",
   "execution_count": 74,
   "id": "cd0795cb",
   "metadata": {},
   "outputs": [
    {
     "data": {
      "text/plain": [
       "'AbCdEf'"
      ]
     },
     "execution_count": 74,
     "metadata": {},
     "output_type": "execute_result"
    }
   ],
   "source": [
    "x1[0].upper()+x1[1]+x1[2].upper()+x1[3]+x1[4].upper()+x1[5]"
   ]
  },
  {
   "cell_type": "code",
   "execution_count": 75,
   "id": "0ee4ed65",
   "metadata": {},
   "outputs": [],
   "source": [
    "#13STARTSWITH():It is mainly used to find whether your string is starting with specified character(GIVES ANS AS TRUE OR FALSE)"
   ]
  },
  {
   "cell_type": "code",
   "execution_count": 76,
   "id": "c0735db0",
   "metadata": {},
   "outputs": [
    {
     "data": {
      "text/plain": [
       "True"
      ]
     },
     "execution_count": 76,
     "metadata": {},
     "output_type": "execute_result"
    }
   ],
   "source": [
    "var4=\"abcd@@@@\"\n",
    "var4.startswith(\"a\")"
   ]
  },
  {
   "cell_type": "code",
   "execution_count": 77,
   "id": "fe52c0c2",
   "metadata": {},
   "outputs": [
    {
     "data": {
      "text/plain": [
       "True"
      ]
     },
     "execution_count": 77,
     "metadata": {},
     "output_type": "execute_result"
    }
   ],
   "source": [
    "var5=\"abcdedd222\"\n",
    "var5.startswith(\"b\",1)"
   ]
  },
  {
   "cell_type": "code",
   "execution_count": 78,
   "id": "c172de3a",
   "metadata": {},
   "outputs": [],
   "source": [
    "#14ENDSWITH():It is mainly used to find whether your string in ending with specified character."
   ]
  },
  {
   "cell_type": "code",
   "execution_count": 79,
   "id": "e99a8eac",
   "metadata": {},
   "outputs": [
    {
     "data": {
      "text/plain": [
       "True"
      ]
     },
     "execution_count": 79,
     "metadata": {},
     "output_type": "execute_result"
    }
   ],
   "source": [
    "var4=\"abcd@@@@\"\n",
    "var4.endswith(\"@\")"
   ]
  },
  {
   "cell_type": "code",
   "execution_count": 80,
   "id": "d359dc57",
   "metadata": {},
   "outputs": [
    {
     "data": {
      "text/plain": [
       "True"
      ]
     },
     "execution_count": 80,
     "metadata": {},
     "output_type": "execute_result"
    }
   ],
   "source": [
    "var5=\"abcdefff@@\"\n",
    "var5.endswith(\"@\",9)"
   ]
  },
  {
   "cell_type": "code",
   "execution_count": 81,
   "id": "a7b9dafd",
   "metadata": {},
   "outputs": [],
   "source": [
    "#15ISALPHA():Is to check whether your string is having all characters as alphabets ."
   ]
  },
  {
   "cell_type": "code",
   "execution_count": 82,
   "id": "47c53135",
   "metadata": {},
   "outputs": [
    {
     "data": {
      "text/plain": [
       "True"
      ]
     },
     "execution_count": 82,
     "metadata": {},
     "output_type": "execute_result"
    }
   ],
   "source": [
    "var3=\"asdfghnhhh\"\n",
    "var3.isalpha()"
   ]
  },
  {
   "cell_type": "code",
   "execution_count": 83,
   "id": "cdefadfa",
   "metadata": {},
   "outputs": [
    {
     "data": {
      "text/plain": [
       "False"
      ]
     },
     "execution_count": 83,
     "metadata": {},
     "output_type": "execute_result"
    }
   ],
   "source": [
    "var4=\"12asdfgjjnb\"\n",
    "var4.isalpha()"
   ]
  },
  {
   "cell_type": "code",
   "execution_count": 84,
   "id": "4e059dc4",
   "metadata": {},
   "outputs": [],
   "source": [
    "#16ISDIGIT():Is to check whether your string is having all characters as numeric"
   ]
  },
  {
   "cell_type": "code",
   "execution_count": 85,
   "id": "91551116",
   "metadata": {},
   "outputs": [
    {
     "data": {
      "text/plain": [
       "True"
      ]
     },
     "execution_count": 85,
     "metadata": {},
     "output_type": "execute_result"
    }
   ],
   "source": [
    "var5=\"1234584122\"\n",
    "var5.isdigit()"
   ]
  },
  {
   "cell_type": "code",
   "execution_count": 86,
   "id": "de053bf2",
   "metadata": {},
   "outputs": [
    {
     "data": {
      "text/plain": [
       "False"
      ]
     },
     "execution_count": 86,
     "metadata": {},
     "output_type": "execute_result"
    }
   ],
   "source": [
    "var6=\"asd1248223\"\n",
    "var6.isdigit()"
   ]
  },
  {
   "cell_type": "code",
   "execution_count": 87,
   "id": "e40d06a8",
   "metadata": {},
   "outputs": [],
   "source": [
    "#17ISALNUM():Is to check whether the string has characters as alphabets or numeric"
   ]
  },
  {
   "cell_type": "code",
   "execution_count": 88,
   "id": "371882f5",
   "metadata": {},
   "outputs": [
    {
     "data": {
      "text/plain": [
       "True"
      ]
     },
     "execution_count": 88,
     "metadata": {},
     "output_type": "execute_result"
    }
   ],
   "source": [
    "var2=\"12abggv\"\n",
    "var2.isalnum()"
   ]
  },
  {
   "cell_type": "code",
   "execution_count": 89,
   "id": "a2d16c29",
   "metadata": {},
   "outputs": [],
   "source": [
    "#18ISUPPER():WHETHER THE CHARACTERS IN STRING HAVING UPPERCASE ALPHABETS "
   ]
  },
  {
   "cell_type": "code",
   "execution_count": 90,
   "id": "c7aca9ba",
   "metadata": {},
   "outputs": [
    {
     "data": {
      "text/plain": [
       "False"
      ]
     },
     "execution_count": 90,
     "metadata": {},
     "output_type": "execute_result"
    }
   ],
   "source": [
    "var4=\"ASKosnhh\"\n",
    "var4.isupper()"
   ]
  },
  {
   "cell_type": "code",
   "execution_count": 91,
   "id": "a2d2b9b4",
   "metadata": {},
   "outputs": [
    {
     "data": {
      "text/plain": [
       "True"
      ]
     },
     "execution_count": 91,
     "metadata": {},
     "output_type": "execute_result"
    }
   ],
   "source": [
    "var5=\"ADSHGHB\"\n",
    "var5.isupper()"
   ]
  },
  {
   "cell_type": "code",
   "execution_count": 92,
   "id": "3e8d8383",
   "metadata": {},
   "outputs": [],
   "source": [
    "#19ISLOWER():WHETHER THE CHARACTERS IN THE STRING HAVING LOWERCASE ALPHABETS "
   ]
  },
  {
   "cell_type": "code",
   "execution_count": 93,
   "id": "87f4cfdb",
   "metadata": {},
   "outputs": [
    {
     "data": {
      "text/plain": [
       "True"
      ]
     },
     "execution_count": 93,
     "metadata": {},
     "output_type": "execute_result"
    }
   ],
   "source": [
    "var5=\"asnhb\"\n",
    "var5.islower()"
   ]
  },
  {
   "cell_type": "code",
   "execution_count": 94,
   "id": "dd1e3270",
   "metadata": {},
   "outputs": [
    {
     "data": {
      "text/plain": [
       "False"
      ]
     },
     "execution_count": 94,
     "metadata": {},
     "output_type": "execute_result"
    }
   ],
   "source": [
    "var5=\"ASBBBG\"\n",
    "var5.islower()"
   ]
  },
  {
   "cell_type": "code",
   "execution_count": 95,
   "id": "18c8e651",
   "metadata": {},
   "outputs": [],
   "source": [
    "#20ISTITLE():"
   ]
  },
  {
   "cell_type": "code",
   "execution_count": 96,
   "id": "4ae19e7a",
   "metadata": {},
   "outputs": [
    {
     "data": {
      "text/plain": [
       "True"
      ]
     },
     "execution_count": 96,
     "metadata": {},
     "output_type": "execute_result"
    }
   ],
   "source": [
    "var4=\"Python Java Visual\"\n",
    "var4.istitle()"
   ]
  },
  {
   "cell_type": "code",
   "execution_count": 97,
   "id": "5a3403ec",
   "metadata": {},
   "outputs": [
    {
     "data": {
      "text/plain": [
       "True"
      ]
     },
     "execution_count": 97,
     "metadata": {},
     "output_type": "execute_result"
    }
   ],
   "source": [
    "var5=\"python java visual\"\n",
    "var5.title().istitle()"
   ]
  },
  {
   "cell_type": "code",
   "execution_count": 98,
   "id": "111fab25",
   "metadata": {},
   "outputs": [],
   "source": [
    "#21ISSPACE():is to check whether the characters have space"
   ]
  },
  {
   "cell_type": "code",
   "execution_count": 99,
   "id": "72063a9a",
   "metadata": {},
   "outputs": [
    {
     "data": {
      "text/plain": [
       "True"
      ]
     },
     "execution_count": 99,
     "metadata": {},
     "output_type": "execute_result"
    }
   ],
   "source": [
    "var2=\"   \"\n",
    "var2.isspace()"
   ]
  },
  {
   "cell_type": "code",
   "execution_count": 100,
   "id": "676c3382",
   "metadata": {},
   "outputs": [
    {
     "data": {
      "text/plain": [
       "False"
      ]
     },
     "execution_count": 100,
     "metadata": {},
     "output_type": "execute_result"
    }
   ],
   "source": [
    "var4=\"\"\n",
    "var4.isspace()"
   ]
  },
  {
   "cell_type": "code",
   "execution_count": 101,
   "id": "95a27c5c",
   "metadata": {},
   "outputs": [],
   "source": [
    "#MAKETRANS:This method will make a mapping table which can be used in translate method to translate the characters"
   ]
  },
  {
   "cell_type": "code",
   "execution_count": 102,
   "id": "c3fdff58",
   "metadata": {},
   "outputs": [
    {
     "data": {
      "text/plain": [
       "'@bc@@d!@@###!!!!'"
      ]
     },
     "execution_count": 102,
     "metadata": {},
     "output_type": "execute_result"
    }
   ],
   "source": [
    "var1=\"abcaadiaasssiiii\"\n",
    "table=var1.maketrans(\"asi\",\"@#!\")\n",
    "var1.translate(table)\n"
   ]
  },
  {
   "cell_type": "code",
   "execution_count": 103,
   "id": "c165f692",
   "metadata": {},
   "outputs": [],
   "source": [
    "#LEN():INBUILT FUNCTION NOT METHOD\n",
    "     # IS MAINLY USED TO KNOW HOW MANY CHARACTERS IS PRESENT INSIDE THE STRING "
   ]
  },
  {
   "cell_type": "code",
   "execution_count": 104,
   "id": "97fb88de",
   "metadata": {},
   "outputs": [
    {
     "data": {
      "text/plain": [
       "6"
      ]
     },
     "execution_count": 104,
     "metadata": {},
     "output_type": "execute_result"
    }
   ],
   "source": [
    "var2=\"abcdef\"\n",
    "len(var2)"
   ]
  },
  {
   "cell_type": "code",
   "execution_count": 105,
   "id": "d5a727d7",
   "metadata": {},
   "outputs": [
    {
     "data": {
      "text/plain": [
       "12"
      ]
     },
     "execution_count": 105,
     "metadata": {},
     "output_type": "execute_result"
    }
   ],
   "source": [
    "var3=\"  abcdefgh  \"\n",
    "len(var3)"
   ]
  },
  {
   "cell_type": "code",
   "execution_count": 106,
   "id": "27809b2f",
   "metadata": {},
   "outputs": [
    {
     "data": {
      "text/plain": [
       "8"
      ]
     },
     "execution_count": 106,
     "metadata": {},
     "output_type": "execute_result"
    }
   ],
   "source": [
    "x=\"abcdefgh  \"\n",
    "len(x.strip())"
   ]
  },
  {
   "cell_type": "code",
   "execution_count": 107,
   "id": "e354a8c0",
   "metadata": {},
   "outputs": [],
   "source": [
    "#ISIDENTIFIER():"
   ]
  },
  {
   "cell_type": "code",
   "execution_count": 108,
   "id": "9f9830a7",
   "metadata": {},
   "outputs": [
    {
     "data": {
      "text/plain": [
       "True"
      ]
     },
     "execution_count": 108,
     "metadata": {},
     "output_type": "execute_result"
    }
   ],
   "source": [
    "var4=\"var1\"\n",
    "var4.isidentifier()"
   ]
  },
  {
   "cell_type": "code",
   "execution_count": 109,
   "id": "e9e768b9",
   "metadata": {},
   "outputs": [
    {
     "data": {
      "text/plain": [
       "False"
      ]
     },
     "execution_count": 109,
     "metadata": {},
     "output_type": "execute_result"
    }
   ],
   "source": [
    "var5=\" var1 \"\n",
    "var5.isidentifier()"
   ]
  },
  {
   "cell_type": "code",
   "execution_count": 110,
   "id": "9d09cf96",
   "metadata": {},
   "outputs": [
    {
     "data": {
      "text/plain": [
       "True"
      ]
     },
     "execution_count": 110,
     "metadata": {},
     "output_type": "execute_result"
    }
   ],
   "source": [
    "var5=\"_var1\"\n",
    "var5.isidentifier()"
   ]
  },
  {
   "cell_type": "code",
   "execution_count": 111,
   "id": "819c89ce",
   "metadata": {},
   "outputs": [
    {
     "data": {
      "text/plain": [
       "False"
      ]
     },
     "execution_count": 111,
     "metadata": {},
     "output_type": "execute_result"
    }
   ],
   "source": [
    "var5=\"_var1  \"\n",
    "var5.isidentifier()"
   ]
  },
  {
   "cell_type": "code",
   "execution_count": 112,
   "id": "302b9ad0",
   "metadata": {},
   "outputs": [],
   "source": [
    "#FORMAT:method is used to combine string with another data type like string,int,float,complex"
   ]
  },
  {
   "cell_type": "code",
   "execution_count": 113,
   "id": "708642cb",
   "metadata": {},
   "outputs": [],
   "source": [
    "name=\"gnaneshwari\"\n",
    "age=26"
   ]
  },
  {
   "cell_type": "code",
   "execution_count": 114,
   "id": "08b40df3",
   "metadata": {},
   "outputs": [
    {
     "data": {
      "text/plain": [
       "'my name is gnaneshwari my age  is 26'"
      ]
     },
     "execution_count": 114,
     "metadata": {},
     "output_type": "execute_result"
    }
   ],
   "source": [
    "\"my name is {} my age  is {}\".format(name,age)"
   ]
  },
  {
   "cell_type": "code",
   "execution_count": 115,
   "id": "7c59587f",
   "metadata": {},
   "outputs": [],
   "source": [
    "name=\"gnaneshwari\"\n",
    "age=26\n",
    "height=152.4\n",
    "weight=55.2\n",
    "gender=\"female\""
   ]
  },
  {
   "cell_type": "code",
   "execution_count": 116,
   "id": "9494d517",
   "metadata": {},
   "outputs": [
    {
     "data": {
      "text/plain": [
       "'my name is gnaneshwari my age is 26 my height is 152.4  my weight is 55.2  my gender  is  female'"
      ]
     },
     "execution_count": 116,
     "metadata": {},
     "output_type": "execute_result"
    }
   ],
   "source": [
    "\"my name is {} my age is {} my height is {}  my weight is {}  my gender  is  {}\".format(name,age,height,weight,gender)"
   ]
  },
  {
   "cell_type": "code",
   "execution_count": 117,
   "id": "bfdd7323",
   "metadata": {},
   "outputs": [],
   "source": [
    "#IN FORMAT THE DATA WHICH WE ARE PASSING HAVE INDEX VALUE STARTING FROM 0."
   ]
  },
  {
   "cell_type": "code",
   "execution_count": 119,
   "id": "b704dca9",
   "metadata": {},
   "outputs": [],
   "source": [
    "#STR():will construct string from integer,float,as well as complex\n",
    "#1.string 2.complex 3.float 4.integer"
   ]
  },
  {
   "cell_type": "code",
   "execution_count": 120,
   "id": "fa770138",
   "metadata": {},
   "outputs": [],
   "source": [
    "x=1\n",
    "y=1.1\n",
    "z=1+2j"
   ]
  },
  {
   "cell_type": "code",
   "execution_count": 121,
   "id": "15f939f6",
   "metadata": {},
   "outputs": [
    {
     "data": {
      "text/plain": [
       "'1'"
      ]
     },
     "execution_count": 121,
     "metadata": {},
     "output_type": "execute_result"
    }
   ],
   "source": [
    "str(x)"
   ]
  },
  {
   "cell_type": "code",
   "execution_count": 122,
   "id": "65b2e41d",
   "metadata": {},
   "outputs": [
    {
     "data": {
      "text/plain": [
       "'1.1'"
      ]
     },
     "execution_count": 122,
     "metadata": {},
     "output_type": "execute_result"
    }
   ],
   "source": [
    "str(y)"
   ]
  },
  {
   "cell_type": "code",
   "execution_count": 123,
   "id": "63e04a4a",
   "metadata": {},
   "outputs": [
    {
     "data": {
      "text/plain": [
       "'(1+2j)'"
      ]
     },
     "execution_count": 123,
     "metadata": {},
     "output_type": "execute_result"
    }
   ],
   "source": [
    "str(z)"
   ]
  },
  {
   "cell_type": "code",
   "execution_count": 124,
   "id": "4a115e5d",
   "metadata": {},
   "outputs": [],
   "source": [
    "#int()"
   ]
  },
  {
   "cell_type": "code",
   "execution_count": 125,
   "id": "b00f6bd2",
   "metadata": {},
   "outputs": [
    {
     "data": {
      "text/plain": [
       "1234"
      ]
     },
     "execution_count": 125,
     "metadata": {},
     "output_type": "execute_result"
    }
   ],
   "source": [
    "x=\"1234\"\n",
    "int(x)"
   ]
  },
  {
   "cell_type": "code",
   "execution_count": 126,
   "id": "362cedb7",
   "metadata": {},
   "outputs": [],
   "source": [
    "#ESCAPE CHARACTERS :used to insert the characters which we cannot used in the string \n",
    "#(\\ backward slash)\n",
    "#(/ forward slash)\n",
    "#(\\n new line)\n",
    "#(\\t tab space)0\n",
    "#(\\b backspace)"
   ]
  },
  {
   "cell_type": "code",
   "execution_count": 127,
   "id": "d1457868",
   "metadata": {},
   "outputs": [
    {
     "data": {
      "text/plain": [
       "'hi welome \"to\" python'"
      ]
     },
     "execution_count": 127,
     "metadata": {},
     "output_type": "execute_result"
    }
   ],
   "source": [
    "\"hi welome \\\"to\\\" python\""
   ]
  },
  {
   "cell_type": "code",
   "execution_count": 128,
   "id": "2c20a73d",
   "metadata": {},
   "outputs": [
    {
     "name": "stdout",
     "output_type": "stream",
     "text": [
      "hi welcome\n",
      "to python\n",
      "and java\n"
     ]
    }
   ],
   "source": [
    "print(\"hi welcome\\nto python\\nand java\")"
   ]
  },
  {
   "cell_type": "code",
   "execution_count": 129,
   "id": "9eb00542",
   "metadata": {},
   "outputs": [
    {
     "name": "stdout",
     "output_type": "stream",
     "text": [
      "hi welcome\tto python\t java\n"
     ]
    }
   ],
   "source": [
    "print(\"hi welcome\\tto python\\t java\")"
   ]
  },
  {
   "cell_type": "code",
   "execution_count": 130,
   "id": "d6301424",
   "metadata": {},
   "outputs": [
    {
     "name": "stdout",
     "output_type": "stream",
     "text": [
      "hi welcome  \b  to  python  \b  java\n"
     ]
    }
   ],
   "source": [
    "print(\"hi welcome  \\b  to  python  \\b  java\")"
   ]
  },
  {
   "cell_type": "code",
   "execution_count": 131,
   "id": "7bca1468",
   "metadata": {},
   "outputs": [
    {
     "name": "stdout",
     "output_type": "stream",
     "text": [
      "10\n",
      "12\n"
     ]
    }
   ],
   "source": [
    "x=10\n",
    "y=12\n",
    "print(x,y,sep=\"\\n\")"
   ]
  },
  {
   "cell_type": "code",
   "execution_count": 132,
   "id": "0dd367e7",
   "metadata": {},
   "outputs": [
    {
     "name": "stdout",
     "output_type": "stream",
     "text": [
      "10 12\n"
     ]
    }
   ],
   "source": [
    "x=10\n",
    "y=12\n",
    "print(x,y,sep=\" \")"
   ]
  },
  {
   "cell_type": "code",
   "execution_count": 133,
   "id": "61cba13e",
   "metadata": {},
   "outputs": [
    {
     "name": "stdout",
     "output_type": "stream",
     "text": [
      "10\n",
      "12\n",
      "1000\n",
      "1.1\n"
     ]
    }
   ],
   "source": [
    "x=10\n",
    "y=12\n",
    "print(x,y,1000,1.10,sep=\"\\n\")"
   ]
  },
  {
   "cell_type": "code",
   "execution_count": 134,
   "id": "7ccdd857",
   "metadata": {},
   "outputs": [],
   "source": [
    "x=10"
   ]
  },
  {
   "cell_type": "code",
   "execution_count": 135,
   "id": "8214ef5c",
   "metadata": {},
   "outputs": [
    {
     "data": {
      "text/plain": [
       "int"
      ]
     },
     "execution_count": 135,
     "metadata": {},
     "output_type": "execute_result"
    }
   ],
   "source": [
    "type(x)"
   ]
  },
  {
   "cell_type": "code",
   "execution_count": 136,
   "id": "263c4953",
   "metadata": {},
   "outputs": [
    {
     "data": {
      "text/plain": [
       "str"
      ]
     },
     "execution_count": 136,
     "metadata": {},
     "output_type": "execute_result"
    }
   ],
   "source": [
    "x=\"abdsn\"\n",
    "type(x)"
   ]
  },
  {
   "cell_type": "code",
   "execution_count": 137,
   "id": "2af71d4e",
   "metadata": {},
   "outputs": [
    {
     "name": "stdout",
     "output_type": "stream",
     "text": [
      "abdsn 12 hi\n"
     ]
    }
   ],
   "source": [
    "print(x,end=\" \")\n",
    "print(y,end=\" \")\n",
    "print(\"hi\")"
   ]
  },
  {
   "cell_type": "code",
   "execution_count": 138,
   "id": "327caad2",
   "metadata": {},
   "outputs": [],
   "source": [
    "#create five  dynamic variables name age height weight gender"
   ]
  },
  {
   "cell_type": "code",
   "execution_count": 139,
   "id": "b8aa2f73",
   "metadata": {},
   "outputs": [
    {
     "name": "stdout",
     "output_type": "stream",
     "text": [
      "my name is gnaneshwari\n",
      "my age is 26\n",
      "my height is 156.2\n",
      "my weight is 52.2\n",
      "my gender is female\n"
     ]
    },
    {
     "data": {
      "text/plain": [
       "'my name is gnaneshwari,my age is 26,my height is  156.2, my weight is 52.2,my gender is female'"
      ]
     },
     "execution_count": 139,
     "metadata": {},
     "output_type": "execute_result"
    }
   ],
   "source": [
    "name=input(\"my name is \" )\n",
    "age=int(input(\"my age is \"))\n",
    "height=float(input(\"my height is \" ))\n",
    "weight=float(input(\"my weight is \" ))\n",
    "gender=input(\"my gender is \")\n",
    "bio_data=\"my name is {},my age is {},my height is  {}, my weight is {},my gender is {}\"\n",
    "bio_data.format(name,age,height,weight,gender)"
   ]
  },
  {
   "cell_type": "code",
   "execution_count": 140,
   "id": "3e56dd78",
   "metadata": {},
   "outputs": [
    {
     "name": "stdout",
     "output_type": "stream",
     "text": [
      "my name is gnaneshwari\n"
     ]
    }
   ],
   "source": [
    "name=input(\"my name is \")"
   ]
  },
  {
   "cell_type": "code",
   "execution_count": 141,
   "id": "690417fb",
   "metadata": {},
   "outputs": [
    {
     "name": "stdout",
     "output_type": "stream",
     "text": [
      "my age is 26\n"
     ]
    }
   ],
   "source": [
    "age=int(input(\"my age is \"))"
   ]
  },
  {
   "cell_type": "code",
   "execution_count": 142,
   "id": "85dd4391",
   "metadata": {},
   "outputs": [
    {
     "name": "stdout",
     "output_type": "stream",
     "text": [
      "my height is 152.5\n"
     ]
    }
   ],
   "source": [
    "height=float(input(\"my height is \"))"
   ]
  },
  {
   "cell_type": "code",
   "execution_count": 143,
   "id": "7c91652c",
   "metadata": {},
   "outputs": [
    {
     "name": "stdout",
     "output_type": "stream",
     "text": [
      "my weight is 55.2\n"
     ]
    }
   ],
   "source": [
    "weight=float(input(\"my weight is \"))"
   ]
  },
  {
   "cell_type": "code",
   "execution_count": 144,
   "id": "af79b26d",
   "metadata": {},
   "outputs": [
    {
     "name": "stdout",
     "output_type": "stream",
     "text": [
      "my gender is female\n"
     ]
    }
   ],
   "source": [
    "gender=input(\"my gender is \")"
   ]
  },
  {
   "cell_type": "code",
   "execution_count": 145,
   "id": "358812ca",
   "metadata": {},
   "outputs": [
    {
     "name": "stdout",
     "output_type": "stream",
     "text": [
      " book title is polity\n",
      "author name islaxmikanth\n",
      "no of copies produced1000\n",
      "each book weights 26.2\n",
      "no of copies sold525\n"
     ]
    },
    {
     "data": {
      "text/plain": [
       "'book title is polity,author name is laxmikanth,no of copies produced 1000,each book weight26.2,no of copies sold525'"
      ]
     },
     "execution_count": 145,
     "metadata": {},
     "output_type": "execute_result"
    }
   ],
   "source": [
    "booktitle=input(\" book title is \")\n",
    "author=input(\"author name is\" )\n",
    "copies=int(input(\"no of copies produced\" ))\n",
    "weight=float(input(\"each book weights \"))\n",
    "sold=int(input(\"no of copies sold\"))\n",
    "books_store=\"book title is {},author name is {},no of copies produced {},each book weight{},no of copies sold{}\"\n",
    "books_store.format(booktitle,author,copies,weight,sold)"
   ]
  },
  {
   "cell_type": "code",
   "execution_count": 148,
   "id": "71ac3089",
   "metadata": {},
   "outputs": [
    {
     "name": "stdout",
     "output_type": "stream",
     "text": [
      "book title is :\n",
      " bagavatgita\n",
      "author name is :\n",
      " vyasamaharshi\n",
      "no of copies produced :\n",
      " 20000\n",
      "each book weights :\n",
      " 55.2\n",
      "no of copies sold :\n",
      " 15000\n"
     ]
    },
    {
     "data": {
      "text/plain": [
       "'book title is bagavatgita,\\n author name is vyasamaharshi,\\n no of copies produced 20000,\\n each book weights 55.2,\\n no of copies sold 15000'"
      ]
     },
     "execution_count": 148,
     "metadata": {},
     "output_type": "execute_result"
    }
   ],
   "source": [
    "booktitle=input(\"book title is :\\n \")\n",
    "author=input(\"author name is :\\n \")\n",
    "copies=int(input(\"no of copies produced :\\n \"))\n",
    "weight=float(input(\"each book weights :\\n \"))\n",
    "sold=int(input(\"no of copies sold :\\n \"))\n",
    "books_store=\"book title is {},\\n author name is {},\\n no of copies produced {},\\n each book weights {},\\n no of copies sold {}\"\n",
    "books_store.format(booktitle,author,copies,weight,sold)"
   ]
  },
  {
   "cell_type": "code",
   "execution_count": 149,
   "id": "73b5f7c2",
   "metadata": {},
   "outputs": [
    {
     "name": "stdout",
     "output_type": "stream",
     "text": [
      "bagavatgita vyasamaharshi 20000 55.2 15000\n"
     ]
    }
   ],
   "source": [
    "print( booktitle,author,copies,weight,sold)"
   ]
  },
  {
   "cell_type": "code",
   "execution_count": 150,
   "id": "1b9e8068",
   "metadata": {},
   "outputs": [
    {
     "data": {
      "text/plain": [
       "'bhupathi'"
      ]
     },
     "execution_count": 150,
     "metadata": {},
     "output_type": "execute_result"
    }
   ],
   "source": [
    "var1=\"bhupathi\"\n",
    "var1"
   ]
  },
  {
   "cell_type": "code",
   "execution_count": 151,
   "id": "dfedbd60",
   "metadata": {},
   "outputs": [
    {
     "data": {
      "text/plain": [
       "'BhUpAtHi'"
      ]
     },
     "execution_count": 151,
     "metadata": {},
     "output_type": "execute_result"
    }
   ],
   "source": [
    "var1[0].upper()+var1[1]+var1[2].upper()+var1[3]+var1[4].upper()+var1[5]+var1[6].upper()+var1[7]"
   ]
  },
  {
   "cell_type": "code",
   "execution_count": 152,
   "id": "8da17843",
   "metadata": {},
   "outputs": [
    {
     "data": {
      "text/plain": [
       "'abcdef'"
      ]
     },
     "execution_count": 152,
     "metadata": {},
     "output_type": "execute_result"
    }
   ],
   "source": [
    "var2=\"abcdef\"\n",
    "var2"
   ]
  },
  {
   "cell_type": "code",
   "execution_count": 153,
   "id": "dd881502",
   "metadata": {},
   "outputs": [
    {
     "data": {
      "text/plain": [
       "(3.1+2j)"
      ]
     },
     "execution_count": 153,
     "metadata": {},
     "output_type": "execute_result"
    }
   ],
   "source": [
    "var2=1\n",
    "var3=1.1\n",
    "var4=1+2j\n",
    "var2+var3+var4"
   ]
  },
  {
   "cell_type": "code",
   "execution_count": 154,
   "id": "b2f57986",
   "metadata": {},
   "outputs": [
    {
     "data": {
      "text/plain": [
       "complex"
      ]
     },
     "execution_count": 154,
     "metadata": {},
     "output_type": "execute_result"
    }
   ],
   "source": [
    "x=(3.1+2j)\n",
    "type(x)"
   ]
  },
  {
   "cell_type": "code",
   "execution_count": 156,
   "id": "4f3a48c9",
   "metadata": {},
   "outputs": [
    {
     "name": "stdout",
     "output_type": "stream",
     "text": [
      "my name is gnaneshwari\n",
      "my job is datascientist\n",
      "my monthly salary is 20000\n",
      "my jod experience is 2\n",
      "my weight is 55.5\n"
     ]
    }
   ],
   "source": [
    "name=input(\"my name is \")\n",
    "job=input(\"my job is \")\n",
    "salary=int(input(\"my monthly salary is \"))\n",
    "experience=int(input(\"my jod experience is \"))\n",
    "weight=float(input(\"my weight is \"))\n",
    "bio_data=\"my name is {},my job is {},my monthly salary is {},my job experience is {},my weight is {}\""
   ]
  },
  {
   "cell_type": "code",
   "execution_count": 157,
   "id": "6119f9e0",
   "metadata": {},
   "outputs": [
    {
     "name": "stdout",
     "output_type": "stream",
     "text": [
      "gnaneshwari\n",
      "datascientist\n",
      "20000\n",
      "2\n",
      "55.5\n"
     ]
    }
   ],
   "source": [
    "print(name);print(job);print(salary);print(experience);print(weight)"
   ]
  },
  {
   "cell_type": "code",
   "execution_count": 158,
   "id": "a1b2c543",
   "metadata": {},
   "outputs": [
    {
     "data": {
      "text/plain": [
       "'abcdefghijk'"
      ]
     },
     "execution_count": 158,
     "metadata": {},
     "output_type": "execute_result"
    }
   ],
   "source": [
    "x=\"abcdefghijk\"\n",
    "x[0:2];x[0:3];x[0:4];x[0:5];x[0:11]"
   ]
  },
  {
   "cell_type": "code",
   "execution_count": 159,
   "id": "a62610c1",
   "metadata": {},
   "outputs": [
    {
     "data": {
      "text/plain": [
       "'abcdefghijk'"
      ]
     },
     "execution_count": 159,
     "metadata": {},
     "output_type": "execute_result"
    }
   ],
   "source": [
    "x[-5:-1];x[-12: ]"
   ]
  },
  {
   "cell_type": "code",
   "execution_count": 160,
   "id": "7263faaf",
   "metadata": {},
   "outputs": [
    {
     "name": "stdout",
     "output_type": "stream",
     "text": [
      "gnaneshwari\n",
      "bhupathi\n",
      "anasuyamma\n",
      "pulasetty\n"
     ]
    }
   ],
   "source": [
    "print(\"gnaneshwari\");print(\"bhupathi\");print(\"anasuyamma\");print(\"pulasetty\")"
   ]
  },
  {
   "cell_type": "code",
   "execution_count": 161,
   "id": "52d4178b",
   "metadata": {},
   "outputs": [
    {
     "data": {
      "text/plain": [
       "6"
      ]
     },
     "execution_count": 161,
     "metadata": {},
     "output_type": "execute_result"
    }
   ],
   "source": [
    "2\\\n",
    "+\\\n",
    "4"
   ]
  },
  {
   "cell_type": "code",
   "execution_count": 162,
   "id": "33d0d9d3",
   "metadata": {},
   "outputs": [
    {
     "data": {
      "text/plain": [
       "100"
      ]
     },
     "execution_count": 162,
     "metadata": {},
     "output_type": "execute_result"
    }
   ],
   "source": [
    "152\\\n",
    "-\\\n",
    "52"
   ]
  },
  {
   "cell_type": "code",
   "execution_count": 163,
   "id": "7c102e86",
   "metadata": {},
   "outputs": [
    {
     "data": {
      "text/plain": [
       "308"
      ]
     },
     "execution_count": 163,
     "metadata": {},
     "output_type": "execute_result"
    }
   ],
   "source": [
    "152\\\n",
    "+\\\n",
    "156"
   ]
  },
  {
   "cell_type": "code",
   "execution_count": 164,
   "id": "5f5bfaac",
   "metadata": {},
   "outputs": [
    {
     "data": {
      "text/plain": [
       "'gnaneshwari'"
      ]
     },
     "execution_count": 164,
     "metadata": {},
     "output_type": "execute_result"
    }
   ],
   "source": [
    "\"gnan\\\n",
    "eshw\\\n",
    "ari\""
   ]
  },
  {
   "cell_type": "code",
   "execution_count": 165,
   "id": "4776534a",
   "metadata": {},
   "outputs": [
    {
     "data": {
      "text/plain": [
       "'bhupathi  gnaneshwari sreenivasulu lalitha  sreekanth anasuyamma '"
      ]
     },
     "execution_count": 165,
     "metadata": {},
     "output_type": "execute_result"
    }
   ],
   "source": [
    "\"bhupathi  \\\n",
    "gnaneshwari \\\n",
    "sreenivasulu \\\n",
    "lalitha  \\\n",
    "sreekanth \\\n",
    "anasuyamma \"\n"
   ]
  },
  {
   "cell_type": "code",
   "execution_count": 166,
   "id": "7cb5414e",
   "metadata": {},
   "outputs": [],
   "source": [
    "#bhupathi"
   ]
  },
  {
   "cell_type": "code",
   "execution_count": 167,
   "id": "73505421",
   "metadata": {},
   "outputs": [],
   "source": [
    "x=\"\"\"gnaneshwari bhupathi\"\"\""
   ]
  },
  {
   "cell_type": "code",
   "execution_count": 168,
   "id": "b826c8ee",
   "metadata": {},
   "outputs": [],
   "source": [
    "x='''gnaneshwari bhupathi'''"
   ]
  },
  {
   "cell_type": "code",
   "execution_count": 169,
   "id": "212ffbf6",
   "metadata": {},
   "outputs": [
    {
     "data": {
      "text/plain": [
       "'ABCDEFGHIJKLMNOPQRSTUVWXYZ'"
      ]
     },
     "execution_count": 169,
     "metadata": {},
     "output_type": "execute_result"
    }
   ],
   "source": [
    "var1=\"abcdefghijklmnopqrstuvwxyz\"\n",
    "var1.upper()"
   ]
  },
  {
   "cell_type": "code",
   "execution_count": 170,
   "id": "67bc5683",
   "metadata": {},
   "outputs": [
    {
     "data": {
      "text/plain": [
       "'GNANESHWARI BHUPATHI LEARNING DATA SCIENCE IN INNOMATICS'"
      ]
     },
     "execution_count": 170,
     "metadata": {},
     "output_type": "execute_result"
    }
   ],
   "source": [
    "var2=\"gnaneshwari bhupathi learning data science in innomatics\"\n",
    "var2.upper()"
   ]
  },
  {
   "cell_type": "code",
   "execution_count": 171,
   "id": "bd909959",
   "metadata": {},
   "outputs": [
    {
     "data": {
      "text/plain": [
       "'gnaneshwari is a m.com postgraduate student'"
      ]
     },
     "execution_count": 171,
     "metadata": {},
     "output_type": "execute_result"
    }
   ],
   "source": [
    "var3=\"GNANESHWARI IS A M.COM POSTGRADUATE STUDENT\"\n",
    "var3.lower()"
   ]
  },
  {
   "cell_type": "code",
   "execution_count": 172,
   "id": "70e7cc10",
   "metadata": {},
   "outputs": [
    {
     "data": {
      "text/plain": [
       "'gnnej'"
      ]
     },
     "execution_count": 172,
     "metadata": {},
     "output_type": "execute_result"
    }
   ],
   "source": [
    "var4=\"GNNEJAN\"\n",
    "var4[0:5].lower()"
   ]
  },
  {
   "cell_type": "code",
   "execution_count": 173,
   "id": "a6b89358",
   "metadata": {},
   "outputs": [
    {
     "data": {
      "text/plain": [
       "'gnnejan'"
      ]
     },
     "execution_count": 173,
     "metadata": {},
     "output_type": "execute_result"
    }
   ],
   "source": [
    "var4[-8: ].lower()"
   ]
  },
  {
   "cell_type": "code",
   "execution_count": 174,
   "id": "9b6b2001",
   "metadata": {},
   "outputs": [
    {
     "data": {
      "text/plain": [
       "'GnaneshwariBhupathi'"
      ]
     },
     "execution_count": 174,
     "metadata": {},
     "output_type": "execute_result"
    }
   ],
   "source": [
    "var4=\"gnaneshwari\"\n",
    "var5=\"bhupathi\"\n",
    "var4.capitalize()+var5.capitalize()"
   ]
  },
  {
   "cell_type": "code",
   "execution_count": 175,
   "id": "8fc06fa5",
   "metadata": {},
   "outputs": [
    {
     "data": {
      "text/plain": [
       "'Bhupathi1'"
      ]
     },
     "execution_count": 175,
     "metadata": {},
     "output_type": "execute_result"
    }
   ],
   "source": [
    "var1=\"bhupathi1\"\n",
    "var1.capitalize()"
   ]
  },
  {
   "cell_type": "code",
   "execution_count": 176,
   "id": "d8d96993",
   "metadata": {},
   "outputs": [
    {
     "data": {
      "text/plain": [
       "'Bhupathi  Gnaneshwari  Innomatics'"
      ]
     },
     "execution_count": 176,
     "metadata": {},
     "output_type": "execute_result"
    }
   ],
   "source": [
    "var1=\"bhupathi  gnaneshwari  innomatics\"\n",
    "var1.title()"
   ]
  },
  {
   "cell_type": "code",
   "execution_count": 177,
   "id": "492297a0",
   "metadata": {},
   "outputs": [
    {
     "data": {
      "text/plain": [
       "'0Bhupathi  1Gnaneshwari  2Innomatics'"
      ]
     },
     "execution_count": 177,
     "metadata": {},
     "output_type": "execute_result"
    }
   ],
   "source": [
    "var2=\"0bhupathi  1gnaneshwari  2innomatics\"\n",
    "var2.title()"
   ]
  },
  {
   "cell_type": "code",
   "execution_count": 178,
   "id": "29eda1cc",
   "metadata": {},
   "outputs": [
    {
     "data": {
      "text/plain": [
       "'bhupATHI'"
      ]
     },
     "execution_count": 178,
     "metadata": {},
     "output_type": "execute_result"
    }
   ],
   "source": [
    "var2=\"BHUPathi\"\n",
    "var2.swapcase()"
   ]
  },
  {
   "cell_type": "code",
   "execution_count": 179,
   "id": "1f4ac663",
   "metadata": {},
   "outputs": [
    {
     "data": {
      "text/plain": [
       "'@@BHUpathi'"
      ]
     },
     "execution_count": 179,
     "metadata": {},
     "output_type": "execute_result"
    }
   ],
   "source": [
    "var2=\"@@bhuPATHI\"\n",
    "var2.swapcase()"
   ]
  },
  {
   "cell_type": "code",
   "execution_count": 180,
   "id": "1d42a632",
   "metadata": {},
   "outputs": [
    {
     "data": {
      "text/plain": [
       "'1BHUPAthignaneshwari223'"
      ]
     },
     "execution_count": 180,
     "metadata": {},
     "output_type": "execute_result"
    }
   ],
   "source": [
    "var3=\"1bhupaTHIGNANESHWARI223\"\n",
    "var3.swapcase()"
   ]
  },
  {
   "cell_type": "code",
   "execution_count": 181,
   "id": "6adcb698",
   "metadata": {},
   "outputs": [
    {
     "data": {
      "text/plain": [
       "'gnaneshwaribhupathistudyingdatascience'"
      ]
     },
     "execution_count": 181,
     "metadata": {},
     "output_type": "execute_result"
    }
   ],
   "source": [
    "var4=\"gnaneshwari\"\n",
    "var5=  \"bhupathi\"\n",
    "var6= \"studying\"\n",
    "var7= \"datascience\"\n",
    "var4+var5+var6+var7"
   ]
  },
  {
   "cell_type": "code",
   "execution_count": 182,
   "id": "1e2d4a9e",
   "metadata": {},
   "outputs": [
    {
     "data": {
      "text/plain": [
       "5"
      ]
     },
     "execution_count": 182,
     "metadata": {},
     "output_type": "execute_result"
    }
   ],
   "source": [
    "var5=\"askagainafterattention\"\n",
    "var5.count(\"a\")\n"
   ]
  },
  {
   "cell_type": "code",
   "execution_count": 183,
   "id": "fd83b6df",
   "metadata": {},
   "outputs": [
    {
     "data": {
      "text/plain": [
       "5"
      ]
     },
     "execution_count": 183,
     "metadata": {},
     "output_type": "execute_result"
    }
   ],
   "source": [
    "var5=\"aaanhbwaa\"\n",
    "var5.count(\"a\",0,9)"
   ]
  },
  {
   "cell_type": "code",
   "execution_count": 184,
   "id": "3a63a1b8",
   "metadata": {},
   "outputs": [
    {
     "data": {
      "text/plain": [
       "3"
      ]
     },
     "execution_count": 184,
     "metadata": {},
     "output_type": "execute_result"
    }
   ],
   "source": [
    "var5.count(\"a\",2,9)"
   ]
  },
  {
   "cell_type": "code",
   "execution_count": 185,
   "id": "4f73f04a",
   "metadata": {},
   "outputs": [
    {
     "data": {
      "text/plain": [
       "'@hupathi@hupathi@hupathi'"
      ]
     },
     "execution_count": 185,
     "metadata": {},
     "output_type": "execute_result"
    }
   ],
   "source": [
    "var6=\"bhupathibhupathibhupathi\"\n",
    "var6.replace(\"b\",\"@\")"
   ]
  },
  {
   "cell_type": "code",
   "execution_count": 186,
   "id": "95ab1cc3",
   "metadata": {},
   "outputs": [
    {
     "data": {
      "text/plain": [
       "'@#aa&&^%a#@@'"
      ]
     },
     "execution_count": 186,
     "metadata": {},
     "output_type": "execute_result"
    }
   ],
   "source": [
    "var6=\"@#$$&&^%$#@@\"\n",
    "var6.replace(\"$\",\"a\")"
   ]
  },
  {
   "cell_type": "code",
   "execution_count": 187,
   "id": "45cb6b37",
   "metadata": {},
   "outputs": [
    {
     "data": {
      "text/plain": [
       "'@dbbhhw@@nbd'"
      ]
     },
     "execution_count": 187,
     "metadata": {},
     "output_type": "execute_result"
    }
   ],
   "source": [
    "var5=\"adbbhhwaanbd\"\n",
    "var5.replace(\"a\",\"@\",9)"
   ]
  },
  {
   "cell_type": "code",
   "execution_count": 188,
   "id": "cd95a047",
   "metadata": {},
   "outputs": [
    {
     "data": {
      "text/plain": [
       "'whiteblackismine@'"
      ]
     },
     "execution_count": 188,
     "metadata": {},
     "output_type": "execute_result"
    }
   ],
   "source": [
    "var3=\"blackpinkinyourarea\"\n",
    "var3[0:5].replace(\"black\",\"white\")+var3[5:9].replace(\"pink\",\"black\")+var3[9:11].replace(\"in\",\"is\")+var3[11:15].replace(\"your\",\"mine\")+var3[15: ].replace(\"area\",\"@\")"
   ]
  },
  {
   "cell_type": "code",
   "execution_count": 189,
   "id": "2730e765",
   "metadata": {},
   "outputs": [
    {
     "data": {
      "text/plain": [
       "0"
      ]
     },
     "execution_count": 189,
     "metadata": {},
     "output_type": "execute_result"
    }
   ],
   "source": [
    "var2=\"aabdsenjnj\"\n",
    "var2.index(\"a\")"
   ]
  },
  {
   "cell_type": "code",
   "execution_count": 190,
   "id": "4f406bdc",
   "metadata": {},
   "outputs": [
    {
     "data": {
      "text/plain": [
       "6"
      ]
     },
     "execution_count": 190,
     "metadata": {},
     "output_type": "execute_result"
    }
   ],
   "source": [
    "var2.index(\"n\")"
   ]
  },
  {
   "cell_type": "code",
   "execution_count": 191,
   "id": "70964278",
   "metadata": {},
   "outputs": [
    {
     "data": {
      "text/plain": [
       "7"
      ]
     },
     "execution_count": 191,
     "metadata": {},
     "output_type": "execute_result"
    }
   ],
   "source": [
    "var2.index(\"j\")"
   ]
  },
  {
   "cell_type": "code",
   "execution_count": 192,
   "id": "ea0d3e0a",
   "metadata": {},
   "outputs": [
    {
     "data": {
      "text/plain": [
       "1"
      ]
     },
     "execution_count": 192,
     "metadata": {},
     "output_type": "execute_result"
    }
   ],
   "source": [
    "var2.index(\"a\",1)"
   ]
  },
  {
   "cell_type": "code",
   "execution_count": 193,
   "id": "4fe86826",
   "metadata": {},
   "outputs": [
    {
     "data": {
      "text/plain": [
       "9"
      ]
     },
     "execution_count": 193,
     "metadata": {},
     "output_type": "execute_result"
    }
   ],
   "source": [
    "var12=\"abddssvsdaaaa\"\n",
    "var12.index(\"a\",1)"
   ]
  },
  {
   "cell_type": "code",
   "execution_count": 194,
   "id": "80555044",
   "metadata": {},
   "outputs": [
    {
     "data": {
      "text/plain": [
       "0"
      ]
     },
     "execution_count": 194,
     "metadata": {},
     "output_type": "execute_result"
    }
   ],
   "source": [
    "var2=\"abcdefahanjjaa\"\n",
    "var2.find(\"a\")"
   ]
  },
  {
   "cell_type": "code",
   "execution_count": 195,
   "id": "2300c762",
   "metadata": {},
   "outputs": [
    {
     "data": {
      "text/plain": [
       "-1"
      ]
     },
     "execution_count": 195,
     "metadata": {},
     "output_type": "execute_result"
    }
   ],
   "source": [
    "var2.find(\"#\")"
   ]
  },
  {
   "cell_type": "code",
   "execution_count": 196,
   "id": "832e97a8",
   "metadata": {},
   "outputs": [
    {
     "data": {
      "text/plain": [
       "['gnaneshwari', 'bhupathi', 'innomatics', 'kukatpally']"
      ]
     },
     "execution_count": 196,
     "metadata": {},
     "output_type": "execute_result"
    }
   ],
   "source": [
    "var4=\"gnaneshwari  bhupathi  innomatics  kukatpally\"\n",
    "var4.split()"
   ]
  },
  {
   "cell_type": "code",
   "execution_count": 197,
   "id": "819856d5",
   "metadata": {},
   "outputs": [
    {
     "data": {
      "text/plain": [
       "['1', '2', '2', '4']"
      ]
     },
     "execution_count": 197,
     "metadata": {},
     "output_type": "execute_result"
    }
   ],
   "source": [
    "var4=\"1  2  2  4\"\n",
    "var4.split()"
   ]
  },
  {
   "cell_type": "code",
   "execution_count": 198,
   "id": "356d37af",
   "metadata": {},
   "outputs": [
    {
     "data": {
      "text/plain": [
       "['100000', '200000', '30000', '400000', '500000']"
      ]
     },
     "execution_count": 198,
     "metadata": {},
     "output_type": "execute_result"
    }
   ],
   "source": [
    "var4=\"100000  200000  30000 400000 500000\"\n",
    "var4.split()"
   ]
  },
  {
   "cell_type": "code",
   "execution_count": 199,
   "id": "b0aea070",
   "metadata": {},
   "outputs": [
    {
     "data": {
      "text/plain": [
       "['python', 'java', 'c++', 'c', 'visual', 'sql']"
      ]
     },
     "execution_count": 199,
     "metadata": {},
     "output_type": "execute_result"
    }
   ],
   "source": [
    "var2=\"python java c++ c visual sql\"\n",
    "var2.split()"
   ]
  },
  {
   "cell_type": "code",
   "execution_count": 200,
   "id": "0e398e3d",
   "metadata": {},
   "outputs": [
    {
     "data": {
      "text/plain": [
       "('bhupathi  ', 'gnaneshwari', ' innomatics')"
      ]
     },
     "execution_count": 200,
     "metadata": {},
     "output_type": "execute_result"
    }
   ],
   "source": [
    "var=\"bhupathi  gnaneshwari innomatics\"\n",
    "var.partition(\"gnaneshwari\")"
   ]
  },
  {
   "cell_type": "code",
   "execution_count": 201,
   "id": "9e88dd90",
   "metadata": {},
   "outputs": [
    {
     "data": {
      "text/plain": [
       "('1  2  ', '3', '  4')"
      ]
     },
     "execution_count": 201,
     "metadata": {},
     "output_type": "execute_result"
    }
   ],
   "source": [
    "var2=\"1  2  3  4\"\n",
    "var2.partition(\"3\")"
   ]
  },
  {
   "cell_type": "code",
   "execution_count": 202,
   "id": "d685f97d",
   "metadata": {},
   "outputs": [
    {
     "data": {
      "text/plain": [
       "('gnaneshwari  bhupathi  ', 'innomatics', '  studying ')"
      ]
     },
     "execution_count": 202,
     "metadata": {},
     "output_type": "execute_result"
    }
   ],
   "source": [
    "var5=\"gnaneshwari  bhupathi  innomatics  studying \"\n",
    "var5.partition(\"innomatics\")"
   ]
  },
  {
   "cell_type": "code",
   "execution_count": 203,
   "id": "1645a21d",
   "metadata": {},
   "outputs": [
    {
     "data": {
      "text/plain": [
       "('bhupathi gnaneshwari', '  ', '   innomatics    studying')"
      ]
     },
     "execution_count": 203,
     "metadata": {},
     "output_type": "execute_result"
    }
   ],
   "source": [
    "var6=\"bhupathi gnaneshwari     innomatics    studying\"\n",
    "var6.partition(\"  \")"
   ]
  },
  {
   "cell_type": "code",
   "execution_count": 204,
   "id": "5471fe23",
   "metadata": {},
   "outputs": [
    {
     "data": {
      "text/plain": [
       "'banana'"
      ]
     },
     "execution_count": 204,
     "metadata": {},
     "output_type": "execute_result"
    }
   ],
   "source": [
    "var5=\"  banana  \"\n",
    "var5.strip()"
   ]
  },
  {
   "cell_type": "code",
   "execution_count": 205,
   "id": "97a2fd14",
   "metadata": {},
   "outputs": [
    {
     "data": {
      "text/plain": [
       "'hupathi'"
      ]
     },
     "execution_count": 205,
     "metadata": {},
     "output_type": "execute_result"
    }
   ],
   "source": [
    "var6=\"bbhupathib\"\n",
    "var6.strip(\"b\")"
   ]
  },
  {
   "cell_type": "code",
   "execution_count": 206,
   "id": "2bd96bcd",
   "metadata": {},
   "outputs": [
    {
     "data": {
      "text/plain": [
       "'apple'"
      ]
     },
     "execution_count": 206,
     "metadata": {},
     "output_type": "execute_result"
    }
   ],
   "source": [
    "var5=\"@apple@\"\n",
    "var5.strip(\"@\")"
   ]
  },
  {
   "cell_type": "code",
   "execution_count": 207,
   "id": "7cbad538",
   "metadata": {},
   "outputs": [
    {
     "data": {
      "text/plain": [
       "'efghijk'"
      ]
     },
     "execution_count": 207,
     "metadata": {},
     "output_type": "execute_result"
    }
   ],
   "source": [
    "var6=\"abcefghijkacb\"\n",
    "var6.strip(\"abc\")"
   ]
  },
  {
   "cell_type": "code",
   "execution_count": 208,
   "id": "7a882d16",
   "metadata": {},
   "outputs": [
    {
     "data": {
      "text/plain": [
       "'bcdefgh'"
      ]
     },
     "execution_count": 208,
     "metadata": {},
     "output_type": "execute_result"
    }
   ],
   "source": [
    "var5=\"abcdefgha\"\n",
    "var5.strip(\"a\")\n"
   ]
  },
  {
   "cell_type": "code",
   "execution_count": 209,
   "id": "b7733e55",
   "metadata": {},
   "outputs": [
    {
     "data": {
      "text/plain": [
       "True"
      ]
     },
     "execution_count": 209,
     "metadata": {},
     "output_type": "execute_result"
    }
   ],
   "source": [
    "var3=\"abcdefgh@@@\"\n",
    "var3.startswith(\"a\")"
   ]
  },
  {
   "cell_type": "code",
   "execution_count": 210,
   "id": "71cdd9cc",
   "metadata": {},
   "outputs": [
    {
     "data": {
      "text/plain": [
       "False"
      ]
     },
     "execution_count": 210,
     "metadata": {},
     "output_type": "execute_result"
    }
   ],
   "source": [
    "var4=\"bsdehhhbhb\"\n",
    "var4.startswith(\"a\")"
   ]
  },
  {
   "cell_type": "code",
   "execution_count": 211,
   "id": "023e555c",
   "metadata": {},
   "outputs": [
    {
     "data": {
      "text/plain": [
       "True"
      ]
     },
     "execution_count": 211,
     "metadata": {},
     "output_type": "execute_result"
    }
   ],
   "source": [
    "var5=\"abcdefghijk\"\n",
    "var5.startswith(\"b\",1)"
   ]
  },
  {
   "cell_type": "code",
   "execution_count": 212,
   "id": "f8fd082c",
   "metadata": {},
   "outputs": [
    {
     "data": {
      "text/plain": [
       "True"
      ]
     },
     "execution_count": 212,
     "metadata": {},
     "output_type": "execute_result"
    }
   ],
   "source": [
    "var5=\"abcdefghikjn\"\n",
    "var5.endswith(\"n\")"
   ]
  },
  {
   "cell_type": "code",
   "execution_count": 213,
   "id": "26213202",
   "metadata": {},
   "outputs": [
    {
     "data": {
      "text/plain": [
       "True"
      ]
     },
     "execution_count": 213,
     "metadata": {},
     "output_type": "execute_result"
    }
   ],
   "source": [
    "var5=\"abdcdjhnd\"\n",
    "var5.endswith(\"d\",-1)"
   ]
  },
  {
   "cell_type": "code",
   "execution_count": 214,
   "id": "0a87c9ac",
   "metadata": {},
   "outputs": [
    {
     "data": {
      "text/plain": [
       "True"
      ]
     },
     "execution_count": 214,
     "metadata": {},
     "output_type": "execute_result"
    }
   ],
   "source": [
    "var2=\"abcd@@@@\"\n",
    "var2.endswith(\"d\",1,4)"
   ]
  },
  {
   "cell_type": "code",
   "execution_count": 215,
   "id": "528588c2",
   "metadata": {},
   "outputs": [
    {
     "data": {
      "text/plain": [
       "True"
      ]
     },
     "execution_count": 215,
     "metadata": {},
     "output_type": "execute_result"
    }
   ],
   "source": [
    "var2=\"abcdefghi@@\"\n",
    "var2.endswith(\"@\")"
   ]
  },
  {
   "cell_type": "code",
   "execution_count": 216,
   "id": "5c9f8a7c",
   "metadata": {},
   "outputs": [
    {
     "data": {
      "text/plain": [
       "True"
      ]
     },
     "execution_count": 216,
     "metadata": {},
     "output_type": "execute_result"
    }
   ],
   "source": [
    "var1=\"AMNCDUIEIB\"\n",
    "var1.isalpha()"
   ]
  },
  {
   "cell_type": "code",
   "execution_count": 217,
   "id": "32289814",
   "metadata": {},
   "outputs": [
    {
     "data": {
      "text/plain": [
       "True"
      ]
     },
     "execution_count": 217,
     "metadata": {},
     "output_type": "execute_result"
    }
   ],
   "source": [
    "var2=\"asdjcdjjdb\"\n",
    "var2.isalpha()"
   ]
  },
  {
   "cell_type": "code",
   "execution_count": 218,
   "id": "b291e639",
   "metadata": {},
   "outputs": [
    {
     "data": {
      "text/plain": [
       "False"
      ]
     },
     "execution_count": 218,
     "metadata": {},
     "output_type": "execute_result"
    }
   ],
   "source": [
    "var2=\"12asjj@#$\"\n",
    "var2.isalpha()"
   ]
  },
  {
   "cell_type": "code",
   "execution_count": 219,
   "id": "3d4e370a",
   "metadata": {},
   "outputs": [
    {
     "data": {
      "text/plain": [
       "True"
      ]
     },
     "execution_count": 219,
     "metadata": {},
     "output_type": "execute_result"
    }
   ],
   "source": [
    "var5=\"12331889\"\n",
    "var5.isdigit()"
   ]
  },
  {
   "cell_type": "code",
   "execution_count": 220,
   "id": "5d1b14d4",
   "metadata": {},
   "outputs": [
    {
     "data": {
      "text/plain": [
       "False"
      ]
     },
     "execution_count": 220,
     "metadata": {},
     "output_type": "execute_result"
    }
   ],
   "source": [
    "var3=\"12.2\"\n",
    "var3.isdigit()"
   ]
  },
  {
   "cell_type": "code",
   "execution_count": 221,
   "id": "63011ddb",
   "metadata": {},
   "outputs": [
    {
     "data": {
      "text/plain": [
       "False"
      ]
     },
     "execution_count": 221,
     "metadata": {},
     "output_type": "execute_result"
    }
   ],
   "source": [
    "var1=\"_123\"\n",
    "var1.isdigit()"
   ]
  },
  {
   "cell_type": "code",
   "execution_count": 222,
   "id": "550ad8c2",
   "metadata": {},
   "outputs": [
    {
     "data": {
      "text/plain": [
       "True"
      ]
     },
     "execution_count": 222,
     "metadata": {},
     "output_type": "execute_result"
    }
   ],
   "source": [
    "var1=\"123\"\n",
    "var1.isdigit()"
   ]
  },
  {
   "cell_type": "code",
   "execution_count": 223,
   "id": "de212665",
   "metadata": {},
   "outputs": [
    {
     "data": {
      "text/plain": [
       "False"
      ]
     },
     "execution_count": 223,
     "metadata": {},
     "output_type": "execute_result"
    }
   ],
   "source": [
    "x=\"acbw125461@##\"\n",
    "x.isalnum()"
   ]
  },
  {
   "cell_type": "code",
   "execution_count": 224,
   "id": "cadebce9",
   "metadata": {},
   "outputs": [
    {
     "data": {
      "text/plain": [
       "True"
      ]
     },
     "execution_count": 224,
     "metadata": {},
     "output_type": "execute_result"
    }
   ],
   "source": [
    "x=\"welocome129e\"\n",
    "x.isalnum()"
   ]
  },
  {
   "cell_type": "code",
   "execution_count": 225,
   "id": "1c1b1d7d",
   "metadata": {},
   "outputs": [
    {
     "data": {
      "text/plain": [
       "True"
      ]
     },
     "execution_count": 225,
     "metadata": {},
     "output_type": "execute_result"
    }
   ],
   "source": [
    "x=\"bhupathignaneshwari999\"\n",
    "x.isalnum()"
   ]
  },
  {
   "cell_type": "code",
   "execution_count": 226,
   "id": "93de652a",
   "metadata": {},
   "outputs": [
    {
     "data": {
      "text/plain": [
       "True"
      ]
     },
     "execution_count": 226,
     "metadata": {},
     "output_type": "execute_result"
    }
   ],
   "source": [
    "x=\"BHUPATHIGNANESHWARI\"\n",
    "x.isupper()"
   ]
  },
  {
   "cell_type": "code",
   "execution_count": 227,
   "id": "5e3ba60e",
   "metadata": {},
   "outputs": [
    {
     "data": {
      "text/plain": [
       "False"
      ]
     },
     "execution_count": 227,
     "metadata": {},
     "output_type": "execute_result"
    }
   ],
   "source": [
    "x=\"AXSSNNIIMwjioo@#\"\n",
    "x.isupper()"
   ]
  },
  {
   "cell_type": "code",
   "execution_count": 228,
   "id": "5e462ef7",
   "metadata": {},
   "outputs": [
    {
     "data": {
      "text/plain": [
       "False"
      ]
     },
     "execution_count": 228,
     "metadata": {},
     "output_type": "execute_result"
    }
   ],
   "source": [
    "x=\"AVSHWBnjjxb\"\n",
    "x[0:7].isupper()"
   ]
  },
  {
   "cell_type": "code",
   "execution_count": 229,
   "id": "f72948a7",
   "metadata": {},
   "outputs": [
    {
     "data": {
      "text/plain": [
       "True"
      ]
     },
     "execution_count": 229,
     "metadata": {},
     "output_type": "execute_result"
    }
   ],
   "source": [
    "x=\"asubb12338\"\n",
    "x[-5:-1].isalnum()"
   ]
  },
  {
   "cell_type": "code",
   "execution_count": 230,
   "id": "732f2ed3",
   "metadata": {},
   "outputs": [
    {
     "data": {
      "text/plain": [
       "False"
      ]
     },
     "execution_count": 230,
     "metadata": {},
     "output_type": "execute_result"
    }
   ],
   "source": [
    "var3=\"asxsnnANNXSN\"\n",
    "var3[-7:-1].islower()"
   ]
  },
  {
   "cell_type": "code",
   "execution_count": 231,
   "id": "420d8cac",
   "metadata": {},
   "outputs": [
    {
     "data": {
      "text/plain": [
       "True"
      ]
     },
     "execution_count": 231,
     "metadata": {},
     "output_type": "execute_result"
    }
   ],
   "source": [
    "var3[0:6].islower()"
   ]
  },
  {
   "cell_type": "code",
   "execution_count": 232,
   "id": "3fa5c293",
   "metadata": {},
   "outputs": [
    {
     "data": {
      "text/plain": [
       "True"
      ]
     },
     "execution_count": 232,
     "metadata": {},
     "output_type": "execute_result"
    }
   ],
   "source": [
    "var3=\"ASSBJDWBN\"\n",
    "var3.lower().islower()"
   ]
  },
  {
   "cell_type": "code",
   "execution_count": 233,
   "id": "73192f70",
   "metadata": {},
   "outputs": [
    {
     "data": {
      "text/plain": [
       "True"
      ]
     },
     "execution_count": 233,
     "metadata": {},
     "output_type": "execute_result"
    }
   ],
   "source": [
    "var2=\"Python  Java  Visual\"\n",
    "var2.istitle()"
   ]
  },
  {
   "cell_type": "code",
   "execution_count": 234,
   "id": "0fe1a395",
   "metadata": {},
   "outputs": [
    {
     "data": {
      "text/plain": [
       "True"
      ]
     },
     "execution_count": 234,
     "metadata": {},
     "output_type": "execute_result"
    }
   ],
   "source": [
    "var3=\"python java  visual\"\n",
    "var3.title().istitle()"
   ]
  },
  {
   "cell_type": "code",
   "execution_count": 235,
   "id": "63853763",
   "metadata": {},
   "outputs": [
    {
     "data": {
      "text/plain": [
       "True"
      ]
     },
     "execution_count": 235,
     "metadata": {},
     "output_type": "execute_result"
    }
   ],
   "source": [
    "var2=\"   \"\n",
    "var2.isspace()"
   ]
  },
  {
   "cell_type": "code",
   "execution_count": 236,
   "id": "b525d941",
   "metadata": {},
   "outputs": [
    {
     "data": {
      "text/plain": [
       "False"
      ]
     },
     "execution_count": 236,
     "metadata": {},
     "output_type": "execute_result"
    }
   ],
   "source": [
    "var2=\"\"\n",
    "var2.isspace()"
   ]
  },
  {
   "cell_type": "code",
   "execution_count": 237,
   "id": "1e5cf294",
   "metadata": {},
   "outputs": [
    {
     "data": {
      "text/plain": [
       "False"
      ]
     },
     "execution_count": 237,
     "metadata": {},
     "output_type": "execute_result"
    }
   ],
   "source": [
    "var3=\"abcsdnwj\"\n",
    "var3.isspace()"
   ]
  },
  {
   "cell_type": "code",
   "execution_count": 238,
   "id": "9c515c58",
   "metadata": {},
   "outputs": [
    {
     "data": {
      "text/plain": [
       "{97: 64, 115: 35, 105: 36}"
      ]
     },
     "execution_count": 238,
     "metadata": {},
     "output_type": "execute_result"
    }
   ],
   "source": [
    "var2=\"aaasnjnjnssniiii\"\n",
    "var2.maketrans(\"asi\",\"@#$\")"
   ]
  },
  {
   "cell_type": "code",
   "execution_count": 239,
   "id": "4e531186",
   "metadata": {},
   "outputs": [
    {
     "data": {
      "text/plain": [
       "'@@@#njnjn##n$$$$'"
      ]
     },
     "execution_count": 239,
     "metadata": {},
     "output_type": "execute_result"
    }
   ],
   "source": [
    "table=var2.maketrans(\"asi\",\"@#$\")\n",
    "var2.translate(table)"
   ]
  },
  {
   "cell_type": "code",
   "execution_count": 240,
   "id": "edff1a20",
   "metadata": {},
   "outputs": [
    {
     "data": {
      "text/plain": [
       "26"
      ]
     },
     "execution_count": 240,
     "metadata": {},
     "output_type": "execute_result"
    }
   ],
   "source": [
    "x=\"ABCDEFGHIJKLMNOPQRSTUVWXYZ\"\n",
    "len(x)"
   ]
  },
  {
   "cell_type": "code",
   "execution_count": 241,
   "id": "34cd9925",
   "metadata": {},
   "outputs": [
    {
     "data": {
      "text/plain": [
       "19"
      ]
     },
     "execution_count": 241,
     "metadata": {},
     "output_type": "execute_result"
    }
   ],
   "source": [
    "x=\"bhupathignaneshwari\"\n",
    "len(x)"
   ]
  },
  {
   "cell_type": "code",
   "execution_count": 242,
   "id": "41f8f4e4",
   "metadata": {},
   "outputs": [
    {
     "data": {
      "text/plain": [
       "11"
      ]
     },
     "execution_count": 242,
     "metadata": {},
     "output_type": "execute_result"
    }
   ],
   "source": [
    "x=\"  abcdefg  \"\n",
    "len(x)"
   ]
  },
  {
   "cell_type": "code",
   "execution_count": 243,
   "id": "b0e14946",
   "metadata": {},
   "outputs": [
    {
     "data": {
      "text/plain": [
       "7"
      ]
     },
     "execution_count": 243,
     "metadata": {},
     "output_type": "execute_result"
    }
   ],
   "source": [
    "x=\"  abcdefg  \"\n",
    "len(x.strip())"
   ]
  },
  {
   "cell_type": "code",
   "execution_count": 244,
   "id": "45f842d7",
   "metadata": {},
   "outputs": [
    {
     "data": {
      "text/plain": [
       "'hi welcome \"to\" python'"
      ]
     },
     "execution_count": 244,
     "metadata": {},
     "output_type": "execute_result"
    }
   ],
   "source": [
    "\"hi welcome \\\"to\\\" python\""
   ]
  },
  {
   "cell_type": "code",
   "execution_count": 245,
   "id": "20af3abe",
   "metadata": {},
   "outputs": [
    {
     "data": {
      "text/plain": [
       "'higher acheivements \"takes\"  \"time '"
      ]
     },
     "execution_count": 245,
     "metadata": {},
     "output_type": "execute_result"
    }
   ],
   "source": [
    "\"higher acheivements \\\"takes\\\"  \\\"time \""
   ]
  },
  {
   "cell_type": "code",
   "execution_count": 246,
   "id": "f7763008",
   "metadata": {},
   "outputs": [
    {
     "name": "stdout",
     "output_type": "stream",
     "text": [
      "higher  \n",
      "acheivements \n",
      "takes \n",
      "time\n"
     ]
    }
   ],
   "source": [
    "print(\"higher  \\nacheivements \\ntakes \\ntime\")"
   ]
  },
  {
   "cell_type": "code",
   "execution_count": 247,
   "id": "8cbf030d",
   "metadata": {},
   "outputs": [
    {
     "name": "stdout",
     "output_type": "stream",
     "text": [
      "Name:gnaneshwaribhupathi  \n",
      "Fathername: sreenivasulu \n",
      "Address:2-2-735/9  \n",
      "pochammabasthi  \n",
      "amberpet  \n",
      "hyderabad  \n",
      "pincode:500013\n"
     ]
    }
   ],
   "source": [
    "print(\"Name:gnaneshwaribhupathi  \\nFathername: sreenivasulu \\nAddress:2-2-735/9  \\npochammabasthi  \\namberpet  \\nhyderabad  \\npincode:500013\")"
   ]
  },
  {
   "cell_type": "code",
   "execution_count": 248,
   "id": "a38ec493",
   "metadata": {},
   "outputs": [
    {
     "data": {
      "text/plain": [
       "False"
      ]
     },
     "execution_count": 248,
     "metadata": {},
     "output_type": "execute_result"
    }
   ],
   "source": [
    "bool(0)"
   ]
  },
  {
   "cell_type": "code",
   "execution_count": 249,
   "id": "644b7d75",
   "metadata": {},
   "outputs": [
    {
     "data": {
      "text/plain": [
       "True"
      ]
     },
     "execution_count": 249,
     "metadata": {},
     "output_type": "execute_result"
    }
   ],
   "source": [
    "bool(1223)"
   ]
  },
  {
   "cell_type": "code",
   "execution_count": 250,
   "id": "76476db5",
   "metadata": {},
   "outputs": [
    {
     "data": {
      "text/plain": [
       "False"
      ]
     },
     "execution_count": 250,
     "metadata": {},
     "output_type": "execute_result"
    }
   ],
   "source": [
    "bool(0.0)"
   ]
  },
  {
   "cell_type": "code",
   "execution_count": 251,
   "id": "8d4f0b94",
   "metadata": {},
   "outputs": [
    {
     "data": {
      "text/plain": [
       "False"
      ]
     },
     "execution_count": 251,
     "metadata": {},
     "output_type": "execute_result"
    }
   ],
   "source": [
    "bool(\"\")"
   ]
  },
  {
   "cell_type": "code",
   "execution_count": 252,
   "id": "2a9ba3fc",
   "metadata": {},
   "outputs": [
    {
     "data": {
      "text/plain": [
       "True"
      ]
     },
     "execution_count": 252,
     "metadata": {},
     "output_type": "execute_result"
    }
   ],
   "source": [
    "bool(\" \")"
   ]
  },
  {
   "cell_type": "code",
   "execution_count": 253,
   "id": "bcd564df",
   "metadata": {},
   "outputs": [
    {
     "data": {
      "text/plain": [
       "3"
      ]
     },
     "execution_count": 253,
     "metadata": {},
     "output_type": "execute_result"
    }
   ],
   "source": [
    "x=1\n",
    "y=2\n",
    "x+y"
   ]
  },
  {
   "cell_type": "code",
   "execution_count": 254,
   "id": "1420863c",
   "metadata": {},
   "outputs": [
    {
     "data": {
      "text/plain": [
       "'ab'"
      ]
     },
     "execution_count": 254,
     "metadata": {},
     "output_type": "execute_result"
    }
   ],
   "source": [
    "x=\"a\"\n",
    "y=\"b\"\n",
    "x+y\n"
   ]
  },
  {
   "cell_type": "code",
   "execution_count": 255,
   "id": "9ecf3493",
   "metadata": {},
   "outputs": [
    {
     "data": {
      "text/plain": [
       "-1"
      ]
     },
     "execution_count": 255,
     "metadata": {},
     "output_type": "execute_result"
    }
   ],
   "source": [
    "x=1\n",
    "y=2\n",
    "x-y"
   ]
  },
  {
   "cell_type": "code",
   "execution_count": 256,
   "id": "2fa4bc53",
   "metadata": {},
   "outputs": [
    {
     "data": {
      "text/plain": [
       "'ababab'"
      ]
     },
     "execution_count": 256,
     "metadata": {},
     "output_type": "execute_result"
    }
   ],
   "source": [
    "x=\"ab\"\n",
    "x*3"
   ]
  },
  {
   "cell_type": "code",
   "execution_count": 257,
   "id": "d3fcbcb6",
   "metadata": {},
   "outputs": [
    {
     "data": {
      "text/plain": [
       "''"
      ]
     },
     "execution_count": 257,
     "metadata": {},
     "output_type": "execute_result"
    }
   ],
   "source": [
    "x=\"ab\"\n",
    "x*-3"
   ]
  },
  {
   "cell_type": "code",
   "execution_count": 258,
   "id": "53e9af9d",
   "metadata": {},
   "outputs": [
    {
     "data": {
      "text/plain": [
       "5.0"
      ]
     },
     "execution_count": 258,
     "metadata": {},
     "output_type": "execute_result"
    }
   ],
   "source": [
    "10/2"
   ]
  },
  {
   "cell_type": "code",
   "execution_count": 259,
   "id": "2519ea77",
   "metadata": {},
   "outputs": [
    {
     "data": {
      "text/plain": [
       "0"
      ]
     },
     "execution_count": 259,
     "metadata": {},
     "output_type": "execute_result"
    }
   ],
   "source": [
    "10%2"
   ]
  },
  {
   "cell_type": "code",
   "execution_count": 260,
   "id": "8a9b50ab",
   "metadata": {},
   "outputs": [
    {
     "data": {
      "text/plain": [
       "4"
      ]
     },
     "execution_count": 260,
     "metadata": {},
     "output_type": "execute_result"
    }
   ],
   "source": [
    "2**2"
   ]
  },
  {
   "cell_type": "code",
   "execution_count": 261,
   "id": "e53b1b12",
   "metadata": {},
   "outputs": [
    {
     "data": {
      "text/plain": [
       "16"
      ]
     },
     "execution_count": 261,
     "metadata": {},
     "output_type": "execute_result"
    }
   ],
   "source": [
    "4**2"
   ]
  },
  {
   "cell_type": "code",
   "execution_count": 262,
   "id": "11510aef",
   "metadata": {},
   "outputs": [
    {
     "data": {
      "text/plain": [
       "64"
      ]
     },
     "execution_count": 262,
     "metadata": {},
     "output_type": "execute_result"
    }
   ],
   "source": [
    "4**3"
   ]
  },
  {
   "cell_type": "code",
   "execution_count": 263,
   "id": "65cbcbe3",
   "metadata": {},
   "outputs": [
    {
     "data": {
      "text/plain": [
       "8"
      ]
     },
     "execution_count": 263,
     "metadata": {},
     "output_type": "execute_result"
    }
   ],
   "source": [
    "cube=3\n",
    "2**cube"
   ]
  },
  {
   "cell_type": "code",
   "execution_count": 264,
   "id": "9121f41b",
   "metadata": {},
   "outputs": [
    {
     "data": {
      "text/plain": [
       "4"
      ]
     },
     "execution_count": 264,
     "metadata": {},
     "output_type": "execute_result"
    }
   ],
   "source": [
    "square=2\n",
    "2**square"
   ]
  },
  {
   "cell_type": "code",
   "execution_count": 265,
   "id": "22adc3ad",
   "metadata": {},
   "outputs": [
    {
     "data": {
      "text/plain": [
       "5.5"
      ]
     },
     "execution_count": 265,
     "metadata": {},
     "output_type": "execute_result"
    }
   ],
   "source": [
    "11/2"
   ]
  },
  {
   "cell_type": "code",
   "execution_count": 266,
   "id": "975f2d77",
   "metadata": {},
   "outputs": [
    {
     "data": {
      "text/plain": [
       "5"
      ]
     },
     "execution_count": 266,
     "metadata": {},
     "output_type": "execute_result"
    }
   ],
   "source": [
    "11//2"
   ]
  },
  {
   "cell_type": "code",
   "execution_count": 267,
   "id": "57a13fb0",
   "metadata": {},
   "outputs": [
    {
     "data": {
      "text/plain": [
       "6.5"
      ]
     },
     "execution_count": 267,
     "metadata": {},
     "output_type": "execute_result"
    }
   ],
   "source": [
    "13/2"
   ]
  },
  {
   "cell_type": "code",
   "execution_count": 268,
   "id": "ada99154",
   "metadata": {},
   "outputs": [
    {
     "data": {
      "text/plain": [
       "6"
      ]
     },
     "execution_count": 268,
     "metadata": {},
     "output_type": "execute_result"
    }
   ],
   "source": [
    "13//2"
   ]
  },
  {
   "cell_type": "code",
   "execution_count": 269,
   "id": "3da0fab7",
   "metadata": {},
   "outputs": [
    {
     "data": {
      "text/plain": [
       "6.0"
      ]
     },
     "execution_count": 269,
     "metadata": {},
     "output_type": "execute_result"
    }
   ],
   "source": [
    "12/2"
   ]
  },
  {
   "cell_type": "code",
   "execution_count": 270,
   "id": "1aef3f6f",
   "metadata": {},
   "outputs": [
    {
     "data": {
      "text/plain": [
       "6"
      ]
     },
     "execution_count": 270,
     "metadata": {},
     "output_type": "execute_result"
    }
   ],
   "source": [
    "12//2"
   ]
  },
  {
   "cell_type": "code",
   "execution_count": 271,
   "id": "f63108f8",
   "metadata": {},
   "outputs": [],
   "source": [
    "x=1"
   ]
  },
  {
   "cell_type": "code",
   "execution_count": 272,
   "id": "936ff707",
   "metadata": {},
   "outputs": [],
   "source": [
    "x+=1"
   ]
  },
  {
   "cell_type": "code",
   "execution_count": 273,
   "id": "f971ae31",
   "metadata": {},
   "outputs": [
    {
     "name": "stdout",
     "output_type": "stream",
     "text": [
      "2\n"
     ]
    }
   ],
   "source": [
    "print(x)"
   ]
  },
  {
   "cell_type": "code",
   "execution_count": 274,
   "id": "8f17b83c",
   "metadata": {},
   "outputs": [
    {
     "data": {
      "text/plain": [
       "False"
      ]
     },
     "execution_count": 274,
     "metadata": {},
     "output_type": "execute_result"
    }
   ],
   "source": [
    "var1=10\n",
    "var2=20\n",
    "var1>var2"
   ]
  },
  {
   "cell_type": "code",
   "execution_count": 275,
   "id": "7f089a16",
   "metadata": {},
   "outputs": [
    {
     "data": {
      "text/plain": [
       "False"
      ]
     },
     "execution_count": 275,
     "metadata": {},
     "output_type": "execute_result"
    }
   ],
   "source": [
    "10>20"
   ]
  },
  {
   "cell_type": "code",
   "execution_count": 276,
   "id": "7a95bce4",
   "metadata": {},
   "outputs": [
    {
     "data": {
      "text/plain": [
       "True"
      ]
     },
     "execution_count": 276,
     "metadata": {},
     "output_type": "execute_result"
    }
   ],
   "source": [
    "10<20"
   ]
  },
  {
   "cell_type": "code",
   "execution_count": 277,
   "id": "382f5661",
   "metadata": {},
   "outputs": [
    {
     "data": {
      "text/plain": [
       "False"
      ]
     },
     "execution_count": 277,
     "metadata": {},
     "output_type": "execute_result"
    }
   ],
   "source": [
    "10==20"
   ]
  },
  {
   "cell_type": "code",
   "execution_count": 278,
   "id": "871835e6",
   "metadata": {},
   "outputs": [
    {
     "data": {
      "text/plain": [
       "True"
      ]
     },
     "execution_count": 278,
     "metadata": {},
     "output_type": "execute_result"
    }
   ],
   "source": [
    "10<=20"
   ]
  },
  {
   "cell_type": "code",
   "execution_count": 279,
   "id": "c07e9f29",
   "metadata": {},
   "outputs": [
    {
     "data": {
      "text/plain": [
       "False"
      ]
     },
     "execution_count": 279,
     "metadata": {},
     "output_type": "execute_result"
    }
   ],
   "source": [
    "10>=20"
   ]
  },
  {
   "cell_type": "code",
   "execution_count": 280,
   "id": "16c304cf",
   "metadata": {},
   "outputs": [
    {
     "data": {
      "text/plain": [
       "True"
      ]
     },
     "execution_count": 280,
     "metadata": {},
     "output_type": "execute_result"
    }
   ],
   "source": [
    "10!=20"
   ]
  },
  {
   "cell_type": "code",
   "execution_count": 281,
   "id": "c2c4bd6f",
   "metadata": {},
   "outputs": [
    {
     "data": {
      "text/plain": [
       "True"
      ]
     },
     "execution_count": 281,
     "metadata": {},
     "output_type": "execute_result"
    }
   ],
   "source": [
    "10==10"
   ]
  },
  {
   "cell_type": "code",
   "execution_count": 282,
   "id": "4913ccc3",
   "metadata": {},
   "outputs": [],
   "source": [
    "x=10\n",
    "y=10"
   ]
  },
  {
   "cell_type": "code",
   "execution_count": 283,
   "id": "28823e88",
   "metadata": {},
   "outputs": [
    {
     "data": {
      "text/plain": [
       "True"
      ]
     },
     "execution_count": 283,
     "metadata": {},
     "output_type": "execute_result"
    }
   ],
   "source": [
    "x==y"
   ]
  },
  {
   "cell_type": "code",
   "execution_count": 284,
   "id": "f3b26ae2",
   "metadata": {},
   "outputs": [
    {
     "data": {
      "text/plain": [
       "True"
      ]
     },
     "execution_count": 284,
     "metadata": {},
     "output_type": "execute_result"
    }
   ],
   "source": [
    "x=[1,2,3]\n",
    "y=[1,2,3]\n",
    "x==y"
   ]
  },
  {
   "cell_type": "code",
   "execution_count": 285,
   "id": "3df25760",
   "metadata": {},
   "outputs": [
    {
     "data": {
      "text/plain": [
       "False"
      ]
     },
     "execution_count": 285,
     "metadata": {},
     "output_type": "execute_result"
    }
   ],
   "source": [
    "x is y"
   ]
  },
  {
   "cell_type": "code",
   "execution_count": 286,
   "id": "bf209457",
   "metadata": {},
   "outputs": [
    {
     "data": {
      "text/plain": [
       "2097553704576"
      ]
     },
     "execution_count": 286,
     "metadata": {},
     "output_type": "execute_result"
    }
   ],
   "source": [
    "id(x)"
   ]
  },
  {
   "cell_type": "code",
   "execution_count": 287,
   "id": "7fd86efc",
   "metadata": {},
   "outputs": [
    {
     "data": {
      "text/plain": [
       "2097553642112"
      ]
     },
     "execution_count": 287,
     "metadata": {},
     "output_type": "execute_result"
    }
   ],
   "source": [
    "id(y)"
   ]
  },
  {
   "cell_type": "code",
   "execution_count": 288,
   "id": "3f941fd1",
   "metadata": {},
   "outputs": [
    {
     "data": {
      "text/plain": [
       "True"
      ]
     },
     "execution_count": 288,
     "metadata": {},
     "output_type": "execute_result"
    }
   ],
   "source": [
    "x  is not y"
   ]
  },
  {
   "cell_type": "code",
   "execution_count": 290,
   "id": "2e70b3be",
   "metadata": {},
   "outputs": [],
   "source": [
    "x=10\n",
    "y=2"
   ]
  },
  {
   "cell_type": "code",
   "execution_count": 291,
   "id": "2bf2afc6",
   "metadata": {},
   "outputs": [
    {
     "data": {
      "text/plain": [
       "True"
      ]
     },
     "execution_count": 291,
     "metadata": {},
     "output_type": "execute_result"
    }
   ],
   "source": [
    "x>y and x%2==0  and x%5==0"
   ]
  },
  {
   "cell_type": "code",
   "execution_count": 292,
   "id": "1942896d",
   "metadata": {},
   "outputs": [
    {
     "data": {
      "text/plain": [
       "True"
      ]
     },
     "execution_count": 292,
     "metadata": {},
     "output_type": "execute_result"
    }
   ],
   "source": [
    "y<x and x/2==5 and x%2==0"
   ]
  },
  {
   "cell_type": "code",
   "execution_count": 293,
   "id": "d8e10f3e",
   "metadata": {},
   "outputs": [
    {
     "data": {
      "text/plain": [
       "True"
      ]
     },
     "execution_count": 293,
     "metadata": {},
     "output_type": "execute_result"
    }
   ],
   "source": [
    "x>y or x%3==0  or x%7==0"
   ]
  },
  {
   "cell_type": "code",
   "execution_count": 294,
   "id": "b10e4432",
   "metadata": {},
   "outputs": [
    {
     "data": {
      "text/plain": [
       "False"
      ]
     },
     "execution_count": 294,
     "metadata": {},
     "output_type": "execute_result"
    }
   ],
   "source": [
    "not(x>y or x%3==0 or x%7==0)"
   ]
  },
  {
   "cell_type": "code",
   "execution_count": 295,
   "id": "951840f6",
   "metadata": {},
   "outputs": [
    {
     "data": {
      "text/plain": [
       "True"
      ]
     },
     "execution_count": 295,
     "metadata": {},
     "output_type": "execute_result"
    }
   ],
   "source": [
    "x=100\n",
    "y=100\n",
    "x  is y"
   ]
  },
  {
   "cell_type": "code",
   "execution_count": 296,
   "id": "696b9bf7",
   "metadata": {},
   "outputs": [
    {
     "data": {
      "text/plain": [
       "2097438741968"
      ]
     },
     "execution_count": 296,
     "metadata": {},
     "output_type": "execute_result"
    }
   ],
   "source": [
    "id(x)"
   ]
  },
  {
   "cell_type": "code",
   "execution_count": 297,
   "id": "8b48af10",
   "metadata": {},
   "outputs": [
    {
     "data": {
      "text/plain": [
       "2097438741968"
      ]
     },
     "execution_count": 297,
     "metadata": {},
     "output_type": "execute_result"
    }
   ],
   "source": [
    "id(y)"
   ]
  },
  {
   "cell_type": "code",
   "execution_count": 298,
   "id": "fe86eefb",
   "metadata": {},
   "outputs": [
    {
     "data": {
      "text/plain": [
       "True"
      ]
     },
     "execution_count": 298,
     "metadata": {},
     "output_type": "execute_result"
    }
   ],
   "source": [
    "x=\"abcd\"\n",
    "y=\"abcd\"\n",
    "x is y"
   ]
  },
  {
   "cell_type": "code",
   "execution_count": 299,
   "id": "e0d8f13a",
   "metadata": {},
   "outputs": [
    {
     "data": {
      "text/plain": [
       "'A'"
      ]
     },
     "execution_count": 299,
     "metadata": {},
     "output_type": "execute_result"
    }
   ],
   "source": [
    "x=\"abcdefghijklmnop\"\n",
    "x[0].upper()"
   ]
  },
  {
   "cell_type": "code",
   "execution_count": 300,
   "id": "a2c7a61c",
   "metadata": {},
   "outputs": [
    {
     "data": {
      "text/plain": [
       "'@'"
      ]
     },
     "execution_count": 300,
     "metadata": {},
     "output_type": "execute_result"
    }
   ],
   "source": [
    "x[1].replace( \"b\",\"@\")"
   ]
  },
  {
   "cell_type": "code",
   "execution_count": 301,
   "id": "f63e37f5",
   "metadata": {},
   "outputs": [
    {
     "data": {
      "text/plain": [
       "'C'"
      ]
     },
     "execution_count": 301,
     "metadata": {},
     "output_type": "execute_result"
    }
   ],
   "source": [
    "x[2].upper()"
   ]
  },
  {
   "cell_type": "code",
   "execution_count": 302,
   "id": "b275ca50",
   "metadata": {},
   "outputs": [
    {
     "data": {
      "text/plain": [
       "'e'"
      ]
     },
     "execution_count": 302,
     "metadata": {},
     "output_type": "execute_result"
    }
   ],
   "source": [
    "x[4].replace(\"d\",\"@\")"
   ]
  },
  {
   "cell_type": "code",
   "execution_count": 303,
   "id": "b7aaf805",
   "metadata": {},
   "outputs": [
    {
     "data": {
      "text/plain": [
       "'F'"
      ]
     },
     "execution_count": 303,
     "metadata": {},
     "output_type": "execute_result"
    }
   ],
   "source": [
    "x[5].upper()"
   ]
  },
  {
   "cell_type": "code",
   "execution_count": 304,
   "id": "2c7dfb70",
   "metadata": {},
   "outputs": [
    {
     "data": {
      "text/plain": [
       "'@'"
      ]
     },
     "execution_count": 304,
     "metadata": {},
     "output_type": "execute_result"
    }
   ],
   "source": [
    "x[6].replace(\"g\",\"@\")"
   ]
  },
  {
   "cell_type": "code",
   "execution_count": 305,
   "id": "5ceda6a8",
   "metadata": {},
   "outputs": [
    {
     "data": {
      "text/plain": [
       "'H'"
      ]
     },
     "execution_count": 305,
     "metadata": {},
     "output_type": "execute_result"
    }
   ],
   "source": [
    "x[7].upper()"
   ]
  },
  {
   "cell_type": "code",
   "execution_count": 306,
   "id": "6228aa21",
   "metadata": {},
   "outputs": [
    {
     "data": {
      "text/plain": [
       "'@'"
      ]
     },
     "execution_count": 306,
     "metadata": {},
     "output_type": "execute_result"
    }
   ],
   "source": [
    "x[8].replace(\"i\",\"@\")"
   ]
  },
  {
   "cell_type": "code",
   "execution_count": 307,
   "id": "02100868",
   "metadata": {},
   "outputs": [
    {
     "data": {
      "text/plain": [
       "'J'"
      ]
     },
     "execution_count": 307,
     "metadata": {},
     "output_type": "execute_result"
    }
   ],
   "source": [
    "x[9].upper()"
   ]
  },
  {
   "cell_type": "code",
   "execution_count": 308,
   "id": "bfc3ac53",
   "metadata": {},
   "outputs": [
    {
     "data": {
      "text/plain": [
       "'@'"
      ]
     },
     "execution_count": 308,
     "metadata": {},
     "output_type": "execute_result"
    }
   ],
   "source": [
    "x[10].replace(\"k\",\"@\")"
   ]
  },
  {
   "cell_type": "code",
   "execution_count": 309,
   "id": "cf430d4c",
   "metadata": {},
   "outputs": [
    {
     "data": {
      "text/plain": [
       "'L'"
      ]
     },
     "execution_count": 309,
     "metadata": {},
     "output_type": "execute_result"
    }
   ],
   "source": [
    "x[11].upper()"
   ]
  },
  {
   "cell_type": "code",
   "execution_count": 310,
   "id": "d8fe7c1d",
   "metadata": {},
   "outputs": [
    {
     "data": {
      "text/plain": [
       "'@'"
      ]
     },
     "execution_count": 310,
     "metadata": {},
     "output_type": "execute_result"
    }
   ],
   "source": [
    "x[12].replace(\"m\",\"@\")"
   ]
  },
  {
   "cell_type": "code",
   "execution_count": 311,
   "id": "e595b9b5",
   "metadata": {},
   "outputs": [
    {
     "data": {
      "text/plain": [
       "'N'"
      ]
     },
     "execution_count": 311,
     "metadata": {},
     "output_type": "execute_result"
    }
   ],
   "source": [
    "x[13].upper()"
   ]
  },
  {
   "cell_type": "code",
   "execution_count": 312,
   "id": "c2d0795f",
   "metadata": {},
   "outputs": [
    {
     "data": {
      "text/plain": [
       "'@'"
      ]
     },
     "execution_count": 312,
     "metadata": {},
     "output_type": "execute_result"
    }
   ],
   "source": [
    "x[14].replace(\"o\",\"@\")"
   ]
  },
  {
   "cell_type": "code",
   "execution_count": 314,
   "id": "481081a4",
   "metadata": {},
   "outputs": [
    {
     "name": "stdout",
     "output_type": "stream",
     "text": [
      "salary of person A 20000\n",
      "salary of person B 15000\n"
     ]
    }
   ],
   "source": [
    "x=int(input(\"salary of person A \"))\n",
    "y=int(input(\"salary of person B \"))"
   ]
  },
  {
   "cell_type": "code",
   "execution_count": 315,
   "id": "6879fdea",
   "metadata": {},
   "outputs": [
    {
     "data": {
      "text/plain": [
       "True"
      ]
     },
     "execution_count": 315,
     "metadata": {},
     "output_type": "execute_result"
    }
   ],
   "source": [
    "x>y"
   ]
  },
  {
   "cell_type": "code",
   "execution_count": 316,
   "id": "743a655e",
   "metadata": {},
   "outputs": [
    {
     "data": {
      "text/plain": [
       "True"
      ]
     },
     "execution_count": 316,
     "metadata": {},
     "output_type": "execute_result"
    }
   ],
   "source": [
    "x=\"abcd1234\"\n",
    "x[5: ].isdigit()"
   ]
  },
  {
   "cell_type": "code",
   "execution_count": 317,
   "id": "21ac8a12",
   "metadata": {},
   "outputs": [
    {
     "data": {
      "text/plain": [
       "3"
      ]
     },
     "execution_count": 317,
     "metadata": {},
     "output_type": "execute_result"
    }
   ],
   "source": [
    "x=\"12 34@ w 5\"\n",
    "x.count(\" \")"
   ]
  },
  {
   "cell_type": "code",
   "execution_count": 318,
   "id": "63d0b939",
   "metadata": {},
   "outputs": [
    {
     "data": {
      "text/plain": [
       "2"
      ]
     },
     "execution_count": 318,
     "metadata": {},
     "output_type": "execute_result"
    }
   ],
   "source": [
    "x.find(\" \")"
   ]
  },
  {
   "cell_type": "code",
   "execution_count": 319,
   "id": "c39ef817",
   "metadata": {},
   "outputs": [
    {
     "data": {
      "text/plain": [
       "6"
      ]
     },
     "execution_count": 319,
     "metadata": {},
     "output_type": "execute_result"
    }
   ],
   "source": [
    "x.find(\" \",3)"
   ]
  },
  {
   "cell_type": "code",
   "execution_count": 320,
   "id": "ed820291",
   "metadata": {},
   "outputs": [
    {
     "data": {
      "text/plain": [
       "8"
      ]
     },
     "execution_count": 320,
     "metadata": {},
     "output_type": "execute_result"
    }
   ],
   "source": [
    "x.find(\" \",7)"
   ]
  },
  {
   "cell_type": "code",
   "execution_count": 321,
   "id": "53687f90",
   "metadata": {},
   "outputs": [
    {
     "data": {
      "text/plain": [
       "True"
      ]
     },
     "execution_count": 321,
     "metadata": {},
     "output_type": "execute_result"
    }
   ],
   "source": [
    "x=10\n",
    "y=11\n",
    "x<=y"
   ]
  },
  {
   "cell_type": "code",
   "execution_count": 322,
   "id": "1a67ce92",
   "metadata": {},
   "outputs": [
    {
     "data": {
      "text/plain": [
       "True"
      ]
     },
     "execution_count": 322,
     "metadata": {},
     "output_type": "execute_result"
    }
   ],
   "source": [
    "x=111\n",
    "y=121\n",
    "x!=y"
   ]
  },
  {
   "cell_type": "code",
   "execution_count": 323,
   "id": "fddf3394",
   "metadata": {},
   "outputs": [
    {
     "data": {
      "text/plain": [
       "True"
      ]
     },
     "execution_count": 323,
     "metadata": {},
     "output_type": "execute_result"
    }
   ],
   "source": [
    "x=10\n",
    "y=10\n",
    "x is y"
   ]
  },
  {
   "cell_type": "code",
   "execution_count": 324,
   "id": "ee85400f",
   "metadata": {},
   "outputs": [
    {
     "data": {
      "text/plain": [
       "True"
      ]
     },
     "execution_count": 324,
     "metadata": {},
     "output_type": "execute_result"
    }
   ],
   "source": [
    "x=20\n",
    "y=30\n",
    "x is not y"
   ]
  },
  {
   "cell_type": "code",
   "execution_count": 325,
   "id": "cb387ead",
   "metadata": {},
   "outputs": [],
   "source": [
    "#BITWISE OPERATORS:"
   ]
  },
  {
   "cell_type": "code",
   "execution_count": 326,
   "id": "fbdda6f4",
   "metadata": {},
   "outputs": [],
   "source": [
    "a=3\n",
    "b=2"
   ]
  },
  {
   "cell_type": "code",
   "execution_count": 327,
   "id": "fef176cf",
   "metadata": {},
   "outputs": [
    {
     "data": {
      "text/plain": [
       "2"
      ]
     },
     "execution_count": 327,
     "metadata": {},
     "output_type": "execute_result"
    }
   ],
   "source": [
    "a & b"
   ]
  },
  {
   "cell_type": "code",
   "execution_count": 328,
   "id": "d3d3fa6e",
   "metadata": {},
   "outputs": [
    {
     "data": {
      "text/plain": [
       "'0b11'"
      ]
     },
     "execution_count": 328,
     "metadata": {},
     "output_type": "execute_result"
    }
   ],
   "source": [
    "bin(3)"
   ]
  },
  {
   "cell_type": "code",
   "execution_count": 329,
   "id": "ad29d168",
   "metadata": {},
   "outputs": [
    {
     "data": {
      "text/plain": [
       "'0b10'"
      ]
     },
     "execution_count": 329,
     "metadata": {},
     "output_type": "execute_result"
    }
   ],
   "source": [
    "bin(2)"
   ]
  },
  {
   "cell_type": "code",
   "execution_count": 330,
   "id": "e29c331b",
   "metadata": {},
   "outputs": [
    {
     "data": {
      "text/plain": [
       "'0b101'"
      ]
     },
     "execution_count": 330,
     "metadata": {},
     "output_type": "execute_result"
    }
   ],
   "source": [
    "bin(5)"
   ]
  },
  {
   "cell_type": "code",
   "execution_count": 331,
   "id": "d5de5023",
   "metadata": {},
   "outputs": [
    {
     "data": {
      "text/plain": [
       "7"
      ]
     },
     "execution_count": 331,
     "metadata": {},
     "output_type": "execute_result"
    }
   ],
   "source": [
    "3 | 4"
   ]
  },
  {
   "cell_type": "code",
   "execution_count": 332,
   "id": "ea884a72",
   "metadata": {},
   "outputs": [
    {
     "data": {
      "text/plain": [
       "'0b11'"
      ]
     },
     "execution_count": 332,
     "metadata": {},
     "output_type": "execute_result"
    }
   ],
   "source": [
    "bin(3)"
   ]
  },
  {
   "cell_type": "code",
   "execution_count": 333,
   "id": "94771103",
   "metadata": {},
   "outputs": [
    {
     "data": {
      "text/plain": [
       "'0b100'"
      ]
     },
     "execution_count": 333,
     "metadata": {},
     "output_type": "execute_result"
    }
   ],
   "source": [
    "bin(4)"
   ]
  },
  {
   "cell_type": "code",
   "execution_count": 334,
   "id": "19438093",
   "metadata": {},
   "outputs": [
    {
     "data": {
      "text/plain": [
       "'0b111'"
      ]
     },
     "execution_count": 334,
     "metadata": {},
     "output_type": "execute_result"
    }
   ],
   "source": [
    "bin(7)"
   ]
  },
  {
   "cell_type": "code",
   "execution_count": 335,
   "id": "4d2c6b6b",
   "metadata": {},
   "outputs": [],
   "source": [
    "a=10"
   ]
  },
  {
   "cell_type": "code",
   "execution_count": 336,
   "id": "0b9aa85b",
   "metadata": {},
   "outputs": [
    {
     "data": {
      "text/plain": [
       "-11"
      ]
     },
     "execution_count": 336,
     "metadata": {},
     "output_type": "execute_result"
    }
   ],
   "source": [
    "~a"
   ]
  },
  {
   "cell_type": "code",
   "execution_count": 337,
   "id": "eb920ae7",
   "metadata": {},
   "outputs": [],
   "source": [
    "a=100"
   ]
  },
  {
   "cell_type": "code",
   "execution_count": 338,
   "id": "274d729d",
   "metadata": {},
   "outputs": [
    {
     "data": {
      "text/plain": [
       "-101"
      ]
     },
     "execution_count": 338,
     "metadata": {},
     "output_type": "execute_result"
    }
   ],
   "source": [
    "~a"
   ]
  },
  {
   "cell_type": "code",
   "execution_count": 339,
   "id": "b28be21d",
   "metadata": {},
   "outputs": [],
   "source": [
    "a=-100"
   ]
  },
  {
   "cell_type": "code",
   "execution_count": 340,
   "id": "cd934417",
   "metadata": {},
   "outputs": [
    {
     "data": {
      "text/plain": [
       "99"
      ]
     },
     "execution_count": 340,
     "metadata": {},
     "output_type": "execute_result"
    }
   ],
   "source": [
    "~a"
   ]
  },
  {
   "cell_type": "code",
   "execution_count": 341,
   "id": "07f0acf2",
   "metadata": {},
   "outputs": [],
   "source": [
    "a=3\n",
    "b=2"
   ]
  },
  {
   "cell_type": "code",
   "execution_count": 342,
   "id": "c4319bd3",
   "metadata": {},
   "outputs": [
    {
     "data": {
      "text/plain": [
       "1"
      ]
     },
     "execution_count": 342,
     "metadata": {},
     "output_type": "execute_result"
    }
   ],
   "source": [
    "a^b"
   ]
  },
  {
   "cell_type": "code",
   "execution_count": 343,
   "id": "abde3127",
   "metadata": {},
   "outputs": [
    {
     "data": {
      "text/plain": [
       "'0b11'"
      ]
     },
     "execution_count": 343,
     "metadata": {},
     "output_type": "execute_result"
    }
   ],
   "source": [
    "bin(a)"
   ]
  },
  {
   "cell_type": "code",
   "execution_count": 344,
   "id": "8e757b17",
   "metadata": {},
   "outputs": [
    {
     "data": {
      "text/plain": [
       "'0b10'"
      ]
     },
     "execution_count": 344,
     "metadata": {},
     "output_type": "execute_result"
    }
   ],
   "source": [
    "bin(b)"
   ]
  },
  {
   "cell_type": "code",
   "execution_count": 345,
   "id": "218b3142",
   "metadata": {},
   "outputs": [
    {
     "data": {
      "text/plain": [
       "5"
      ]
     },
     "execution_count": 345,
     "metadata": {},
     "output_type": "execute_result"
    }
   ],
   "source": [
    "10>>1"
   ]
  },
  {
   "cell_type": "code",
   "execution_count": 346,
   "id": "ae58d28e",
   "metadata": {},
   "outputs": [
    {
     "data": {
      "text/plain": [
       "'0b1010'"
      ]
     },
     "execution_count": 346,
     "metadata": {},
     "output_type": "execute_result"
    }
   ],
   "source": [
    "bin(10)"
   ]
  },
  {
   "cell_type": "code",
   "execution_count": 347,
   "id": "0457d78b",
   "metadata": {},
   "outputs": [
    {
     "data": {
      "text/plain": [
       "'0b101'"
      ]
     },
     "execution_count": 347,
     "metadata": {},
     "output_type": "execute_result"
    }
   ],
   "source": [
    "bin(5)"
   ]
  },
  {
   "cell_type": "code",
   "execution_count": 348,
   "id": "049b706a",
   "metadata": {},
   "outputs": [
    {
     "data": {
      "text/plain": [
       "5"
      ]
     },
     "execution_count": 348,
     "metadata": {},
     "output_type": "execute_result"
    }
   ],
   "source": [
    "20>>2"
   ]
  },
  {
   "cell_type": "code",
   "execution_count": 349,
   "id": "91cbe074",
   "metadata": {},
   "outputs": [
    {
     "data": {
      "text/plain": [
       "'0b10100'"
      ]
     },
     "execution_count": 349,
     "metadata": {},
     "output_type": "execute_result"
    }
   ],
   "source": [
    "bin(20)"
   ]
  },
  {
   "cell_type": "code",
   "execution_count": 350,
   "id": "39f5d8df",
   "metadata": {},
   "outputs": [
    {
     "data": {
      "text/plain": [
       "'0b101'"
      ]
     },
     "execution_count": 350,
     "metadata": {},
     "output_type": "execute_result"
    }
   ],
   "source": [
    "bin(5)"
   ]
  },
  {
   "cell_type": "code",
   "execution_count": 351,
   "id": "735922d4",
   "metadata": {},
   "outputs": [
    {
     "data": {
      "text/plain": [
       "20"
      ]
     },
     "execution_count": 351,
     "metadata": {},
     "output_type": "execute_result"
    }
   ],
   "source": [
    "10<<1"
   ]
  },
  {
   "cell_type": "code",
   "execution_count": 352,
   "id": "a6f8e5ac",
   "metadata": {},
   "outputs": [],
   "source": [
    "#COLLECTION***:"
   ]
  },
  {
   "cell_type": "code",
   "execution_count": 353,
   "id": "2c0f9a3c",
   "metadata": {},
   "outputs": [],
   "source": [
    "#LIST:"
   ]
  },
  {
   "cell_type": "code",
   "execution_count": 354,
   "id": "c1666d4c",
   "metadata": {},
   "outputs": [],
   "source": [
    "x=[1,2,3,4,5,6,7,8]"
   ]
  },
  {
   "cell_type": "code",
   "execution_count": 355,
   "id": "a1d4546b",
   "metadata": {},
   "outputs": [
    {
     "data": {
      "text/plain": [
       "list"
      ]
     },
     "execution_count": 355,
     "metadata": {},
     "output_type": "execute_result"
    }
   ],
   "source": [
    "type(x)"
   ]
  },
  {
   "cell_type": "code",
   "execution_count": 356,
   "id": "4a0002a8",
   "metadata": {},
   "outputs": [],
   "source": [
    "y=list((1,2,3,4,5,6,7))"
   ]
  },
  {
   "cell_type": "code",
   "execution_count": 357,
   "id": "4844a695",
   "metadata": {},
   "outputs": [
    {
     "data": {
      "text/plain": [
       "list"
      ]
     },
     "execution_count": 357,
     "metadata": {},
     "output_type": "execute_result"
    }
   ],
   "source": [
    "type(y)"
   ]
  },
  {
   "cell_type": "code",
   "execution_count": 358,
   "id": "803d857a",
   "metadata": {},
   "outputs": [],
   "source": [
    "z=[1,2,3,1.1,2.3,2+3j,\"abcdef\"]"
   ]
  },
  {
   "cell_type": "code",
   "execution_count": 359,
   "id": "9b4b1ae1",
   "metadata": {},
   "outputs": [
    {
     "data": {
      "text/plain": [
       "list"
      ]
     },
     "execution_count": 359,
     "metadata": {},
     "output_type": "execute_result"
    }
   ],
   "source": [
    "type(z)"
   ]
  },
  {
   "cell_type": "code",
   "execution_count": 360,
   "id": "ee42899f",
   "metadata": {},
   "outputs": [
    {
     "data": {
      "text/plain": [
       "7"
      ]
     },
     "execution_count": 360,
     "metadata": {},
     "output_type": "execute_result"
    }
   ],
   "source": [
    "len(z)"
   ]
  },
  {
   "cell_type": "code",
   "execution_count": 361,
   "id": "cd727a03",
   "metadata": {},
   "outputs": [
    {
     "data": {
      "text/plain": [
       "[1.1, 2.3, (2+3j)]"
      ]
     },
     "execution_count": 361,
     "metadata": {},
     "output_type": "execute_result"
    }
   ],
   "source": [
    "z[3:6]"
   ]
  },
  {
   "cell_type": "code",
   "execution_count": 362,
   "id": "47c1d4fc",
   "metadata": {},
   "outputs": [
    {
     "data": {
      "text/plain": [
       "[1, 2, 3, 1.1, 2.3, (2+3j), 'abcdef']"
      ]
     },
     "execution_count": 362,
     "metadata": {},
     "output_type": "execute_result"
    }
   ],
   "source": [
    "z"
   ]
  },
  {
   "cell_type": "code",
   "execution_count": 364,
   "id": "2b77923f",
   "metadata": {},
   "outputs": [
    {
     "data": {
      "text/plain": [
       "list"
      ]
     },
     "execution_count": 364,
     "metadata": {},
     "output_type": "execute_result"
    }
   ],
   "source": [
    "type(z)"
   ]
  },
  {
   "cell_type": "code",
   "execution_count": 366,
   "id": "900178a6",
   "metadata": {},
   "outputs": [
    {
     "data": {
      "text/plain": [
       "[1, 2, 3, 1.1, 2.3, (2+3j), 'abcdef']"
      ]
     },
     "execution_count": 366,
     "metadata": {},
     "output_type": "execute_result"
    }
   ],
   "source": [
    "z"
   ]
  },
  {
   "cell_type": "code",
   "execution_count": 368,
   "id": "24c006b3",
   "metadata": {},
   "outputs": [
    {
     "data": {
      "text/plain": [
       "[1.1, 2.3, (2+3j), 'abcdef']"
      ]
     },
     "execution_count": 368,
     "metadata": {},
     "output_type": "execute_result"
    }
   ],
   "source": [
    "z[3:8]"
   ]
  },
  {
   "cell_type": "code",
   "execution_count": 369,
   "id": "9ef4f850",
   "metadata": {},
   "outputs": [
    {
     "data": {
      "text/plain": [
       "'abcdef'"
      ]
     },
     "execution_count": 369,
     "metadata": {},
     "output_type": "execute_result"
    }
   ],
   "source": [
    "z[-1]"
   ]
  },
  {
   "cell_type": "code",
   "execution_count": 370,
   "id": "200e7c3b",
   "metadata": {},
   "outputs": [],
   "source": [
    " q=[1,2,3,\"a\",\"b\"]"
   ]
  },
  {
   "cell_type": "code",
   "execution_count": 371,
   "id": "ebe4ef74",
   "metadata": {},
   "outputs": [],
   "source": [
    "q[0]=100"
   ]
  },
  {
   "cell_type": "code",
   "execution_count": 372,
   "id": "02af7d65",
   "metadata": {},
   "outputs": [
    {
     "data": {
      "text/plain": [
       "[100, 2, 3, 'a', 'b']"
      ]
     },
     "execution_count": 372,
     "metadata": {},
     "output_type": "execute_result"
    }
   ],
   "source": [
    "q"
   ]
  },
  {
   "cell_type": "code",
   "execution_count": 373,
   "id": "b971d4ad",
   "metadata": {},
   "outputs": [],
   "source": [
    "q[2:3]=200,300"
   ]
  },
  {
   "cell_type": "code",
   "execution_count": 374,
   "id": "f5e44472",
   "metadata": {},
   "outputs": [
    {
     "data": {
      "text/plain": [
       "[100, 2, 200, 300, 'a', 'b']"
      ]
     },
     "execution_count": 374,
     "metadata": {},
     "output_type": "execute_result"
    }
   ],
   "source": [
    "q"
   ]
  },
  {
   "cell_type": "code",
   "execution_count": 375,
   "id": "753ee727",
   "metadata": {},
   "outputs": [],
   "source": [
    "q[-1]=2+1j"
   ]
  },
  {
   "cell_type": "code",
   "execution_count": 376,
   "id": "54e7b1e2",
   "metadata": {},
   "outputs": [
    {
     "data": {
      "text/plain": [
       "[100, 2, 200, 300, 'a', (2+1j)]"
      ]
     },
     "execution_count": 376,
     "metadata": {},
     "output_type": "execute_result"
    }
   ],
   "source": [
    "q"
   ]
  },
  {
   "cell_type": "code",
   "execution_count": 377,
   "id": "5bb6b26f",
   "metadata": {},
   "outputs": [],
   "source": [
    "q[1:2]=10000,1.2"
   ]
  },
  {
   "cell_type": "code",
   "execution_count": 378,
   "id": "048a04ac",
   "metadata": {},
   "outputs": [
    {
     "data": {
      "text/plain": [
       "[100, 10000, 1.2, 200, 300, 'a', (2+1j)]"
      ]
     },
     "execution_count": 378,
     "metadata": {},
     "output_type": "execute_result"
    }
   ],
   "source": [
    "q"
   ]
  },
  {
   "cell_type": "code",
   "execution_count": 379,
   "id": "9d861bc4",
   "metadata": {},
   "outputs": [],
   "source": [
    "x=[1,2,3,4]"
   ]
  },
  {
   "cell_type": "code",
   "execution_count": 380,
   "id": "c5239288",
   "metadata": {},
   "outputs": [],
   "source": [
    "x.insert(0,\"abcedf\")"
   ]
  },
  {
   "cell_type": "code",
   "execution_count": 381,
   "id": "35ebbdb4",
   "metadata": {},
   "outputs": [
    {
     "data": {
      "text/plain": [
       "['abcedf', 1, 2, 3, 4]"
      ]
     },
     "execution_count": 381,
     "metadata": {},
     "output_type": "execute_result"
    }
   ],
   "source": [
    "x"
   ]
  },
  {
   "cell_type": "code",
   "execution_count": 382,
   "id": "1c1c4708",
   "metadata": {},
   "outputs": [],
   "source": [
    "x.insert(3,\"cdfg\")"
   ]
  },
  {
   "cell_type": "code",
   "execution_count": 383,
   "id": "2da5f5f2",
   "metadata": {},
   "outputs": [
    {
     "data": {
      "text/plain": [
       "['abcedf', 1, 2, 'cdfg', 3, 4]"
      ]
     },
     "execution_count": 383,
     "metadata": {},
     "output_type": "execute_result"
    }
   ],
   "source": [
    "x"
   ]
  },
  {
   "cell_type": "code",
   "execution_count": 384,
   "id": "ceac305f",
   "metadata": {},
   "outputs": [],
   "source": [
    "x=[1,2,3,4]\n",
    "x.append(1)"
   ]
  },
  {
   "cell_type": "code",
   "execution_count": 385,
   "id": "45cb10fd",
   "metadata": {},
   "outputs": [
    {
     "data": {
      "text/plain": [
       "[1, 2, 3, 4, 1]"
      ]
     },
     "execution_count": 385,
     "metadata": {},
     "output_type": "execute_result"
    }
   ],
   "source": [
    "x"
   ]
  },
  {
   "cell_type": "code",
   "execution_count": 386,
   "id": "c614a2f5",
   "metadata": {},
   "outputs": [],
   "source": [
    "x.append(\"ab\")"
   ]
  },
  {
   "cell_type": "code",
   "execution_count": 387,
   "id": "d53b7a00",
   "metadata": {},
   "outputs": [
    {
     "data": {
      "text/plain": [
       "[1, 2, 3, 4, 1, 'ab']"
      ]
     },
     "execution_count": 387,
     "metadata": {},
     "output_type": "execute_result"
    }
   ],
   "source": [
    "x"
   ]
  },
  {
   "cell_type": "code",
   "execution_count": 388,
   "id": "7f627475",
   "metadata": {},
   "outputs": [],
   "source": [
    "x=[1,2,3,4]"
   ]
  },
  {
   "cell_type": "code",
   "execution_count": 389,
   "id": "f4f75837",
   "metadata": {},
   "outputs": [],
   "source": [
    "x.extend(\"56789\")"
   ]
  },
  {
   "cell_type": "code",
   "execution_count": 390,
   "id": "99621a72",
   "metadata": {},
   "outputs": [
    {
     "data": {
      "text/plain": [
       "[1, 2, 3, 4, '5', '6', '7', '8', '9']"
      ]
     },
     "execution_count": 390,
     "metadata": {},
     "output_type": "execute_result"
    }
   ],
   "source": [
    "x"
   ]
  },
  {
   "cell_type": "code",
   "execution_count": 391,
   "id": "507570ae",
   "metadata": {},
   "outputs": [],
   "source": [
    "x.extend([5,6,7,8,9,10])"
   ]
  },
  {
   "cell_type": "code",
   "execution_count": 394,
   "id": "d6f179c7",
   "metadata": {},
   "outputs": [
    {
     "name": "stdout",
     "output_type": "stream",
     "text": [
      "number 1 is :100\n",
      "number 2 is :20\n",
      "x 100 ,y 20 , sum is 120 ,min is 80 , division is 5.0 ,mul of 2000 ,percentage of 0 ,// of 5\n"
     ]
    }
   ],
   "source": [
    "x=int(input(\"number 1 is :\"))\n",
    "y=int(input(\"number 2 is :\"))\n",
    "z=\"x {} ,y {} , sum is {} ,min is {} , division is {} ,mul of {} ,percentage of {} ,// of {}\".format(x,y,x+y,x-y,x/y,x*y,x%y,x//y)\n",
    "print(z)"
   ]
  },
  {
   "cell_type": "code",
   "execution_count": 395,
   "id": "add98465",
   "metadata": {},
   "outputs": [
    {
     "data": {
      "text/plain": [
       "[]"
      ]
     },
     "execution_count": 395,
     "metadata": {},
     "output_type": "execute_result"
    }
   ],
   "source": [
    "var10=[]\n",
    "var10"
   ]
  },
  {
   "cell_type": "code",
   "execution_count": 396,
   "id": "3e308eed",
   "metadata": {},
   "outputs": [],
   "source": [
    "var10.extend(\"abcdef\")"
   ]
  },
  {
   "cell_type": "code",
   "execution_count": 397,
   "id": "0ce91d8c",
   "metadata": {},
   "outputs": [
    {
     "data": {
      "text/plain": [
       "['a', 'b', 'c', 'd', 'e', 'f']"
      ]
     },
     "execution_count": 397,
     "metadata": {},
     "output_type": "execute_result"
    }
   ],
   "source": [
    "var10"
   ]
  },
  {
   "cell_type": "code",
   "execution_count": 398,
   "id": "d547fa97",
   "metadata": {},
   "outputs": [],
   "source": [
    "x=[1,2,3,4,5]"
   ]
  },
  {
   "cell_type": "code",
   "execution_count": 399,
   "id": "6e573ea1",
   "metadata": {},
   "outputs": [
    {
     "data": {
      "text/plain": [
       "list"
      ]
     },
     "execution_count": 399,
     "metadata": {},
     "output_type": "execute_result"
    }
   ],
   "source": [
    "type(x)"
   ]
  },
  {
   "cell_type": "code",
   "execution_count": 400,
   "id": "97697543",
   "metadata": {},
   "outputs": [],
   "source": [
    "x=[1,2,3,5,6,7,8,9]"
   ]
  },
  {
   "cell_type": "code",
   "execution_count": 401,
   "id": "5e094367",
   "metadata": {},
   "outputs": [],
   "source": [
    "x.insert(3,4)"
   ]
  },
  {
   "cell_type": "code",
   "execution_count": 402,
   "id": "699f79f1",
   "metadata": {},
   "outputs": [
    {
     "data": {
      "text/plain": [
       "[1, 2, 3, 4, 5, 6, 7, 8, 9]"
      ]
     },
     "execution_count": 402,
     "metadata": {},
     "output_type": "execute_result"
    }
   ],
   "source": [
    "x"
   ]
  },
  {
   "cell_type": "code",
   "execution_count": 403,
   "id": "7e868cb1",
   "metadata": {},
   "outputs": [],
   "source": [
    "x=[1,2,3,5,6,7,8,9]"
   ]
  },
  {
   "cell_type": "code",
   "execution_count": 404,
   "id": "99861af7",
   "metadata": {},
   "outputs": [],
   "source": [
    "x.append(10)"
   ]
  },
  {
   "cell_type": "code",
   "execution_count": 405,
   "id": "45d75f73",
   "metadata": {},
   "outputs": [
    {
     "data": {
      "text/plain": [
       "[1, 2, 3, 5, 6, 7, 8, 9, 10]"
      ]
     },
     "execution_count": 405,
     "metadata": {},
     "output_type": "execute_result"
    }
   ],
   "source": [
    "x"
   ]
  },
  {
   "cell_type": "code",
   "execution_count": 406,
   "id": "5244628b",
   "metadata": {},
   "outputs": [],
   "source": [
    "x=[\"hello\"]"
   ]
  },
  {
   "cell_type": "code",
   "execution_count": 407,
   "id": "f856f7f3",
   "metadata": {},
   "outputs": [],
   "source": [
    "x.append(\"world\")"
   ]
  },
  {
   "cell_type": "code",
   "execution_count": 408,
   "id": "050e6933",
   "metadata": {},
   "outputs": [
    {
     "data": {
      "text/plain": [
       "['hello', 'world']"
      ]
     },
     "execution_count": 408,
     "metadata": {},
     "output_type": "execute_result"
    }
   ],
   "source": [
    "x"
   ]
  },
  {
   "cell_type": "markdown",
   "id": "4fc02fc4",
   "metadata": {},
   "source": [
    "# REMOVE METHOD"
   ]
  },
  {
   "cell_type": "code",
   "execution_count": 409,
   "id": "368b47b0",
   "metadata": {},
   "outputs": [],
   "source": [
    "x=[\"a\",\"b\",\"c\",\"d\",1,2,3,\"a\"]"
   ]
  },
  {
   "cell_type": "code",
   "execution_count": 410,
   "id": "870dbdc1",
   "metadata": {},
   "outputs": [],
   "source": [
    "x.remove(\"c\")"
   ]
  },
  {
   "cell_type": "code",
   "execution_count": 411,
   "id": "2167e5be",
   "metadata": {},
   "outputs": [
    {
     "data": {
      "text/plain": [
       "['a', 'b', 'd', 1, 2, 3, 'a']"
      ]
     },
     "execution_count": 411,
     "metadata": {},
     "output_type": "execute_result"
    }
   ],
   "source": [
    "x"
   ]
  },
  {
   "cell_type": "markdown",
   "id": "6d9a72bd",
   "metadata": {},
   "source": [
    "# POP METHOD"
   ]
  },
  {
   "cell_type": "code",
   "execution_count": 412,
   "id": "50859574",
   "metadata": {},
   "outputs": [],
   "source": [
    "x=[\"a\",\"b\",\"c\",\"d\",1,2,3,\"a\"]"
   ]
  },
  {
   "cell_type": "code",
   "execution_count": 413,
   "id": "4482b44e",
   "metadata": {},
   "outputs": [
    {
     "data": {
      "text/plain": [
       "'c'"
      ]
     },
     "execution_count": 413,
     "metadata": {},
     "output_type": "execute_result"
    }
   ],
   "source": [
    "x.pop(2)"
   ]
  },
  {
   "cell_type": "code",
   "execution_count": 414,
   "id": "539cd49c",
   "metadata": {},
   "outputs": [
    {
     "data": {
      "text/plain": [
       "['a', 'b', 'd', 1, 2, 3, 'a']"
      ]
     },
     "execution_count": 414,
     "metadata": {},
     "output_type": "execute_result"
    }
   ],
   "source": [
    "x"
   ]
  },
  {
   "cell_type": "code",
   "execution_count": 415,
   "id": "b42a65ed",
   "metadata": {},
   "outputs": [],
   "source": [
    "x=[1,2,3,4,5,6,7]"
   ]
  },
  {
   "cell_type": "code",
   "execution_count": 416,
   "id": "a70653e1",
   "metadata": {},
   "outputs": [
    {
     "data": {
      "text/plain": [
       "4"
      ]
     },
     "execution_count": 416,
     "metadata": {},
     "output_type": "execute_result"
    }
   ],
   "source": [
    "x.pop(3)"
   ]
  },
  {
   "cell_type": "code",
   "execution_count": 417,
   "id": "b2814eea",
   "metadata": {},
   "outputs": [
    {
     "data": {
      "text/plain": [
       "[1, 2, 3, 5, 6, 7]"
      ]
     },
     "execution_count": 417,
     "metadata": {},
     "output_type": "execute_result"
    }
   ],
   "source": [
    "x"
   ]
  },
  {
   "cell_type": "markdown",
   "id": "60b54e6a",
   "metadata": {},
   "source": [
    "# DEL(KEYWORD)"
   ]
  },
  {
   "cell_type": "code",
   "execution_count": 418,
   "id": "43202534",
   "metadata": {},
   "outputs": [],
   "source": [
    "x=['a','b','c','d']"
   ]
  },
  {
   "cell_type": "code",
   "execution_count": 419,
   "id": "2b0b94f5",
   "metadata": {},
   "outputs": [],
   "source": [
    "del x[2]"
   ]
  },
  {
   "cell_type": "code",
   "execution_count": 420,
   "id": "9fb2cacb",
   "metadata": {},
   "outputs": [
    {
     "data": {
      "text/plain": [
       "['a', 'b', 'd']"
      ]
     },
     "execution_count": 420,
     "metadata": {},
     "output_type": "execute_result"
    }
   ],
   "source": [
    "x"
   ]
  },
  {
   "cell_type": "code",
   "execution_count": 421,
   "id": "a314429e",
   "metadata": {},
   "outputs": [],
   "source": [
    "del x[:]"
   ]
  },
  {
   "cell_type": "code",
   "execution_count": 422,
   "id": "8836c5f2",
   "metadata": {},
   "outputs": [
    {
     "data": {
      "text/plain": [
       "[]"
      ]
     },
     "execution_count": 422,
     "metadata": {},
     "output_type": "execute_result"
    }
   ],
   "source": [
    "x"
   ]
  },
  {
   "cell_type": "markdown",
   "id": "cdc72b43",
   "metadata": {},
   "source": [
    "# sort method"
   ]
  },
  {
   "cell_type": "code",
   "execution_count": 423,
   "id": "5cb02c4e",
   "metadata": {},
   "outputs": [],
   "source": [
    "x=[2,3,5,7,1,9]"
   ]
  },
  {
   "cell_type": "code",
   "execution_count": 424,
   "id": "09950219",
   "metadata": {},
   "outputs": [],
   "source": [
    "x.sort()"
   ]
  },
  {
   "cell_type": "code",
   "execution_count": 425,
   "id": "c7cf5157",
   "metadata": {},
   "outputs": [
    {
     "data": {
      "text/plain": [
       "[1, 2, 3, 5, 7, 9]"
      ]
     },
     "execution_count": 425,
     "metadata": {},
     "output_type": "execute_result"
    }
   ],
   "source": [
    "x"
   ]
  },
  {
   "cell_type": "markdown",
   "id": "85c42802",
   "metadata": {},
   "source": [
    "# x.sort(reverse=True)"
   ]
  },
  {
   "cell_type": "code",
   "execution_count": 426,
   "id": "b88c23d6",
   "metadata": {},
   "outputs": [],
   "source": [
    "x=[2,3,5,7,1,9]"
   ]
  },
  {
   "cell_type": "code",
   "execution_count": 427,
   "id": "4f3f00b0",
   "metadata": {},
   "outputs": [],
   "source": [
    "x.sort(reverse=True)"
   ]
  },
  {
   "cell_type": "code",
   "execution_count": 428,
   "id": "d38cd85e",
   "metadata": {},
   "outputs": [
    {
     "data": {
      "text/plain": [
       "[9, 7, 5, 3, 2, 1]"
      ]
     },
     "execution_count": 428,
     "metadata": {},
     "output_type": "execute_result"
    }
   ],
   "source": [
    "x"
   ]
  },
  {
   "cell_type": "code",
   "execution_count": 429,
   "id": "e6911222",
   "metadata": {},
   "outputs": [],
   "source": [
    "x=[\"b\",\"a\",\"c\",\"e\",\"d\"]"
   ]
  },
  {
   "cell_type": "code",
   "execution_count": 430,
   "id": "287cfa8c",
   "metadata": {},
   "outputs": [],
   "source": [
    "x.sort()"
   ]
  },
  {
   "cell_type": "code",
   "execution_count": 431,
   "id": "ff2c9763",
   "metadata": {},
   "outputs": [
    {
     "data": {
      "text/plain": [
       "['a', 'b', 'c', 'd', 'e']"
      ]
     },
     "execution_count": 431,
     "metadata": {},
     "output_type": "execute_result"
    }
   ],
   "source": [
    "x"
   ]
  },
  {
   "cell_type": "code",
   "execution_count": 432,
   "id": "f00e0ab9",
   "metadata": {},
   "outputs": [],
   "source": [
    "x.sort(reverse=True)"
   ]
  },
  {
   "cell_type": "code",
   "execution_count": 433,
   "id": "9ae24b13",
   "metadata": {},
   "outputs": [
    {
     "data": {
      "text/plain": [
       "['e', 'd', 'c', 'b', 'a']"
      ]
     },
     "execution_count": 433,
     "metadata": {},
     "output_type": "execute_result"
    }
   ],
   "source": [
    "x"
   ]
  },
  {
   "cell_type": "code",
   "execution_count": 434,
   "id": "f1f89ffc",
   "metadata": {},
   "outputs": [],
   "source": [
    "x=[\"B\",\"a\",\"d\",\"e\",\"c\",\"b\"]"
   ]
  },
  {
   "cell_type": "code",
   "execution_count": 435,
   "id": "ca89da94",
   "metadata": {},
   "outputs": [],
   "source": [
    "x.sort()"
   ]
  },
  {
   "cell_type": "code",
   "execution_count": 436,
   "id": "13f49bb7",
   "metadata": {},
   "outputs": [
    {
     "data": {
      "text/plain": [
       "['B', 'a', 'b', 'c', 'd', 'e']"
      ]
     },
     "execution_count": 436,
     "metadata": {},
     "output_type": "execute_result"
    }
   ],
   "source": [
    "x"
   ]
  },
  {
   "cell_type": "code",
   "execution_count": 437,
   "id": "15116ffd",
   "metadata": {},
   "outputs": [],
   "source": [
    "x=[\"B\",\"a\",\"d\",\"e\",\"c\",\"b\",\"A\"]"
   ]
  },
  {
   "cell_type": "code",
   "execution_count": 438,
   "id": "e61d9ee8",
   "metadata": {},
   "outputs": [],
   "source": [
    "x.sort()"
   ]
  },
  {
   "cell_type": "code",
   "execution_count": 439,
   "id": "2ffc0a9e",
   "metadata": {},
   "outputs": [
    {
     "data": {
      "text/plain": [
       "['A', 'B', 'a', 'b', 'c', 'd', 'e']"
      ]
     },
     "execution_count": 439,
     "metadata": {},
     "output_type": "execute_result"
    }
   ],
   "source": [
    "x"
   ]
  },
  {
   "cell_type": "code",
   "execution_count": 440,
   "id": "f8d59e55",
   "metadata": {},
   "outputs": [],
   "source": [
    "x.sort(reverse=True)"
   ]
  },
  {
   "cell_type": "code",
   "execution_count": 441,
   "id": "8e494f5a",
   "metadata": {},
   "outputs": [
    {
     "data": {
      "text/plain": [
       "['e', 'd', 'c', 'b', 'a', 'B', 'A']"
      ]
     },
     "execution_count": 441,
     "metadata": {},
     "output_type": "execute_result"
    }
   ],
   "source": [
    "x"
   ]
  },
  {
   "cell_type": "markdown",
   "id": "d92e6ae7",
   "metadata": {},
   "source": [
    "# COPY METHOD"
   ]
  },
  {
   "cell_type": "code",
   "execution_count": 443,
   "id": "af728270",
   "metadata": {},
   "outputs": [],
   "source": [
    "x=[1,2,3,4,\"a\",\"b\"]"
   ]
  },
  {
   "cell_type": "code",
   "execution_count": 444,
   "id": "cae5dcb9",
   "metadata": {},
   "outputs": [
    {
     "data": {
      "text/plain": [
       "[1, 2, 3, 4, 'a', 'b']"
      ]
     },
     "execution_count": 444,
     "metadata": {},
     "output_type": "execute_result"
    }
   ],
   "source": [
    "x"
   ]
  },
  {
   "cell_type": "code",
   "execution_count": 445,
   "id": "db0888cf",
   "metadata": {},
   "outputs": [],
   "source": [
    "y=x.copy()"
   ]
  },
  {
   "cell_type": "code",
   "execution_count": 446,
   "id": "513106b1",
   "metadata": {},
   "outputs": [
    {
     "data": {
      "text/plain": [
       "[1, 2, 3, 4, 'a', 'b']"
      ]
     },
     "execution_count": 446,
     "metadata": {},
     "output_type": "execute_result"
    }
   ],
   "source": [
    "y"
   ]
  },
  {
   "cell_type": "code",
   "execution_count": 447,
   "id": "f9204894",
   "metadata": {},
   "outputs": [],
   "source": [
    "z=y"
   ]
  },
  {
   "cell_type": "code",
   "execution_count": 448,
   "id": "5b18aa6b",
   "metadata": {},
   "outputs": [],
   "source": [
    "del z[0]"
   ]
  },
  {
   "cell_type": "code",
   "execution_count": 449,
   "id": "2e36044a",
   "metadata": {},
   "outputs": [
    {
     "data": {
      "text/plain": [
       "[2, 3, 4, 'a', 'b']"
      ]
     },
     "execution_count": 449,
     "metadata": {},
     "output_type": "execute_result"
    }
   ],
   "source": [
    "z"
   ]
  },
  {
   "cell_type": "code",
   "execution_count": 450,
   "id": "e3935831",
   "metadata": {},
   "outputs": [
    {
     "data": {
      "text/plain": [
       "[1, 2, 3, 4, 'a', 'b']"
      ]
     },
     "execution_count": 450,
     "metadata": {},
     "output_type": "execute_result"
    }
   ],
   "source": [
    "x"
   ]
  },
  {
   "cell_type": "markdown",
   "id": "1d2c0272",
   "metadata": {},
   "source": [
    "# COUNT()"
   ]
  },
  {
   "cell_type": "code",
   "execution_count": 451,
   "id": "b65854cb",
   "metadata": {},
   "outputs": [],
   "source": [
    "x=[1,2,3,4,5,6,1,1,1,1,1,1]"
   ]
  },
  {
   "cell_type": "code",
   "execution_count": 452,
   "id": "2c0abf8a",
   "metadata": {},
   "outputs": [
    {
     "data": {
      "text/plain": [
       "7"
      ]
     },
     "execution_count": 452,
     "metadata": {},
     "output_type": "execute_result"
    }
   ],
   "source": [
    "x.count(1)"
   ]
  },
  {
   "cell_type": "markdown",
   "id": "e2200c4a",
   "metadata": {},
   "source": [
    "# index()"
   ]
  },
  {
   "cell_type": "code",
   "execution_count": 453,
   "id": "9edf4eeb",
   "metadata": {},
   "outputs": [],
   "source": [
    "x=[1,2,3,4,5,6,7,8,9,1,1,1]"
   ]
  },
  {
   "cell_type": "code",
   "execution_count": 454,
   "id": "e08ceb68",
   "metadata": {},
   "outputs": [
    {
     "data": {
      "text/plain": [
       "0"
      ]
     },
     "execution_count": 454,
     "metadata": {},
     "output_type": "execute_result"
    }
   ],
   "source": [
    "x.index(1)"
   ]
  },
  {
   "cell_type": "code",
   "execution_count": 455,
   "id": "b79ee415",
   "metadata": {},
   "outputs": [],
   "source": [
    "x.clear()"
   ]
  },
  {
   "cell_type": "code",
   "execution_count": 456,
   "id": "f12e45cc",
   "metadata": {},
   "outputs": [
    {
     "data": {
      "text/plain": [
       "[]"
      ]
     },
     "execution_count": 456,
     "metadata": {},
     "output_type": "execute_result"
    }
   ],
   "source": [
    "x"
   ]
  },
  {
   "cell_type": "code",
   "execution_count": 457,
   "id": "dca1a956",
   "metadata": {},
   "outputs": [],
   "source": [
    "x=[\"a\",\"b\",\"c\",\"d\"]"
   ]
  },
  {
   "cell_type": "code",
   "execution_count": 458,
   "id": "c1762dd4",
   "metadata": {},
   "outputs": [
    {
     "data": {
      "text/plain": [
       "['a', 'b', 'c', 'd']"
      ]
     },
     "execution_count": 458,
     "metadata": {},
     "output_type": "execute_result"
    }
   ],
   "source": [
    "x"
   ]
  },
  {
   "cell_type": "code",
   "execution_count": 459,
   "id": "8ecf3e1c",
   "metadata": {},
   "outputs": [],
   "source": [
    "x[0]=x[0].upper()"
   ]
  },
  {
   "cell_type": "code",
   "execution_count": 460,
   "id": "645648d6",
   "metadata": {},
   "outputs": [
    {
     "data": {
      "text/plain": [
       "['A', 'b', 'c', 'd']"
      ]
     },
     "execution_count": 460,
     "metadata": {},
     "output_type": "execute_result"
    }
   ],
   "source": [
    "x"
   ]
  },
  {
   "cell_type": "code",
   "execution_count": 461,
   "id": "5c05c695",
   "metadata": {},
   "outputs": [],
   "source": [
    "x[2]=x[2].upper()"
   ]
  },
  {
   "cell_type": "code",
   "execution_count": 462,
   "id": "d6d59088",
   "metadata": {},
   "outputs": [
    {
     "data": {
      "text/plain": [
       "['A', 'b', 'C', 'd']"
      ]
     },
     "execution_count": 462,
     "metadata": {},
     "output_type": "execute_result"
    }
   ],
   "source": [
    "x"
   ]
  },
  {
   "cell_type": "code",
   "execution_count": 463,
   "id": "a2e189d5",
   "metadata": {},
   "outputs": [],
   "source": [
    "x.sort()"
   ]
  },
  {
   "cell_type": "code",
   "execution_count": 464,
   "id": "068b9b89",
   "metadata": {},
   "outputs": [
    {
     "data": {
      "text/plain": [
       "['A', 'C', 'b', 'd']"
      ]
     },
     "execution_count": 464,
     "metadata": {},
     "output_type": "execute_result"
    }
   ],
   "source": [
    "x"
   ]
  },
  {
   "cell_type": "code",
   "execution_count": 465,
   "id": "3267bf70",
   "metadata": {},
   "outputs": [],
   "source": [
    " x=[]"
   ]
  },
  {
   "cell_type": "code",
   "execution_count": 466,
   "id": "48d7305c",
   "metadata": {},
   "outputs": [
    {
     "data": {
      "text/plain": [
       "[]"
      ]
     },
     "execution_count": 466,
     "metadata": {},
     "output_type": "execute_result"
    }
   ],
   "source": [
    "x"
   ]
  },
  {
   "cell_type": "code",
   "execution_count": 467,
   "id": "5db8212a",
   "metadata": {},
   "outputs": [
    {
     "name": "stdout",
     "output_type": "stream",
     "text": [
      "value of A 200\n",
      "value of  B 100\n",
      "value of c 2000\n"
     ]
    }
   ],
   "source": [
    "x=int(input(\"value of A \"))\n",
    "y=int(input(\"value of  B \"))\n",
    "z=int(input(\"value of c \"))"
   ]
  },
  {
   "cell_type": "code",
   "execution_count": 468,
   "id": "81a309b6",
   "metadata": {},
   "outputs": [],
   "source": [
    "a=[x,y,z]"
   ]
  },
  {
   "cell_type": "code",
   "execution_count": 469,
   "id": "bac7ef9f",
   "metadata": {},
   "outputs": [
    {
     "data": {
      "text/plain": [
       "[200, 100, 2000]"
      ]
     },
     "execution_count": 469,
     "metadata": {},
     "output_type": "execute_result"
    }
   ],
   "source": [
    "a"
   ]
  },
  {
   "cell_type": "code",
   "execution_count": 470,
   "id": "9e18db57",
   "metadata": {},
   "outputs": [
    {
     "name": "stdout",
     "output_type": "stream",
     "text": [
      "asdfg\n"
     ]
    }
   ],
   "source": [
    "x=input()"
   ]
  },
  {
   "cell_type": "code",
   "execution_count": 471,
   "id": "21fb2ebc",
   "metadata": {},
   "outputs": [
    {
     "data": {
      "text/plain": [
       "['asdfg']"
      ]
     },
     "execution_count": 471,
     "metadata": {},
     "output_type": "execute_result"
    }
   ],
   "source": [
    "x.split()"
   ]
  },
  {
   "cell_type": "code",
   "execution_count": 472,
   "id": "99781836",
   "metadata": {},
   "outputs": [],
   "source": [
    "x=((1,2,3,4))"
   ]
  },
  {
   "cell_type": "code",
   "execution_count": 473,
   "id": "8c2e1142",
   "metadata": {},
   "outputs": [
    {
     "data": {
      "text/plain": [
       "tuple"
      ]
     },
     "execution_count": 473,
     "metadata": {},
     "output_type": "execute_result"
    }
   ],
   "source": [
    "type(x)"
   ]
  },
  {
   "cell_type": "markdown",
   "id": "c31c322b",
   "metadata": {},
   "source": [
    "# sets"
   ]
  },
  {
   "cell_type": "code",
   "execution_count": 474,
   "id": "f6c9bc93",
   "metadata": {},
   "outputs": [],
   "source": [
    "x={1,2,3,4,5,\"a\",\"b\"}"
   ]
  },
  {
   "cell_type": "code",
   "execution_count": 475,
   "id": "bcd3a520",
   "metadata": {},
   "outputs": [
    {
     "data": {
      "text/plain": [
       "set"
      ]
     },
     "execution_count": 475,
     "metadata": {},
     "output_type": "execute_result"
    }
   ],
   "source": [
    "type(x)"
   ]
  },
  {
   "cell_type": "code",
   "execution_count": 476,
   "id": "02513514",
   "metadata": {},
   "outputs": [
    {
     "data": {
      "text/plain": [
       "{1, 2, 3, 4, 5, 'a', 'b'}"
      ]
     },
     "execution_count": 476,
     "metadata": {},
     "output_type": "execute_result"
    }
   ],
   "source": [
    "x"
   ]
  },
  {
   "cell_type": "code",
   "execution_count": 477,
   "id": "eb176014",
   "metadata": {},
   "outputs": [
    {
     "data": {
      "text/plain": [
       "{1}"
      ]
     },
     "execution_count": 477,
     "metadata": {},
     "output_type": "execute_result"
    }
   ],
   "source": [
    "{1,1,1,1,1,1,1}"
   ]
  },
  {
   "cell_type": "code",
   "execution_count": 478,
   "id": "62a60f05",
   "metadata": {},
   "outputs": [],
   "source": [
    "l={1,2,1,2,1,3,4,5,6,1,8,9}"
   ]
  },
  {
   "cell_type": "code",
   "execution_count": 479,
   "id": "343570fa",
   "metadata": {},
   "outputs": [
    {
     "data": {
      "text/plain": [
       "{1, 2, 3, 4, 5, 6, 8, 9}"
      ]
     },
     "execution_count": 479,
     "metadata": {},
     "output_type": "execute_result"
    }
   ],
   "source": [
    "set(l)"
   ]
  },
  {
   "cell_type": "code",
   "execution_count": 480,
   "id": "b9af6e40",
   "metadata": {},
   "outputs": [
    {
     "data": {
      "text/plain": [
       "[1, 2, 3, 4, 5, 6, 8, 9]"
      ]
     },
     "execution_count": 480,
     "metadata": {},
     "output_type": "execute_result"
    }
   ],
   "source": [
    "list(set(l))"
   ]
  },
  {
   "cell_type": "code",
   "execution_count": 481,
   "id": "7debd0ea",
   "metadata": {},
   "outputs": [],
   "source": [
    "x=\"abcadcdeffde\""
   ]
  },
  {
   "cell_type": "code",
   "execution_count": 482,
   "id": "438c2dbe",
   "metadata": {},
   "outputs": [],
   "source": [
    "q=x[0:3]+x[6:9]"
   ]
  },
  {
   "cell_type": "code",
   "execution_count": 483,
   "id": "f4c3130a",
   "metadata": {},
   "outputs": [
    {
     "data": {
      "text/plain": [
       "'abcdef'"
      ]
     },
     "execution_count": 483,
     "metadata": {},
     "output_type": "execute_result"
    }
   ],
   "source": [
    "q"
   ]
  },
  {
   "cell_type": "code",
   "execution_count": 484,
   "id": "9131350a",
   "metadata": {},
   "outputs": [
    {
     "data": {
      "text/plain": [
       "{'a', 'b', 'c', 'd', 'e', 'f'}"
      ]
     },
     "execution_count": 484,
     "metadata": {},
     "output_type": "execute_result"
    }
   ],
   "source": [
    "set(q)"
   ]
  },
  {
   "cell_type": "markdown",
   "id": "62513ff3",
   "metadata": {},
   "source": [
    "# JOIN (STRING METHOD)"
   ]
  },
  {
   "cell_type": "code",
   "execution_count": 485,
   "id": "2ab26b08",
   "metadata": {},
   "outputs": [],
   "source": [
    "x=[\"a\",\"b\",\"c\"]"
   ]
  },
  {
   "cell_type": "code",
   "execution_count": 486,
   "id": "84637640",
   "metadata": {},
   "outputs": [
    {
     "data": {
      "text/plain": [
       "'a@b@c'"
      ]
     },
     "execution_count": 486,
     "metadata": {},
     "output_type": "execute_result"
    }
   ],
   "source": [
    "\"@\".join(x)"
   ]
  },
  {
   "cell_type": "code",
   "execution_count": 78,
   "id": "f9c531c9",
   "metadata": {},
   "outputs": [],
   "source": [
    "x=[\"java\",\"python\",\"c++\"]"
   ]
  },
  {
   "cell_type": "code",
   "execution_count": 79,
   "id": "a2e8fc2d",
   "metadata": {},
   "outputs": [
    {
     "data": {
      "text/plain": [
       "'java python c++'"
      ]
     },
     "execution_count": 79,
     "metadata": {},
     "output_type": "execute_result"
    }
   ],
   "source": [
    "\" \".join(x)"
   ]
  },
  {
   "cell_type": "code",
   "execution_count": 80,
   "id": "b58df4c1",
   "metadata": {},
   "outputs": [
    {
     "data": {
      "text/plain": [
       "'java@python@c++'"
      ]
     },
     "execution_count": 80,
     "metadata": {},
     "output_type": "execute_result"
    }
   ],
   "source": [
    "\"@\".join(x)"
   ]
  },
  {
   "cell_type": "code",
   "execution_count": null,
   "id": "09e5c7e7",
   "metadata": {},
   "outputs": [],
   "source": [
    "x=\"\"\"Mahendra Singh Dhoni (/məˈheɪndrə ˈsɪŋ dhæˈnɪ/ (listen); born 7 July 1981) is an Indian professional cricketer who was captain of the Indian national cricket team in limited-overs formats from 2007 to 2017 and in Test cricket from 2008 to 2014. He is a right-handed wicket-keeper batsman.[3] He led the team to three ICC trophies including the 2007 ICC World Twenty20, 2011 ICC Cricket World Cup and 2013 ICC Champions Trophy. Under his captaincy, India won the Asia Cup two times, in 2010 and 2016. India also won ICC Test Championship Mace two times in 2010 and 2011 under his leadership. He is considered as one of the greatest Captains and Wicket Keeper-Batsmen of all time.[4][5][6][7][8][9] Throughout his 15 year long international career, Dhoni has won several awards and accolades.[10][11][12][13]\n",
    "\n",
    "In Indian domestic cricket he played for Bihar and Jharkhand Cricket team. He is the captain of Chennai Super Kings (CSK) in the Indian Premier League. He captained the side to championships in the 2010, 2011, 2018 and 2021 editions of IPL league. Also under his captaincy Chennai Super Kings (CSK) Won Champions League T20 two times, in 2010 and 2014\"\"\""
   ]
  },
  {
   "cell_type": "code",
   "execution_count": null,
   "id": "6bd3972f",
   "metadata": {},
   "outputs": [],
   "source": [
    "x"
   ]
  },
  {
   "cell_type": "code",
   "execution_count": null,
   "id": "f8708437",
   "metadata": {},
   "outputs": [],
   "source": [
    "#create a tuple and try to insert an element"
   ]
  },
  {
   "cell_type": "code",
   "execution_count": 75,
   "id": "75806dff",
   "metadata": {},
   "outputs": [
    {
     "name": "stdout",
     "output_type": "stream",
     "text": [
      "value of a 20\n",
      "value of b 25\n",
      "value of c 30\n",
      "20 25 30\n"
     ]
    }
   ],
   "source": [
    "x=input(\"value of a \")\n",
    "y=input(\"value of b \")\n",
    "z=input(\"value of c \")\n",
    "q=print(x,y,z)"
   ]
  },
  {
   "cell_type": "code",
   "execution_count": 81,
   "id": "64ef5d20",
   "metadata": {},
   "outputs": [],
   "source": [
    "x=[\"a\",\"b\",\"c\",\"d\"]"
   ]
  },
  {
   "cell_type": "code",
   "execution_count": 82,
   "id": "e64b6289",
   "metadata": {},
   "outputs": [
    {
     "data": {
      "text/plain": [
       "'aisbiscisd'"
      ]
     },
     "execution_count": 82,
     "metadata": {},
     "output_type": "execute_result"
    }
   ],
   "source": [
    "\"is\".join(x)"
   ]
  },
  {
   "cell_type": "markdown",
   "id": "9fdcc398",
   "metadata": {},
   "source": [
    "# ADD METHOD():THIS METHOD IS USED TO ADD NEW ELEMENTS IN A SET."
   ]
  },
  {
   "cell_type": "code",
   "execution_count": 8,
   "id": "96849f8a",
   "metadata": {},
   "outputs": [],
   "source": [
    "x={1,2,3,4}"
   ]
  },
  {
   "cell_type": "code",
   "execution_count": 9,
   "id": "6f6f6fd6",
   "metadata": {},
   "outputs": [],
   "source": [
    "x.add(\"abcd\")"
   ]
  },
  {
   "cell_type": "code",
   "execution_count": 10,
   "id": "48f3a5d6",
   "metadata": {},
   "outputs": [
    {
     "data": {
      "text/plain": [
       "{1, 2, 3, 4, 'abcd'}"
      ]
     },
     "execution_count": 10,
     "metadata": {},
     "output_type": "execute_result"
    }
   ],
   "source": [
    "x"
   ]
  },
  {
   "cell_type": "markdown",
   "id": "026ac81d",
   "metadata": {},
   "source": [
    "# UPDATE METHOD:IT IS USED TO INSERT ELEMENTS INSIDE A SET.WE CAN INSERT MULTIPLE ELEMENTS AT A TIME.string and all collection data type"
   ]
  },
  {
   "cell_type": "code",
   "execution_count": 11,
   "id": "eef5e27e",
   "metadata": {},
   "outputs": [],
   "source": [
    "x={1,2}"
   ]
  },
  {
   "cell_type": "code",
   "execution_count": 12,
   "id": "1c2e3273",
   "metadata": {},
   "outputs": [],
   "source": [
    "x.update([3,4,5,6])"
   ]
  },
  {
   "cell_type": "code",
   "execution_count": 13,
   "id": "3e4eba38",
   "metadata": {},
   "outputs": [
    {
     "data": {
      "text/plain": [
       "{1, 2, 3, 4, 5, 6}"
      ]
     },
     "execution_count": 13,
     "metadata": {},
     "output_type": "execute_result"
    }
   ],
   "source": [
    "x"
   ]
  },
  {
   "cell_type": "code",
   "execution_count": 14,
   "id": "1cf7d403",
   "metadata": {},
   "outputs": [],
   "source": [
    "x.update([13,14,15,16])"
   ]
  },
  {
   "cell_type": "code",
   "execution_count": 15,
   "id": "2069721e",
   "metadata": {},
   "outputs": [
    {
     "data": {
      "text/plain": [
       "{1, 2, 3, 4, 5, 6, 13, 14, 15, 16}"
      ]
     },
     "execution_count": 15,
     "metadata": {},
     "output_type": "execute_result"
    }
   ],
   "source": [
    "x"
   ]
  },
  {
   "cell_type": "code",
   "execution_count": 16,
   "id": "46a512df",
   "metadata": {},
   "outputs": [],
   "source": [
    "x.update(\"abcdef\")"
   ]
  },
  {
   "cell_type": "code",
   "execution_count": 17,
   "id": "7e35e827",
   "metadata": {},
   "outputs": [
    {
     "data": {
      "text/plain": [
       "{1, 13, 14, 15, 16, 2, 3, 4, 5, 6, 'a', 'b', 'c', 'd', 'e', 'f'}"
      ]
     },
     "execution_count": 17,
     "metadata": {},
     "output_type": "execute_result"
    }
   ],
   "source": [
    "x"
   ]
  },
  {
   "cell_type": "markdown",
   "id": "5d619086",
   "metadata": {},
   "source": [
    "# REMOVE METHOD():REMOVE THE ELEMENTS INSIDE A SET"
   ]
  },
  {
   "cell_type": "code",
   "execution_count": 18,
   "id": "4e755911",
   "metadata": {},
   "outputs": [],
   "source": [
    "x.remove(\"b\")"
   ]
  },
  {
   "cell_type": "code",
   "execution_count": 19,
   "id": "18497d87",
   "metadata": {},
   "outputs": [
    {
     "data": {
      "text/plain": [
       "{1, 13, 14, 15, 16, 2, 3, 4, 5, 6, 'a', 'c', 'd', 'e', 'f'}"
      ]
     },
     "execution_count": 19,
     "metadata": {},
     "output_type": "execute_result"
    }
   ],
   "source": [
    "x"
   ]
  },
  {
   "cell_type": "markdown",
   "id": "784270e5",
   "metadata": {},
   "source": [
    "# discard method:"
   ]
  },
  {
   "cell_type": "code",
   "execution_count": 20,
   "id": "85628bd1",
   "metadata": {},
   "outputs": [],
   "source": [
    "x.discard(\"d\")"
   ]
  },
  {
   "cell_type": "code",
   "execution_count": 21,
   "id": "dd61f14f",
   "metadata": {},
   "outputs": [
    {
     "data": {
      "text/plain": [
       "{1, 13, 14, 15, 16, 2, 3, 4, 5, 6, 'a', 'c', 'e', 'f'}"
      ]
     },
     "execution_count": 21,
     "metadata": {},
     "output_type": "execute_result"
    }
   ],
   "source": [
    "x"
   ]
  },
  {
   "cell_type": "code",
   "execution_count": 24,
   "id": "6fc6a7c6",
   "metadata": {},
   "outputs": [],
   "source": [
    "x.discard(5)"
   ]
  },
  {
   "cell_type": "code",
   "execution_count": 25,
   "id": "639b388a",
   "metadata": {},
   "outputs": [
    {
     "data": {
      "text/plain": [
       "{1, 13, 14, 15, 16, 2, 3, 4, 6, 'a', 'c', 'e', 'f'}"
      ]
     },
     "execution_count": 25,
     "metadata": {},
     "output_type": "execute_result"
    }
   ],
   "source": [
    "x"
   ]
  },
  {
   "cell_type": "markdown",
   "id": "1eb9f3b0",
   "metadata": {},
   "source": [
    "# pop():"
   ]
  },
  {
   "cell_type": "code",
   "execution_count": 25,
   "id": "0dc6a1e2",
   "metadata": {},
   "outputs": [
    {
     "data": {
      "text/plain": [
       "1"
      ]
     },
     "execution_count": 25,
     "metadata": {},
     "output_type": "execute_result"
    }
   ],
   "source": [
    "x.pop()"
   ]
  },
  {
   "cell_type": "code",
   "execution_count": 26,
   "id": "f5ebe9e8",
   "metadata": {},
   "outputs": [
    {
     "data": {
      "text/plain": [
       "{13, 14, 15, 16, 2, 3, 4, 5, 6, 'a', 'c', 'e', 'f'}"
      ]
     },
     "execution_count": 26,
     "metadata": {},
     "output_type": "execute_result"
    }
   ],
   "source": [
    "x"
   ]
  },
  {
   "cell_type": "markdown",
   "id": "08512a99",
   "metadata": {},
   "source": [
    "# clear():"
   ]
  },
  {
   "cell_type": "code",
   "execution_count": 27,
   "id": "e68153b8",
   "metadata": {},
   "outputs": [],
   "source": [
    "x.clear()"
   ]
  },
  {
   "cell_type": "code",
   "execution_count": 28,
   "id": "914cfba8",
   "metadata": {},
   "outputs": [
    {
     "data": {
      "text/plain": [
       "set()"
      ]
     },
     "execution_count": 28,
     "metadata": {},
     "output_type": "execute_result"
    }
   ],
   "source": [
    "x"
   ]
  },
  {
   "cell_type": "code",
   "execution_count": 29,
   "id": "762cf229",
   "metadata": {},
   "outputs": [],
   "source": [
    "x=[]"
   ]
  },
  {
   "cell_type": "code",
   "execution_count": 30,
   "id": "3bdb463c",
   "metadata": {},
   "outputs": [
    {
     "data": {
      "text/plain": [
       "[]"
      ]
     },
     "execution_count": 30,
     "metadata": {},
     "output_type": "execute_result"
    }
   ],
   "source": [
    "x"
   ]
  },
  {
   "cell_type": "code",
   "execution_count": 31,
   "id": "eaf3c300",
   "metadata": {},
   "outputs": [
    {
     "data": {
      "text/plain": [
       "list"
      ]
     },
     "execution_count": 31,
     "metadata": {},
     "output_type": "execute_result"
    }
   ],
   "source": [
    "type(x)"
   ]
  },
  {
   "cell_type": "code",
   "execution_count": 32,
   "id": "9ce41047",
   "metadata": {},
   "outputs": [
    {
     "data": {
      "text/plain": [
       "tuple"
      ]
     },
     "execution_count": 32,
     "metadata": {},
     "output_type": "execute_result"
    }
   ],
   "source": [
    "y=()\n",
    "type(y)"
   ]
  },
  {
   "cell_type": "code",
   "execution_count": 33,
   "id": "50831ccb",
   "metadata": {},
   "outputs": [
    {
     "data": {
      "text/plain": [
       "dict"
      ]
     },
     "execution_count": 33,
     "metadata": {},
     "output_type": "execute_result"
    }
   ],
   "source": [
    "z={}\n",
    "type(z)"
   ]
  },
  {
   "cell_type": "code",
   "execution_count": 34,
   "id": "096a5b97",
   "metadata": {},
   "outputs": [
    {
     "data": {
      "text/plain": [
       "set"
      ]
     },
     "execution_count": 34,
     "metadata": {},
     "output_type": "execute_result"
    }
   ],
   "source": [
    "a=set()\n",
    "type(a)"
   ]
  },
  {
   "cell_type": "markdown",
   "id": "c912fe7a",
   "metadata": {},
   "source": [
    "# union"
   ]
  },
  {
   "cell_type": "code",
   "execution_count": 35,
   "id": "13c7d07b",
   "metadata": {},
   "outputs": [],
   "source": [
    "x={1,2,3,4}\n",
    "y={5,6,7,8}"
   ]
  },
  {
   "cell_type": "code",
   "execution_count": 40,
   "id": "f4356b77",
   "metadata": {},
   "outputs": [],
   "source": [
    "z=x.union(y)"
   ]
  },
  {
   "cell_type": "code",
   "execution_count": 37,
   "id": "5f380a3c",
   "metadata": {},
   "outputs": [
    {
     "data": {
      "text/plain": [
       "{1, 2, 3, 4, 5, 6, 7, 8}"
      ]
     },
     "execution_count": 37,
     "metadata": {},
     "output_type": "execute_result"
    }
   ],
   "source": [
    "z"
   ]
  },
  {
   "cell_type": "code",
   "execution_count": 38,
   "id": "47249882",
   "metadata": {},
   "outputs": [],
   "source": [
    "z.update()"
   ]
  },
  {
   "cell_type": "code",
   "execution_count": 39,
   "id": "14c4ce77",
   "metadata": {},
   "outputs": [
    {
     "data": {
      "text/plain": [
       "{1, 2, 3, 4, 5, 6, 7, 8}"
      ]
     },
     "execution_count": 39,
     "metadata": {},
     "output_type": "execute_result"
    }
   ],
   "source": [
    "z"
   ]
  },
  {
   "cell_type": "code",
   "execution_count": 41,
   "id": "6ea8a5cb",
   "metadata": {},
   "outputs": [],
   "source": [
    "y.update(x)"
   ]
  },
  {
   "cell_type": "code",
   "execution_count": 42,
   "id": "ab018a9d",
   "metadata": {},
   "outputs": [
    {
     "data": {
      "text/plain": [
       "{1, 2, 3, 4}"
      ]
     },
     "execution_count": 42,
     "metadata": {},
     "output_type": "execute_result"
    }
   ],
   "source": [
    "x"
   ]
  },
  {
   "cell_type": "code",
   "execution_count": 43,
   "id": "282a1d8d",
   "metadata": {},
   "outputs": [
    {
     "data": {
      "text/plain": [
       "{1, 2, 3, 4, 5, 6, 7, 8}"
      ]
     },
     "execution_count": 43,
     "metadata": {},
     "output_type": "execute_result"
    }
   ],
   "source": [
    "y"
   ]
  },
  {
   "cell_type": "markdown",
   "id": "b88a7fae",
   "metadata": {},
   "source": [
    "# intersection"
   ]
  },
  {
   "cell_type": "code",
   "execution_count": 44,
   "id": "916218ae",
   "metadata": {},
   "outputs": [
    {
     "data": {
      "text/plain": [
       "{1, 2, 3, 4}"
      ]
     },
     "execution_count": 44,
     "metadata": {},
     "output_type": "execute_result"
    }
   ],
   "source": [
    "x.intersection(y)"
   ]
  },
  {
   "cell_type": "code",
   "execution_count": 45,
   "id": "4b7bde61",
   "metadata": {},
   "outputs": [],
   "source": [
    "s=x.intersection(y)"
   ]
  },
  {
   "cell_type": "code",
   "execution_count": 46,
   "id": "f4c6b70f",
   "metadata": {},
   "outputs": [
    {
     "data": {
      "text/plain": [
       "{1, 2, 3, 4}"
      ]
     },
     "execution_count": 46,
     "metadata": {},
     "output_type": "execute_result"
    }
   ],
   "source": [
    "s"
   ]
  },
  {
   "cell_type": "code",
   "execution_count": 47,
   "id": "d13f0397",
   "metadata": {},
   "outputs": [
    {
     "data": {
      "text/plain": [
       "{1, 2, 3, 4}"
      ]
     },
     "execution_count": 47,
     "metadata": {},
     "output_type": "execute_result"
    }
   ],
   "source": [
    "x"
   ]
  },
  {
   "cell_type": "code",
   "execution_count": 48,
   "id": "f74e57bf",
   "metadata": {},
   "outputs": [
    {
     "data": {
      "text/plain": [
       "{1, 2, 3, 4, 5, 6, 7, 8}"
      ]
     },
     "execution_count": 48,
     "metadata": {},
     "output_type": "execute_result"
    }
   ],
   "source": [
    "y"
   ]
  },
  {
   "cell_type": "code",
   "execution_count": 49,
   "id": "e7cde85d",
   "metadata": {},
   "outputs": [],
   "source": [
    "y.intersection_update(x)"
   ]
  },
  {
   "cell_type": "code",
   "execution_count": 50,
   "id": "20af940f",
   "metadata": {},
   "outputs": [
    {
     "data": {
      "text/plain": [
       "{1, 2, 3, 4}"
      ]
     },
     "execution_count": 50,
     "metadata": {},
     "output_type": "execute_result"
    }
   ],
   "source": [
    "y"
   ]
  },
  {
   "cell_type": "code",
   "execution_count": 61,
   "id": "ab76da66",
   "metadata": {},
   "outputs": [],
   "source": [
    "x1={1,2,3,4,5,6}\n",
    "x2={6,7,8,9,1,2}"
   ]
  },
  {
   "cell_type": "code",
   "execution_count": 62,
   "id": "9d035c91",
   "metadata": {},
   "outputs": [],
   "source": [
    "z=x2.union(x1)"
   ]
  },
  {
   "cell_type": "code",
   "execution_count": 63,
   "id": "b6cf8540",
   "metadata": {},
   "outputs": [
    {
     "data": {
      "text/plain": [
       "{1, 2, 3, 4, 5, 6, 7, 8, 9}"
      ]
     },
     "execution_count": 63,
     "metadata": {},
     "output_type": "execute_result"
    }
   ],
   "source": [
    "z"
   ]
  },
  {
   "cell_type": "markdown",
   "id": "0b3400a8",
   "metadata": {},
   "source": [
    "# DICTIONARY"
   ]
  },
  {
   "cell_type": "code",
   "execution_count": 4,
   "id": "c795c9d1",
   "metadata": {},
   "outputs": [],
   "source": [
    "x={\"name\":\"gnaneshwari\",\"age\":25,\"phonenumber\":1264,\"height\":152.2}"
   ]
  },
  {
   "cell_type": "code",
   "execution_count": 5,
   "id": "e5fc49c6",
   "metadata": {},
   "outputs": [
    {
     "data": {
      "text/plain": [
       "dict"
      ]
     },
     "execution_count": 5,
     "metadata": {},
     "output_type": "execute_result"
    }
   ],
   "source": [
    "type(x)"
   ]
  },
  {
   "cell_type": "code",
   "execution_count": 6,
   "id": "9d46cc28",
   "metadata": {},
   "outputs": [
    {
     "data": {
      "text/plain": [
       "{'name': 'gnaneshwari', 'age': 25, 'phonenumber': 1264, 'height': 152.2}"
      ]
     },
     "execution_count": 6,
     "metadata": {},
     "output_type": "execute_result"
    }
   ],
   "source": [
    "x"
   ]
  },
  {
   "cell_type": "code",
   "execution_count": 7,
   "id": "76e9e0f4",
   "metadata": {},
   "outputs": [
    {
     "data": {
      "text/plain": [
       "dict_keys(['name', 'age', 'phonenumber', 'height'])"
      ]
     },
     "execution_count": 7,
     "metadata": {},
     "output_type": "execute_result"
    }
   ],
   "source": [
    "x.keys()"
   ]
  },
  {
   "cell_type": "code",
   "execution_count": 8,
   "id": "c4fa96d3",
   "metadata": {},
   "outputs": [
    {
     "data": {
      "text/plain": [
       "dict_values(['gnaneshwari', 25, 1264, 152.2])"
      ]
     },
     "execution_count": 8,
     "metadata": {},
     "output_type": "execute_result"
    }
   ],
   "source": [
    "x.values()"
   ]
  },
  {
   "cell_type": "code",
   "execution_count": 9,
   "id": "51994a15",
   "metadata": {},
   "outputs": [
    {
     "data": {
      "text/plain": [
       "dict_items([('name', 'gnaneshwari'), ('age', 25), ('phonenumber', 1264), ('height', 152.2)])"
      ]
     },
     "execution_count": 9,
     "metadata": {},
     "output_type": "execute_result"
    }
   ],
   "source": [
    "x.items()"
   ]
  },
  {
   "cell_type": "code",
   "execution_count": 10,
   "id": "1ecce7e1",
   "metadata": {},
   "outputs": [
    {
     "data": {
      "text/plain": [
       "25"
      ]
     },
     "execution_count": 10,
     "metadata": {},
     "output_type": "execute_result"
    }
   ],
   "source": [
    "x[\"age\"]"
   ]
  },
  {
   "cell_type": "code",
   "execution_count": 11,
   "id": "351cfd4f",
   "metadata": {},
   "outputs": [
    {
     "data": {
      "text/plain": [
       "152.2"
      ]
     },
     "execution_count": 11,
     "metadata": {},
     "output_type": "execute_result"
    }
   ],
   "source": [
    "x[\"height\"]"
   ]
  },
  {
   "cell_type": "code",
   "execution_count": 12,
   "id": "18b8d055",
   "metadata": {},
   "outputs": [
    {
     "data": {
      "text/plain": [
       "'gnaneshwari'"
      ]
     },
     "execution_count": 12,
     "metadata": {},
     "output_type": "execute_result"
    }
   ],
   "source": [
    "x[\"name\"]"
   ]
  },
  {
   "cell_type": "code",
   "execution_count": 13,
   "id": "f6c04fcf",
   "metadata": {},
   "outputs": [],
   "source": [
    "x[\"age\"]=29"
   ]
  },
  {
   "cell_type": "code",
   "execution_count": 14,
   "id": "e648e23f",
   "metadata": {},
   "outputs": [
    {
     "data": {
      "text/plain": [
       "{'name': 'gnaneshwari', 'age': 29, 'phonenumber': 1264, 'height': 152.2}"
      ]
     },
     "execution_count": 14,
     "metadata": {},
     "output_type": "execute_result"
    }
   ],
   "source": [
    "x"
   ]
  },
  {
   "cell_type": "code",
   "execution_count": 15,
   "id": "f323ac7d",
   "metadata": {},
   "outputs": [],
   "source": [
    "x[\"height\"]=56.3"
   ]
  },
  {
   "cell_type": "code",
   "execution_count": 16,
   "id": "d6d17f1a",
   "metadata": {},
   "outputs": [
    {
     "data": {
      "text/plain": [
       "{'name': 'gnaneshwari', 'age': 29, 'phonenumber': 1264, 'height': 56.3}"
      ]
     },
     "execution_count": 16,
     "metadata": {},
     "output_type": "execute_result"
    }
   ],
   "source": [
    "x"
   ]
  },
  {
   "cell_type": "code",
   "execution_count": 17,
   "id": "2929dd0e",
   "metadata": {},
   "outputs": [],
   "source": [
    "x[\"weight\"]=55.2"
   ]
  },
  {
   "cell_type": "code",
   "execution_count": 18,
   "id": "8ca545ec",
   "metadata": {},
   "outputs": [
    {
     "data": {
      "text/plain": [
       "{'name': 'gnaneshwari',\n",
       " 'age': 29,\n",
       " 'phonenumber': 1264,\n",
       " 'height': 56.3,\n",
       " 'weight': 55.2}"
      ]
     },
     "execution_count": 18,
     "metadata": {},
     "output_type": "execute_result"
    }
   ],
   "source": [
    "x"
   ]
  },
  {
   "cell_type": "code",
   "execution_count": 19,
   "id": "3ac32697",
   "metadata": {},
   "outputs": [],
   "source": [
    "x[\"weight\"]=56.2"
   ]
  },
  {
   "cell_type": "code",
   "execution_count": 20,
   "id": "a5302ca6",
   "metadata": {},
   "outputs": [
    {
     "data": {
      "text/plain": [
       "{'name': 'gnaneshwari',\n",
       " 'age': 29,\n",
       " 'phonenumber': 1264,\n",
       " 'height': 56.3,\n",
       " 'weight': 56.2}"
      ]
     },
     "execution_count": 20,
     "metadata": {},
     "output_type": "execute_result"
    }
   ],
   "source": [
    "x"
   ]
  },
  {
   "cell_type": "code",
   "execution_count": 21,
   "id": "962901cb",
   "metadata": {},
   "outputs": [],
   "source": [
    "del x['phonenumber']"
   ]
  },
  {
   "cell_type": "code",
   "execution_count": 22,
   "id": "c258aec0",
   "metadata": {},
   "outputs": [
    {
     "data": {
      "text/plain": [
       "{'name': 'gnaneshwari', 'age': 29, 'height': 56.3, 'weight': 56.2}"
      ]
     },
     "execution_count": 22,
     "metadata": {},
     "output_type": "execute_result"
    }
   ],
   "source": [
    "x"
   ]
  },
  {
   "cell_type": "markdown",
   "id": "b97db7e9",
   "metadata": {},
   "source": [
    "# update():dictionaries"
   ]
  },
  {
   "cell_type": "code",
   "execution_count": 23,
   "id": "a3827bd3",
   "metadata": {},
   "outputs": [
    {
     "data": {
      "text/plain": [
       "{'name': 'gnaneshwari', 'age': 29, 'height': 56.3, 'weight': 56.2}"
      ]
     },
     "execution_count": 23,
     "metadata": {},
     "output_type": "execute_result"
    }
   ],
   "source": [
    "x"
   ]
  },
  {
   "cell_type": "code",
   "execution_count": 24,
   "id": "39142b20",
   "metadata": {},
   "outputs": [],
   "source": [
    "x.update({'name': 'gnaneshwari', 'age': 27, 'height': 152.5, 'weight': 156.2})"
   ]
  },
  {
   "cell_type": "code",
   "execution_count": 25,
   "id": "582cc282",
   "metadata": {},
   "outputs": [
    {
     "data": {
      "text/plain": [
       "{'name': 'gnaneshwari', 'age': 27, 'height': 152.5, 'weight': 156.2}"
      ]
     },
     "execution_count": 25,
     "metadata": {},
     "output_type": "execute_result"
    }
   ],
   "source": [
    "x"
   ]
  },
  {
   "cell_type": "code",
   "execution_count": 26,
   "id": "58b922f1",
   "metadata": {},
   "outputs": [],
   "source": [
    "x.update({\"aa\":12,\"ab\":20,\"abc\":30})"
   ]
  },
  {
   "cell_type": "code",
   "execution_count": 27,
   "id": "bfa34f58",
   "metadata": {},
   "outputs": [
    {
     "data": {
      "text/plain": [
       "{'name': 'gnaneshwari',\n",
       " 'age': 27,\n",
       " 'height': 152.5,\n",
       " 'weight': 156.2,\n",
       " 'aa': 12,\n",
       " 'ab': 20,\n",
       " 'abc': 30}"
      ]
     },
     "execution_count": 27,
     "metadata": {},
     "output_type": "execute_result"
    }
   ],
   "source": [
    "x"
   ]
  },
  {
   "cell_type": "markdown",
   "id": "767ce479",
   "metadata": {},
   "source": [
    "# get method"
   ]
  },
  {
   "cell_type": "code",
   "execution_count": 28,
   "id": "3937d002",
   "metadata": {},
   "outputs": [
    {
     "data": {
      "text/plain": [
       "'gnaneshwari'"
      ]
     },
     "execution_count": 28,
     "metadata": {},
     "output_type": "execute_result"
    }
   ],
   "source": [
    "x.get(\"name\")"
   ]
  },
  {
   "cell_type": "code",
   "execution_count": 29,
   "id": "7b7a0687",
   "metadata": {},
   "outputs": [
    {
     "data": {
      "text/plain": [
       "27"
      ]
     },
     "execution_count": 29,
     "metadata": {},
     "output_type": "execute_result"
    }
   ],
   "source": [
    "x.get(\"age\")"
   ]
  },
  {
   "cell_type": "code",
   "execution_count": 30,
   "id": "a3dc0957",
   "metadata": {},
   "outputs": [
    {
     "data": {
      "text/plain": [
       "20"
      ]
     },
     "execution_count": 30,
     "metadata": {},
     "output_type": "execute_result"
    }
   ],
   "source": [
    "x.get(\"ab\")"
   ]
  },
  {
   "cell_type": "code",
   "execution_count": 31,
   "id": "28835906",
   "metadata": {},
   "outputs": [],
   "source": [
    "x.clear()"
   ]
  },
  {
   "cell_type": "code",
   "execution_count": 32,
   "id": "114931c8",
   "metadata": {},
   "outputs": [
    {
     "data": {
      "text/plain": [
       "{}"
      ]
     },
     "execution_count": 32,
     "metadata": {},
     "output_type": "execute_result"
    }
   ],
   "source": [
    "x"
   ]
  },
  {
   "cell_type": "code",
   "execution_count": 33,
   "id": "95b6f7d9",
   "metadata": {},
   "outputs": [],
   "source": [
    "x={1,2,3}\n",
    "y=x.copy()"
   ]
  },
  {
   "cell_type": "code",
   "execution_count": 34,
   "id": "7e068b7d",
   "metadata": {},
   "outputs": [
    {
     "data": {
      "text/plain": [
       "{1, 2, 3}"
      ]
     },
     "execution_count": 34,
     "metadata": {},
     "output_type": "execute_result"
    }
   ],
   "source": [
    "y"
   ]
  },
  {
   "cell_type": "code",
   "execution_count": 45,
   "id": "6efbd8e5",
   "metadata": {},
   "outputs": [],
   "source": [
    "z={\"a\",\"b\",\"c\",\"d\"}"
   ]
  },
  {
   "cell_type": "code",
   "execution_count": 46,
   "id": "f7b87163",
   "metadata": {},
   "outputs": [
    {
     "data": {
      "text/plain": [
       "{'a', 'b', 'c', 'd'}"
      ]
     },
     "execution_count": 46,
     "metadata": {},
     "output_type": "execute_result"
    }
   ],
   "source": [
    "z"
   ]
  },
  {
   "cell_type": "code",
   "execution_count": 43,
   "id": "c2ee96bf",
   "metadata": {},
   "outputs": [],
   "source": [
    "r=z.copy()"
   ]
  },
  {
   "cell_type": "code",
   "execution_count": 44,
   "id": "1ef10524",
   "metadata": {},
   "outputs": [
    {
     "data": {
      "text/plain": [
       "{'a', 'b', 'c', 'd'}"
      ]
     },
     "execution_count": 44,
     "metadata": {},
     "output_type": "execute_result"
    }
   ],
   "source": [
    "r"
   ]
  },
  {
   "cell_type": "code",
   "execution_count": 55,
   "id": "a85daf96",
   "metadata": {},
   "outputs": [],
   "source": [
    "x={\"gnaneshwari\",\"sreekanth\",\"lalitha\",\"sreenivasulu\",\"anasuyamma\"}"
   ]
  },
  {
   "cell_type": "code",
   "execution_count": 56,
   "id": "3f182af9",
   "metadata": {},
   "outputs": [
    {
     "data": {
      "text/plain": [
       "{'anasuyamma', 'gnaneshwari', 'lalitha', 'sreekanth', 'sreenivasulu'}"
      ]
     },
     "execution_count": 56,
     "metadata": {},
     "output_type": "execute_result"
    }
   ],
   "source": [
    "x"
   ]
  },
  {
   "cell_type": "code",
   "execution_count": 57,
   "id": "9092d6f5",
   "metadata": {},
   "outputs": [],
   "source": [
    "y=x.copy()"
   ]
  },
  {
   "cell_type": "code",
   "execution_count": 58,
   "id": "3e93a6f6",
   "metadata": {},
   "outputs": [
    {
     "data": {
      "text/plain": [
       "{'anasuyamma', 'gnaneshwari', 'lalitha', 'sreekanth', 'sreenivasulu'}"
      ]
     },
     "execution_count": 58,
     "metadata": {},
     "output_type": "execute_result"
    }
   ],
   "source": [
    "y"
   ]
  },
  {
   "cell_type": "code",
   "execution_count": null,
   "id": "20bc8653",
   "metadata": {},
   "outputs": [],
   "source": []
  }
 ],
 "metadata": {
  "kernelspec": {
   "display_name": "Python 3 (ipykernel)",
   "language": "python",
   "name": "python3"
  },
  "language_info": {
   "codemirror_mode": {
    "name": "ipython",
    "version": 3
   },
   "file_extension": ".py",
   "mimetype": "text/x-python",
   "name": "python",
   "nbconvert_exporter": "python",
   "pygments_lexer": "ipython3",
   "version": "3.9.12"
  }
 },
 "nbformat": 4,
 "nbformat_minor": 5
}
